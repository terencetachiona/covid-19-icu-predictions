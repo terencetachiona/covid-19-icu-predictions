{
  "nbformat": 4,
  "nbformat_minor": 0,
  "metadata": {
    "kernelspec": {
      "display_name": "Python 3",
      "language": "python",
      "name": "python3"
    },
    "language_info": {
      "codemirror_mode": {
        "name": "ipython",
        "version": 3
      },
      "file_extension": ".py",
      "mimetype": "text/x-python",
      "name": "python",
      "nbconvert_exporter": "python",
      "pygments_lexer": "ipython3",
      "version": "3.7.6"
    },
    "colab": {
      "name": "Terence Tachiona Data Scientist Practical Assessment_Task 2.ipynb",
      "provenance": [],
      "include_colab_link": true
    }
  },
  
    {
      "cell_type": "markdown",
      "metadata": {
        "id": "75Hr7wsGZ3za",
        "colab_type": "text"
      },
      "source": [
        "## Task 2: Predict NOT admission to the ICU of confirmed COVID-19 cases.\n",
        "Based on the subsample of widely available data, is it feasible to predict which patients will need intensive care unit support?\n",
        "\n",
        "\n",
        "\n"
      ]
    },
    {
      "cell_type": "markdown",
      "metadata": {
        "id": "f6XLGUHIZ3zc",
        "colab_type": "text"
      },
      "source": [
        "### 1. Introduction"
      ]
    },
    {
      "cell_type": "markdown",
      "metadata": {
        "id": "GML6SbUwZ3ze",
        "colab_type": "text"
      },
      "source": [
        "Frontline health workers in any setting need to define as soon and as safely as possible which COVID-19 patients won't need ICU admission.\n",
        "\n",
        "This would allow them to take better decisions like safely discharging, reducing hospital overcrowding and other undesired outcomes."
      ]
    },
    {
      "cell_type": "markdown",
      "metadata": {
        "id": "vLM2Zlc4Z3zf",
        "colab_type": "text"
      },
      "source": [
        "### 2. Aim"
      ]
    },
    {
      "cell_type": "markdown",
      "metadata": {
        "id": "i-wm9vwrZ3zg",
        "colab_type": "text"
      },
      "source": [
        "To predict which COVID-19 patients won't be addmitted to the ICU using only demographics and vital signs from early windows."
      ]
    },
    {
      "cell_type": "code",
      "metadata": {
        "_kg_hide-input": true,
        "_kg_hide-output": true,
        "id": "yBD8d0ghZ3zi",
        "colab_type": "code",
        "colab": {
          "resources": {
            "http://localhost:8080/nbextensions/google.colab/files.js": {
              "data": "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",
              "ok": true,
              "headers": [
                [
                  "content-type",
                  "application/javascript"
                ]
              ],
              "status": 200,
              "status_text": ""
            }
          },
          "base_uri": "https://localhost:8080/",
          "height": 126
        },
        "outputId": "2efbbd3e-2e9a-4463-a0b9-88afb97da0a1"
      },
      "source": [
        "import pandas as pd\n",
        "import numpy as np\n",
        "import matplotlib.pyplot as plt\n",
        "import seaborn as sns\n",
        "\n",
        "from sklearn.model_selection import train_test_split, cross_val_score, GridSearchCV\n",
        "from sklearn.metrics import accuracy_score, roc_auc_score, recall_score, make_scorer\n",
        "from sklearn.preprocessing import MinMaxScaler\n",
        "\n",
        "from sklearn.ensemble import RandomForestClassifier\n",
        "#Use to import the file into google Colab drive\n",
        "from google.colab import files \n",
        "#Use to import io, which opens the file from the Colab drive\n",
        "\n",
        "# This will open a widget when run that will enable you to browse the files on your local storage drive.\n",
        "uploaded = files.upload()\n",
        "\n"
      ],
      "execution_count": 1,
      "outputs": [
        {
          "output_type": "stream",
          "text": [
            "/usr/local/lib/python3.6/dist-packages/statsmodels/tools/_testing.py:19: FutureWarning: pandas.util.testing is deprecated. Use the functions in the public API at pandas.testing instead.\n",
            "  import pandas.util.testing as tm\n"
          ],
          "name": "stderr"
        },
        {
          "output_type": "display_data",
          "data": {
            "text/html": [
              "\n",
              "     <input type=\"file\" id=\"files-5273468a-5c1a-49b8-acd0-0dd357d954d5\" name=\"files[]\" multiple disabled\n",
              "        style=\"border:none\" />\n",
              "     <output id=\"result-5273468a-5c1a-49b8-acd0-0dd357d954d5\">\n",
              "      Upload widget is only available when the cell has been executed in the\n",
              "      current browser session. Please rerun this cell to enable.\n",
              "      </output>\n",
              "      <script src=\"/nbextensions/google.colab/files.js\"></script> "
            ],
            "text/plain": [
              "<IPython.core.display.HTML object>"
            ]
          },
          "metadata": {
            "tags": []
          }
        },
        {
          "output_type": "stream",
          "text": [
            "Saving Min_of_Health_Covid19_ICU_Prediction.xlsx to Min_of_Health_Covid19_ICU_Prediction.xlsx\n"
          ],
          "name": "stdout"
        }
      ]
    },
    {
      "cell_type": "code",
      "metadata": {
        "id": "2mafRVuTax5p",
        "colab_type": "code",
        "colab": {
          "base_uri": "https://localhost:8080/",
          "height": 442
        },
        "outputId": "f4187d5f-c7f8-4499-ffe3-75fe06894aa5"
      },
      "source": [
        "raw_data = pd.read_excel(uploaded['Min_of_Health_Covid19_ICU_Prediction.xlsx'])\n",
        "raw_data.sample(10)"
      ],
      "execution_count": 3,
      "outputs": [
        {
          "output_type": "execute_result",
          "data": {
            "text/html": [
              "<div>\n",
              "<style scoped>\n",
              "    .dataframe tbody tr th:only-of-type {\n",
              "        vertical-align: middle;\n",
              "    }\n",
              "\n",
              "    .dataframe tbody tr th {\n",
              "        vertical-align: top;\n",
              "    }\n",
              "\n",
              "    .dataframe thead th {\n",
              "        text-align: right;\n",
              "    }\n",
              "</style>\n",
              "<table border=\"1\" class=\"dataframe\">\n",
              "  <thead>\n",
              "    <tr style=\"text-align: right;\">\n",
              "      <th></th>\n",
              "      <th>PATIENT_VISIT_IDENTIFIER</th>\n",
              "      <th>AGE_ABOVE65</th>\n",
              "      <th>AGE_PERCENTIL</th>\n",
              "      <th>GENDER</th>\n",
              "      <th>DISEASE GROUPING 1</th>\n",
              "      <th>DISEASE GROUPING 2</th>\n",
              "      <th>DISEASE GROUPING 3</th>\n",
              "      <th>DISEASE GROUPING 4</th>\n",
              "      <th>DISEASE GROUPING 5</th>\n",
              "      <th>DISEASE GROUPING 6</th>\n",
              "      <th>HTN</th>\n",
              "      <th>IMMUNOCOMPROMISED</th>\n",
              "      <th>OTHER</th>\n",
              "      <th>ALBUMIN_MEDIAN</th>\n",
              "      <th>ALBUMIN_MEAN</th>\n",
              "      <th>ALBUMIN_MIN</th>\n",
              "      <th>ALBUMIN_MAX</th>\n",
              "      <th>ALBUMIN_DIFF</th>\n",
              "      <th>BE_ARTERIAL_MEDIAN</th>\n",
              "      <th>BE_ARTERIAL_MEAN</th>\n",
              "      <th>BE_ARTERIAL_MIN</th>\n",
              "      <th>BE_ARTERIAL_MAX</th>\n",
              "      <th>BE_ARTERIAL_DIFF</th>\n",
              "      <th>BE_VENOUS_MEDIAN</th>\n",
              "      <th>BE_VENOUS_MEAN</th>\n",
              "      <th>BE_VENOUS_MIN</th>\n",
              "      <th>BE_VENOUS_MAX</th>\n",
              "      <th>BE_VENOUS_DIFF</th>\n",
              "      <th>BIC_ARTERIAL_MEDIAN</th>\n",
              "      <th>BIC_ARTERIAL_MEAN</th>\n",
              "      <th>BIC_ARTERIAL_MIN</th>\n",
              "      <th>BIC_ARTERIAL_MAX</th>\n",
              "      <th>BIC_ARTERIAL_DIFF</th>\n",
              "      <th>BIC_VENOUS_MEDIAN</th>\n",
              "      <th>BIC_VENOUS_MEAN</th>\n",
              "      <th>BIC_VENOUS_MIN</th>\n",
              "      <th>BIC_VENOUS_MAX</th>\n",
              "      <th>BIC_VENOUS_DIFF</th>\n",
              "      <th>BILLIRUBIN_MEDIAN</th>\n",
              "      <th>BILLIRUBIN_MEAN</th>\n",
              "      <th>...</th>\n",
              "      <th>DIMER_MAX</th>\n",
              "      <th>DIMER_DIFF</th>\n",
              "      <th>BLOODPRESSURE_DIASTOLIC_MEAN</th>\n",
              "      <th>BLOODPRESSURE_SISTOLIC_MEAN</th>\n",
              "      <th>HEART_RATE_MEAN</th>\n",
              "      <th>RESPIRATORY_RATE_MEAN</th>\n",
              "      <th>TEMPERATURE_MEAN</th>\n",
              "      <th>OXYGEN_SATURATION_MEAN</th>\n",
              "      <th>BLOODPRESSURE_DIASTOLIC_MEDIAN</th>\n",
              "      <th>BLOODPRESSURE_SISTOLIC_MEDIAN</th>\n",
              "      <th>HEART_RATE_MEDIAN</th>\n",
              "      <th>RESPIRATORY_RATE_MEDIAN</th>\n",
              "      <th>TEMPERATURE_MEDIAN</th>\n",
              "      <th>OXYGEN_SATURATION_MEDIAN</th>\n",
              "      <th>BLOODPRESSURE_DIASTOLIC_MIN</th>\n",
              "      <th>BLOODPRESSURE_SISTOLIC_MIN</th>\n",
              "      <th>HEART_RATE_MIN</th>\n",
              "      <th>RESPIRATORY_RATE_MIN</th>\n",
              "      <th>TEMPERATURE_MIN</th>\n",
              "      <th>OXYGEN_SATURATION_MIN</th>\n",
              "      <th>BLOODPRESSURE_DIASTOLIC_MAX</th>\n",
              "      <th>BLOODPRESSURE_SISTOLIC_MAX</th>\n",
              "      <th>HEART_RATE_MAX</th>\n",
              "      <th>RESPIRATORY_RATE_MAX</th>\n",
              "      <th>TEMPERATURE_MAX</th>\n",
              "      <th>OXYGEN_SATURATION_MAX</th>\n",
              "      <th>BLOODPRESSURE_DIASTOLIC_DIFF</th>\n",
              "      <th>BLOODPRESSURE_SISTOLIC_DIFF</th>\n",
              "      <th>HEART_RATE_DIFF</th>\n",
              "      <th>RESPIRATORY_RATE_DIFF</th>\n",
              "      <th>TEMPERATURE_DIFF</th>\n",
              "      <th>OXYGEN_SATURATION_DIFF</th>\n",
              "      <th>BLOODPRESSURE_DIASTOLIC_DIFF_REL</th>\n",
              "      <th>BLOODPRESSURE_SISTOLIC_DIFF_REL</th>\n",
              "      <th>HEART_RATE_DIFF_REL</th>\n",
              "      <th>RESPIRATORY_RATE_DIFF_REL</th>\n",
              "      <th>TEMPERATURE_DIFF_REL</th>\n",
              "      <th>OXYGEN_SATURATION_DIFF_REL</th>\n",
              "      <th>WINDOW</th>\n",
              "      <th>ICU</th>\n",
              "    </tr>\n",
              "  </thead>\n",
              "  <tbody>\n",
              "    <tr>\n",
              "      <th>1727</th>\n",
              "      <td>345</td>\n",
              "      <td>1</td>\n",
              "      <td>Above 90th</td>\n",
              "      <td>1</td>\n",
              "      <td>0.0</td>\n",
              "      <td>0.0</td>\n",
              "      <td>0.0</td>\n",
              "      <td>0.0</td>\n",
              "      <td>1.0</td>\n",
              "      <td>0.0</td>\n",
              "      <td>0.0</td>\n",
              "      <td>0.0</td>\n",
              "      <td>1.0</td>\n",
              "      <td>NaN</td>\n",
              "      <td>NaN</td>\n",
              "      <td>NaN</td>\n",
              "      <td>NaN</td>\n",
              "      <td>NaN</td>\n",
              "      <td>NaN</td>\n",
              "      <td>NaN</td>\n",
              "      <td>NaN</td>\n",
              "      <td>NaN</td>\n",
              "      <td>NaN</td>\n",
              "      <td>NaN</td>\n",
              "      <td>NaN</td>\n",
              "      <td>NaN</td>\n",
              "      <td>NaN</td>\n",
              "      <td>NaN</td>\n",
              "      <td>NaN</td>\n",
              "      <td>NaN</td>\n",
              "      <td>NaN</td>\n",
              "      <td>NaN</td>\n",
              "      <td>NaN</td>\n",
              "      <td>NaN</td>\n",
              "      <td>NaN</td>\n",
              "      <td>NaN</td>\n",
              "      <td>NaN</td>\n",
              "      <td>NaN</td>\n",
              "      <td>NaN</td>\n",
              "      <td>NaN</td>\n",
              "      <td>...</td>\n",
              "      <td>NaN</td>\n",
              "      <td>NaN</td>\n",
              "      <td>0.580247</td>\n",
              "      <td>-0.230769</td>\n",
              "      <td>-0.188679</td>\n",
              "      <td>-0.525424</td>\n",
              "      <td>-3.571429e-02</td>\n",
              "      <td>0.842105</td>\n",
              "      <td>0.580247</td>\n",
              "      <td>-0.230769</td>\n",
              "      <td>-0.188679</td>\n",
              "      <td>-0.517241</td>\n",
              "      <td>-0.035714</td>\n",
              "      <td>0.842105</td>\n",
              "      <td>0.649485</td>\n",
              "      <td>0.0000</td>\n",
              "      <td>-0.076923</td>\n",
              "      <td>-0.428571</td>\n",
              "      <td>0.362637</td>\n",
              "      <td>0.919192</td>\n",
              "      <td>0.094017</td>\n",
              "      <td>-0.459459</td>\n",
              "      <td>-0.358209</td>\n",
              "      <td>-0.575758</td>\n",
              "      <td>-0.217391</td>\n",
              "      <td>0.894737</td>\n",
              "      <td>-1.000000</td>\n",
              "      <td>-1.000000</td>\n",
              "      <td>-1.000000</td>\n",
              "      <td>-1.000000</td>\n",
              "      <td>-1.000000</td>\n",
              "      <td>-0.959596</td>\n",
              "      <td>-1.000000</td>\n",
              "      <td>-1.000000</td>\n",
              "      <td>-1.000000</td>\n",
              "      <td>-1.000000</td>\n",
              "      <td>-1.000000</td>\n",
              "      <td>-0.960463</td>\n",
              "      <td>4-6</td>\n",
              "      <td>0</td>\n",
              "    </tr>\n",
              "    <tr>\n",
              "      <th>183</th>\n",
              "      <td>36</td>\n",
              "      <td>1</td>\n",
              "      <td>70th</td>\n",
              "      <td>0</td>\n",
              "      <td>0.0</td>\n",
              "      <td>0.0</td>\n",
              "      <td>0.0</td>\n",
              "      <td>0.0</td>\n",
              "      <td>0.0</td>\n",
              "      <td>0.0</td>\n",
              "      <td>0.0</td>\n",
              "      <td>0.0</td>\n",
              "      <td>1.0</td>\n",
              "      <td>NaN</td>\n",
              "      <td>NaN</td>\n",
              "      <td>NaN</td>\n",
              "      <td>NaN</td>\n",
              "      <td>NaN</td>\n",
              "      <td>NaN</td>\n",
              "      <td>NaN</td>\n",
              "      <td>NaN</td>\n",
              "      <td>NaN</td>\n",
              "      <td>NaN</td>\n",
              "      <td>NaN</td>\n",
              "      <td>NaN</td>\n",
              "      <td>NaN</td>\n",
              "      <td>NaN</td>\n",
              "      <td>NaN</td>\n",
              "      <td>NaN</td>\n",
              "      <td>NaN</td>\n",
              "      <td>NaN</td>\n",
              "      <td>NaN</td>\n",
              "      <td>NaN</td>\n",
              "      <td>NaN</td>\n",
              "      <td>NaN</td>\n",
              "      <td>NaN</td>\n",
              "      <td>NaN</td>\n",
              "      <td>NaN</td>\n",
              "      <td>NaN</td>\n",
              "      <td>NaN</td>\n",
              "      <td>...</td>\n",
              "      <td>NaN</td>\n",
              "      <td>NaN</td>\n",
              "      <td>-0.209877</td>\n",
              "      <td>-0.153846</td>\n",
              "      <td>-0.037736</td>\n",
              "      <td>-0.254237</td>\n",
              "      <td>-3.571429e-02</td>\n",
              "      <td>0.684211</td>\n",
              "      <td>-0.209877</td>\n",
              "      <td>-0.153846</td>\n",
              "      <td>-0.037736</td>\n",
              "      <td>-0.241379</td>\n",
              "      <td>-0.035714</td>\n",
              "      <td>0.684211</td>\n",
              "      <td>-0.010309</td>\n",
              "      <td>0.0625</td>\n",
              "      <td>0.059829</td>\n",
              "      <td>-0.142857</td>\n",
              "      <td>0.362637</td>\n",
              "      <td>0.878788</td>\n",
              "      <td>-0.452991</td>\n",
              "      <td>-0.405405</td>\n",
              "      <td>-0.238806</td>\n",
              "      <td>-0.333333</td>\n",
              "      <td>-0.217391</td>\n",
              "      <td>0.684211</td>\n",
              "      <td>-1.000000</td>\n",
              "      <td>-1.000000</td>\n",
              "      <td>-1.000000</td>\n",
              "      <td>-1.000000</td>\n",
              "      <td>-1.000000</td>\n",
              "      <td>-1.000000</td>\n",
              "      <td>-1.000000</td>\n",
              "      <td>-1.000000</td>\n",
              "      <td>-1.000000</td>\n",
              "      <td>-1.000000</td>\n",
              "      <td>-1.000000</td>\n",
              "      <td>-1.000000</td>\n",
              "      <td>6-12</td>\n",
              "      <td>1</td>\n",
              "    </tr>\n",
              "    <tr>\n",
              "      <th>1011</th>\n",
              "      <td>202</td>\n",
              "      <td>1</td>\n",
              "      <td>60th</td>\n",
              "      <td>0</td>\n",
              "      <td>0.0</td>\n",
              "      <td>0.0</td>\n",
              "      <td>0.0</td>\n",
              "      <td>0.0</td>\n",
              "      <td>0.0</td>\n",
              "      <td>0.0</td>\n",
              "      <td>0.0</td>\n",
              "      <td>0.0</td>\n",
              "      <td>0.0</td>\n",
              "      <td>0.605263</td>\n",
              "      <td>0.605263</td>\n",
              "      <td>0.605263</td>\n",
              "      <td>0.605263</td>\n",
              "      <td>-1.0</td>\n",
              "      <td>-1.0</td>\n",
              "      <td>-1.0</td>\n",
              "      <td>-1.0</td>\n",
              "      <td>-1.0</td>\n",
              "      <td>-1.0</td>\n",
              "      <td>-1.0</td>\n",
              "      <td>-1.0</td>\n",
              "      <td>-1.0</td>\n",
              "      <td>-1.0</td>\n",
              "      <td>-1.0</td>\n",
              "      <td>-0.317073</td>\n",
              "      <td>-0.317073</td>\n",
              "      <td>-0.317073</td>\n",
              "      <td>-0.317073</td>\n",
              "      <td>-1.0</td>\n",
              "      <td>-0.365854</td>\n",
              "      <td>-0.365854</td>\n",
              "      <td>-0.365854</td>\n",
              "      <td>-0.365854</td>\n",
              "      <td>-1.0</td>\n",
              "      <td>-0.938950</td>\n",
              "      <td>-0.938950</td>\n",
              "      <td>...</td>\n",
              "      <td>-0.978029</td>\n",
              "      <td>-1.0</td>\n",
              "      <td>-0.481481</td>\n",
              "      <td>-0.723077</td>\n",
              "      <td>-0.169811</td>\n",
              "      <td>-0.474576</td>\n",
              "      <td>2.500000e-01</td>\n",
              "      <td>0.815789</td>\n",
              "      <td>-0.481481</td>\n",
              "      <td>-0.723077</td>\n",
              "      <td>-0.169811</td>\n",
              "      <td>-0.517241</td>\n",
              "      <td>0.250000</td>\n",
              "      <td>0.815789</td>\n",
              "      <td>-0.237113</td>\n",
              "      <td>-0.4000</td>\n",
              "      <td>-0.162393</td>\n",
              "      <td>-0.428571</td>\n",
              "      <td>0.538462</td>\n",
              "      <td>0.919192</td>\n",
              "      <td>-0.641026</td>\n",
              "      <td>-0.805405</td>\n",
              "      <td>-0.253731</td>\n",
              "      <td>-0.393939</td>\n",
              "      <td>0.014493</td>\n",
              "      <td>0.842105</td>\n",
              "      <td>-1.000000</td>\n",
              "      <td>-1.000000</td>\n",
              "      <td>-0.816794</td>\n",
              "      <td>-0.823529</td>\n",
              "      <td>-1.000000</td>\n",
              "      <td>-0.979798</td>\n",
              "      <td>-1.000000</td>\n",
              "      <td>-1.000000</td>\n",
              "      <td>-0.874989</td>\n",
              "      <td>-0.817204</td>\n",
              "      <td>-1.000000</td>\n",
              "      <td>-0.980129</td>\n",
              "      <td>2-4</td>\n",
              "      <td>1</td>\n",
              "    </tr>\n",
              "    <tr>\n",
              "      <th>1711</th>\n",
              "      <td>342</td>\n",
              "      <td>0</td>\n",
              "      <td>40th</td>\n",
              "      <td>0</td>\n",
              "      <td>0.0</td>\n",
              "      <td>0.0</td>\n",
              "      <td>1.0</td>\n",
              "      <td>0.0</td>\n",
              "      <td>0.0</td>\n",
              "      <td>0.0</td>\n",
              "      <td>0.0</td>\n",
              "      <td>0.0</td>\n",
              "      <td>1.0</td>\n",
              "      <td>NaN</td>\n",
              "      <td>NaN</td>\n",
              "      <td>NaN</td>\n",
              "      <td>NaN</td>\n",
              "      <td>NaN</td>\n",
              "      <td>NaN</td>\n",
              "      <td>NaN</td>\n",
              "      <td>NaN</td>\n",
              "      <td>NaN</td>\n",
              "      <td>NaN</td>\n",
              "      <td>NaN</td>\n",
              "      <td>NaN</td>\n",
              "      <td>NaN</td>\n",
              "      <td>NaN</td>\n",
              "      <td>NaN</td>\n",
              "      <td>NaN</td>\n",
              "      <td>NaN</td>\n",
              "      <td>NaN</td>\n",
              "      <td>NaN</td>\n",
              "      <td>NaN</td>\n",
              "      <td>NaN</td>\n",
              "      <td>NaN</td>\n",
              "      <td>NaN</td>\n",
              "      <td>NaN</td>\n",
              "      <td>NaN</td>\n",
              "      <td>NaN</td>\n",
              "      <td>NaN</td>\n",
              "      <td>...</td>\n",
              "      <td>NaN</td>\n",
              "      <td>NaN</td>\n",
              "      <td>NaN</td>\n",
              "      <td>NaN</td>\n",
              "      <td>NaN</td>\n",
              "      <td>NaN</td>\n",
              "      <td>NaN</td>\n",
              "      <td>NaN</td>\n",
              "      <td>NaN</td>\n",
              "      <td>NaN</td>\n",
              "      <td>NaN</td>\n",
              "      <td>NaN</td>\n",
              "      <td>NaN</td>\n",
              "      <td>NaN</td>\n",
              "      <td>NaN</td>\n",
              "      <td>NaN</td>\n",
              "      <td>NaN</td>\n",
              "      <td>NaN</td>\n",
              "      <td>NaN</td>\n",
              "      <td>NaN</td>\n",
              "      <td>NaN</td>\n",
              "      <td>NaN</td>\n",
              "      <td>NaN</td>\n",
              "      <td>NaN</td>\n",
              "      <td>NaN</td>\n",
              "      <td>NaN</td>\n",
              "      <td>NaN</td>\n",
              "      <td>NaN</td>\n",
              "      <td>NaN</td>\n",
              "      <td>NaN</td>\n",
              "      <td>NaN</td>\n",
              "      <td>NaN</td>\n",
              "      <td>NaN</td>\n",
              "      <td>NaN</td>\n",
              "      <td>NaN</td>\n",
              "      <td>NaN</td>\n",
              "      <td>NaN</td>\n",
              "      <td>NaN</td>\n",
              "      <td>2-4</td>\n",
              "      <td>0</td>\n",
              "    </tr>\n",
              "    <tr>\n",
              "      <th>1347</th>\n",
              "      <td>269</td>\n",
              "      <td>0</td>\n",
              "      <td>20th</td>\n",
              "      <td>0</td>\n",
              "      <td>0.0</td>\n",
              "      <td>0.0</td>\n",
              "      <td>0.0</td>\n",
              "      <td>0.0</td>\n",
              "      <td>0.0</td>\n",
              "      <td>0.0</td>\n",
              "      <td>0.0</td>\n",
              "      <td>0.0</td>\n",
              "      <td>0.0</td>\n",
              "      <td>NaN</td>\n",
              "      <td>NaN</td>\n",
              "      <td>NaN</td>\n",
              "      <td>NaN</td>\n",
              "      <td>NaN</td>\n",
              "      <td>NaN</td>\n",
              "      <td>NaN</td>\n",
              "      <td>NaN</td>\n",
              "      <td>NaN</td>\n",
              "      <td>NaN</td>\n",
              "      <td>NaN</td>\n",
              "      <td>NaN</td>\n",
              "      <td>NaN</td>\n",
              "      <td>NaN</td>\n",
              "      <td>NaN</td>\n",
              "      <td>NaN</td>\n",
              "      <td>NaN</td>\n",
              "      <td>NaN</td>\n",
              "      <td>NaN</td>\n",
              "      <td>NaN</td>\n",
              "      <td>NaN</td>\n",
              "      <td>NaN</td>\n",
              "      <td>NaN</td>\n",
              "      <td>NaN</td>\n",
              "      <td>NaN</td>\n",
              "      <td>NaN</td>\n",
              "      <td>NaN</td>\n",
              "      <td>...</td>\n",
              "      <td>NaN</td>\n",
              "      <td>NaN</td>\n",
              "      <td>0.580247</td>\n",
              "      <td>0.076923</td>\n",
              "      <td>0.301887</td>\n",
              "      <td>-0.457627</td>\n",
              "      <td>-1.071429e-01</td>\n",
              "      <td>0.578947</td>\n",
              "      <td>0.580247</td>\n",
              "      <td>0.076923</td>\n",
              "      <td>0.301887</td>\n",
              "      <td>-0.448276</td>\n",
              "      <td>-0.107143</td>\n",
              "      <td>0.578947</td>\n",
              "      <td>0.649485</td>\n",
              "      <td>0.2500</td>\n",
              "      <td>0.367521</td>\n",
              "      <td>-0.357143</td>\n",
              "      <td>0.318681</td>\n",
              "      <td>0.838384</td>\n",
              "      <td>0.094017</td>\n",
              "      <td>-0.243243</td>\n",
              "      <td>0.029851</td>\n",
              "      <td>-0.515152</td>\n",
              "      <td>-0.275362</td>\n",
              "      <td>0.578947</td>\n",
              "      <td>-1.000000</td>\n",
              "      <td>-1.000000</td>\n",
              "      <td>-1.000000</td>\n",
              "      <td>-1.000000</td>\n",
              "      <td>-1.000000</td>\n",
              "      <td>-1.000000</td>\n",
              "      <td>-1.000000</td>\n",
              "      <td>-1.000000</td>\n",
              "      <td>-1.000000</td>\n",
              "      <td>-1.000000</td>\n",
              "      <td>-1.000000</td>\n",
              "      <td>-1.000000</td>\n",
              "      <td>4-6</td>\n",
              "      <td>0</td>\n",
              "    </tr>\n",
              "    <tr>\n",
              "      <th>469</th>\n",
              "      <td>93</td>\n",
              "      <td>0</td>\n",
              "      <td>10th</td>\n",
              "      <td>1</td>\n",
              "      <td>0.0</td>\n",
              "      <td>0.0</td>\n",
              "      <td>0.0</td>\n",
              "      <td>0.0</td>\n",
              "      <td>0.0</td>\n",
              "      <td>0.0</td>\n",
              "      <td>0.0</td>\n",
              "      <td>0.0</td>\n",
              "      <td>1.0</td>\n",
              "      <td>0.605263</td>\n",
              "      <td>0.605263</td>\n",
              "      <td>0.605263</td>\n",
              "      <td>0.605263</td>\n",
              "      <td>-1.0</td>\n",
              "      <td>-1.0</td>\n",
              "      <td>-1.0</td>\n",
              "      <td>-1.0</td>\n",
              "      <td>-1.0</td>\n",
              "      <td>-1.0</td>\n",
              "      <td>-1.0</td>\n",
              "      <td>-1.0</td>\n",
              "      <td>-1.0</td>\n",
              "      <td>-1.0</td>\n",
              "      <td>-1.0</td>\n",
              "      <td>-0.317073</td>\n",
              "      <td>-0.317073</td>\n",
              "      <td>-0.317073</td>\n",
              "      <td>-0.317073</td>\n",
              "      <td>-1.0</td>\n",
              "      <td>-0.317073</td>\n",
              "      <td>-0.317073</td>\n",
              "      <td>-0.317073</td>\n",
              "      <td>-0.317073</td>\n",
              "      <td>-1.0</td>\n",
              "      <td>-0.938950</td>\n",
              "      <td>-0.938950</td>\n",
              "      <td>...</td>\n",
              "      <td>-0.978029</td>\n",
              "      <td>-1.0</td>\n",
              "      <td>0.020576</td>\n",
              "      <td>-0.476923</td>\n",
              "      <td>-0.301887</td>\n",
              "      <td>-0.570621</td>\n",
              "      <td>1.776357e-15</td>\n",
              "      <td>0.929825</td>\n",
              "      <td>0.234568</td>\n",
              "      <td>-0.369231</td>\n",
              "      <td>-0.226415</td>\n",
              "      <td>-0.517241</td>\n",
              "      <td>-0.107143</td>\n",
              "      <td>1.000000</td>\n",
              "      <td>-0.175258</td>\n",
              "      <td>-0.3750</td>\n",
              "      <td>-0.316239</td>\n",
              "      <td>-0.571429</td>\n",
              "      <td>0.318681</td>\n",
              "      <td>0.919192</td>\n",
              "      <td>-0.145299</td>\n",
              "      <td>-0.556757</td>\n",
              "      <td>-0.388060</td>\n",
              "      <td>-0.575758</td>\n",
              "      <td>-0.014493</td>\n",
              "      <td>1.000000</td>\n",
              "      <td>-0.547826</td>\n",
              "      <td>-0.742331</td>\n",
              "      <td>-0.816794</td>\n",
              "      <td>-0.882353</td>\n",
              "      <td>-0.785714</td>\n",
              "      <td>-0.919192</td>\n",
              "      <td>-0.684530</td>\n",
              "      <td>-0.727439</td>\n",
              "      <td>-0.870415</td>\n",
              "      <td>-0.878136</td>\n",
              "      <td>-0.784524</td>\n",
              "      <td>-0.923299</td>\n",
              "      <td>ABOVE_12</td>\n",
              "      <td>0</td>\n",
              "    </tr>\n",
              "    <tr>\n",
              "      <th>1530</th>\n",
              "      <td>306</td>\n",
              "      <td>0</td>\n",
              "      <td>10th</td>\n",
              "      <td>0</td>\n",
              "      <td>0.0</td>\n",
              "      <td>0.0</td>\n",
              "      <td>0.0</td>\n",
              "      <td>0.0</td>\n",
              "      <td>0.0</td>\n",
              "      <td>0.0</td>\n",
              "      <td>0.0</td>\n",
              "      <td>0.0</td>\n",
              "      <td>1.0</td>\n",
              "      <td>0.605263</td>\n",
              "      <td>0.605263</td>\n",
              "      <td>0.605263</td>\n",
              "      <td>0.605263</td>\n",
              "      <td>-1.0</td>\n",
              "      <td>-1.0</td>\n",
              "      <td>-1.0</td>\n",
              "      <td>-1.0</td>\n",
              "      <td>-1.0</td>\n",
              "      <td>-1.0</td>\n",
              "      <td>-1.0</td>\n",
              "      <td>-1.0</td>\n",
              "      <td>-1.0</td>\n",
              "      <td>-1.0</td>\n",
              "      <td>-1.0</td>\n",
              "      <td>-0.317073</td>\n",
              "      <td>-0.317073</td>\n",
              "      <td>-0.317073</td>\n",
              "      <td>-0.317073</td>\n",
              "      <td>-1.0</td>\n",
              "      <td>-0.414634</td>\n",
              "      <td>-0.414634</td>\n",
              "      <td>-0.414634</td>\n",
              "      <td>-0.414634</td>\n",
              "      <td>-1.0</td>\n",
              "      <td>-0.973836</td>\n",
              "      <td>-0.973836</td>\n",
              "      <td>...</td>\n",
              "      <td>-1.000000</td>\n",
              "      <td>-1.0</td>\n",
              "      <td>NaN</td>\n",
              "      <td>NaN</td>\n",
              "      <td>NaN</td>\n",
              "      <td>NaN</td>\n",
              "      <td>NaN</td>\n",
              "      <td>NaN</td>\n",
              "      <td>NaN</td>\n",
              "      <td>NaN</td>\n",
              "      <td>NaN</td>\n",
              "      <td>NaN</td>\n",
              "      <td>NaN</td>\n",
              "      <td>NaN</td>\n",
              "      <td>NaN</td>\n",
              "      <td>NaN</td>\n",
              "      <td>NaN</td>\n",
              "      <td>NaN</td>\n",
              "      <td>NaN</td>\n",
              "      <td>NaN</td>\n",
              "      <td>NaN</td>\n",
              "      <td>NaN</td>\n",
              "      <td>NaN</td>\n",
              "      <td>NaN</td>\n",
              "      <td>NaN</td>\n",
              "      <td>NaN</td>\n",
              "      <td>NaN</td>\n",
              "      <td>NaN</td>\n",
              "      <td>NaN</td>\n",
              "      <td>NaN</td>\n",
              "      <td>NaN</td>\n",
              "      <td>NaN</td>\n",
              "      <td>NaN</td>\n",
              "      <td>NaN</td>\n",
              "      <td>NaN</td>\n",
              "      <td>NaN</td>\n",
              "      <td>NaN</td>\n",
              "      <td>NaN</td>\n",
              "      <td>0-2</td>\n",
              "      <td>1</td>\n",
              "    </tr>\n",
              "    <tr>\n",
              "      <th>1019</th>\n",
              "      <td>203</td>\n",
              "      <td>1</td>\n",
              "      <td>Above 90th</td>\n",
              "      <td>0</td>\n",
              "      <td>1.0</td>\n",
              "      <td>0.0</td>\n",
              "      <td>0.0</td>\n",
              "      <td>0.0</td>\n",
              "      <td>0.0</td>\n",
              "      <td>0.0</td>\n",
              "      <td>1.0</td>\n",
              "      <td>0.0</td>\n",
              "      <td>1.0</td>\n",
              "      <td>0.605263</td>\n",
              "      <td>0.605263</td>\n",
              "      <td>0.605263</td>\n",
              "      <td>0.605263</td>\n",
              "      <td>-1.0</td>\n",
              "      <td>-1.0</td>\n",
              "      <td>-1.0</td>\n",
              "      <td>-1.0</td>\n",
              "      <td>-1.0</td>\n",
              "      <td>-1.0</td>\n",
              "      <td>-1.0</td>\n",
              "      <td>-1.0</td>\n",
              "      <td>-1.0</td>\n",
              "      <td>-1.0</td>\n",
              "      <td>-1.0</td>\n",
              "      <td>-0.317073</td>\n",
              "      <td>-0.317073</td>\n",
              "      <td>-0.317073</td>\n",
              "      <td>-0.317073</td>\n",
              "      <td>-1.0</td>\n",
              "      <td>-0.317073</td>\n",
              "      <td>-0.317073</td>\n",
              "      <td>-0.317073</td>\n",
              "      <td>-0.317073</td>\n",
              "      <td>-1.0</td>\n",
              "      <td>-0.938950</td>\n",
              "      <td>-0.938950</td>\n",
              "      <td>...</td>\n",
              "      <td>-0.862314</td>\n",
              "      <td>-1.0</td>\n",
              "      <td>0.001593</td>\n",
              "      <td>-0.085856</td>\n",
              "      <td>-0.206634</td>\n",
              "      <td>-0.474030</td>\n",
              "      <td>-6.048387e-02</td>\n",
              "      <td>0.743633</td>\n",
              "      <td>0.061728</td>\n",
              "      <td>-0.061538</td>\n",
              "      <td>-0.283019</td>\n",
              "      <td>-0.482759</td>\n",
              "      <td>-0.071429</td>\n",
              "      <td>0.736842</td>\n",
              "      <td>-0.216495</td>\n",
              "      <td>-0.3625</td>\n",
              "      <td>-0.709402</td>\n",
              "      <td>-0.928571</td>\n",
              "      <td>0.142857</td>\n",
              "      <td>0.797980</td>\n",
              "      <td>0.162393</td>\n",
              "      <td>0.286486</td>\n",
              "      <td>0.194030</td>\n",
              "      <td>0.212121</td>\n",
              "      <td>0.101449</td>\n",
              "      <td>0.947368</td>\n",
              "      <td>-0.200000</td>\n",
              "      <td>0.202454</td>\n",
              "      <td>0.129771</td>\n",
              "      <td>0.176471</td>\n",
              "      <td>-0.500000</td>\n",
              "      <td>-0.818182</td>\n",
              "      <td>-0.392405</td>\n",
              "      <td>0.091532</td>\n",
              "      <td>-0.170548</td>\n",
              "      <td>0.185702</td>\n",
              "      <td>-0.498615</td>\n",
              "      <td>-0.818340</td>\n",
              "      <td>ABOVE_12</td>\n",
              "      <td>1</td>\n",
              "    </tr>\n",
              "    <tr>\n",
              "      <th>1579</th>\n",
              "      <td>315</td>\n",
              "      <td>0</td>\n",
              "      <td>50th</td>\n",
              "      <td>0</td>\n",
              "      <td>0.0</td>\n",
              "      <td>0.0</td>\n",
              "      <td>0.0</td>\n",
              "      <td>0.0</td>\n",
              "      <td>0.0</td>\n",
              "      <td>0.0</td>\n",
              "      <td>0.0</td>\n",
              "      <td>0.0</td>\n",
              "      <td>0.0</td>\n",
              "      <td>0.605263</td>\n",
              "      <td>0.605263</td>\n",
              "      <td>0.605263</td>\n",
              "      <td>0.605263</td>\n",
              "      <td>-1.0</td>\n",
              "      <td>-1.0</td>\n",
              "      <td>-1.0</td>\n",
              "      <td>-1.0</td>\n",
              "      <td>-1.0</td>\n",
              "      <td>-1.0</td>\n",
              "      <td>-1.0</td>\n",
              "      <td>-1.0</td>\n",
              "      <td>-1.0</td>\n",
              "      <td>-1.0</td>\n",
              "      <td>-1.0</td>\n",
              "      <td>-0.317073</td>\n",
              "      <td>-0.317073</td>\n",
              "      <td>-0.317073</td>\n",
              "      <td>-0.317073</td>\n",
              "      <td>-1.0</td>\n",
              "      <td>-0.317073</td>\n",
              "      <td>-0.317073</td>\n",
              "      <td>-0.317073</td>\n",
              "      <td>-0.317073</td>\n",
              "      <td>-1.0</td>\n",
              "      <td>-0.964417</td>\n",
              "      <td>-0.964417</td>\n",
              "      <td>...</td>\n",
              "      <td>-0.978029</td>\n",
              "      <td>-1.0</td>\n",
              "      <td>-0.443476</td>\n",
              "      <td>-0.725339</td>\n",
              "      <td>-0.397706</td>\n",
              "      <td>-0.454304</td>\n",
              "      <td>-9.593838e-02</td>\n",
              "      <td>0.718266</td>\n",
              "      <td>-0.481481</td>\n",
              "      <td>-0.730769</td>\n",
              "      <td>-0.339623</td>\n",
              "      <td>-0.448276</td>\n",
              "      <td>-0.107143</td>\n",
              "      <td>0.736842</td>\n",
              "      <td>-0.484536</td>\n",
              "      <td>-0.8125</td>\n",
              "      <td>-0.675214</td>\n",
              "      <td>-0.714286</td>\n",
              "      <td>0.098901</td>\n",
              "      <td>0.757576</td>\n",
              "      <td>-0.299145</td>\n",
              "      <td>-0.459459</td>\n",
              "      <td>-0.149254</td>\n",
              "      <td>-0.090909</td>\n",
              "      <td>0.333333</td>\n",
              "      <td>0.947368</td>\n",
              "      <td>-0.443478</td>\n",
              "      <td>-0.202454</td>\n",
              "      <td>-0.251908</td>\n",
              "      <td>-0.294118</td>\n",
              "      <td>-0.261905</td>\n",
              "      <td>-0.777778</td>\n",
              "      <td>-0.414188</td>\n",
              "      <td>0.046980</td>\n",
              "      <td>-0.429088</td>\n",
              "      <td>-0.307301</td>\n",
              "      <td>-0.257804</td>\n",
              "      <td>-0.777971</td>\n",
              "      <td>ABOVE_12</td>\n",
              "      <td>1</td>\n",
              "    </tr>\n",
              "    <tr>\n",
              "      <th>1490</th>\n",
              "      <td>298</td>\n",
              "      <td>0</td>\n",
              "      <td>10th</td>\n",
              "      <td>0</td>\n",
              "      <td>0.0</td>\n",
              "      <td>0.0</td>\n",
              "      <td>0.0</td>\n",
              "      <td>0.0</td>\n",
              "      <td>0.0</td>\n",
              "      <td>0.0</td>\n",
              "      <td>0.0</td>\n",
              "      <td>0.0</td>\n",
              "      <td>1.0</td>\n",
              "      <td>NaN</td>\n",
              "      <td>NaN</td>\n",
              "      <td>NaN</td>\n",
              "      <td>NaN</td>\n",
              "      <td>NaN</td>\n",
              "      <td>NaN</td>\n",
              "      <td>NaN</td>\n",
              "      <td>NaN</td>\n",
              "      <td>NaN</td>\n",
              "      <td>NaN</td>\n",
              "      <td>NaN</td>\n",
              "      <td>NaN</td>\n",
              "      <td>NaN</td>\n",
              "      <td>NaN</td>\n",
              "      <td>NaN</td>\n",
              "      <td>NaN</td>\n",
              "      <td>NaN</td>\n",
              "      <td>NaN</td>\n",
              "      <td>NaN</td>\n",
              "      <td>NaN</td>\n",
              "      <td>NaN</td>\n",
              "      <td>NaN</td>\n",
              "      <td>NaN</td>\n",
              "      <td>NaN</td>\n",
              "      <td>NaN</td>\n",
              "      <td>NaN</td>\n",
              "      <td>NaN</td>\n",
              "      <td>...</td>\n",
              "      <td>NaN</td>\n",
              "      <td>NaN</td>\n",
              "      <td>-0.111111</td>\n",
              "      <td>-0.261538</td>\n",
              "      <td>0.207547</td>\n",
              "      <td>-0.932203</td>\n",
              "      <td>2.500000e-01</td>\n",
              "      <td>0.894737</td>\n",
              "      <td>-0.111111</td>\n",
              "      <td>-0.261538</td>\n",
              "      <td>0.207547</td>\n",
              "      <td>-0.931034</td>\n",
              "      <td>0.250000</td>\n",
              "      <td>0.894737</td>\n",
              "      <td>0.072165</td>\n",
              "      <td>-0.0250</td>\n",
              "      <td>0.282051</td>\n",
              "      <td>-0.857143</td>\n",
              "      <td>0.538462</td>\n",
              "      <td>0.959596</td>\n",
              "      <td>-0.384615</td>\n",
              "      <td>-0.481081</td>\n",
              "      <td>-0.044776</td>\n",
              "      <td>-0.939394</td>\n",
              "      <td>0.014493</td>\n",
              "      <td>0.894737</td>\n",
              "      <td>-1.000000</td>\n",
              "      <td>-1.000000</td>\n",
              "      <td>-1.000000</td>\n",
              "      <td>-1.000000</td>\n",
              "      <td>-1.000000</td>\n",
              "      <td>-1.000000</td>\n",
              "      <td>-1.000000</td>\n",
              "      <td>-1.000000</td>\n",
              "      <td>-1.000000</td>\n",
              "      <td>-1.000000</td>\n",
              "      <td>-1.000000</td>\n",
              "      <td>-1.000000</td>\n",
              "      <td>0-2</td>\n",
              "      <td>0</td>\n",
              "    </tr>\n",
              "  </tbody>\n",
              "</table>\n",
              "<p>10 rows × 231 columns</p>\n",
              "</div>"
            ],
            "text/plain": [
              "      PATIENT_VISIT_IDENTIFIER  AGE_ABOVE65  ...    WINDOW  ICU\n",
              "1727                       345            1  ...       4-6    0\n",
              "183                         36            1  ...      6-12    1\n",
              "1011                       202            1  ...       2-4    1\n",
              "1711                       342            0  ...       2-4    0\n",
              "1347                       269            0  ...       4-6    0\n",
              "469                         93            0  ...  ABOVE_12    0\n",
              "1530                       306            0  ...       0-2    1\n",
              "1019                       203            1  ...  ABOVE_12    1\n",
              "1579                       315            0  ...  ABOVE_12    1\n",
              "1490                       298            0  ...       0-2    0\n",
              "\n",
              "[10 rows x 231 columns]"
            ]
          },
          "metadata": {
            "tags": []
          },
          "execution_count": 3
        }
      ]
    },
    {
      "cell_type": "markdown",
      "metadata": {
        "id": "NEflDhlMZ3zp",
        "colab_type": "text"
      },
      "source": [
        "### 3. Data exploration and preprocessing"
      ]
    },
    {
      "cell_type": "markdown",
      "metadata": {
        "id": "tHTS4t3fZ3zr",
        "colab_type": "text"
      },
      "source": [
        "As stated, for this analysis, only demographic and vital signs columns will be used as features. Let's select them."
      ]
    },
    {
      "cell_type": "code",
      "metadata": {
        "_kg_hide-input": false,
        "id": "kRJIInWRZ3zs",
        "colab_type": "code",
        "colab": {}
      },
      "source": [
        "demo_lst = [i for i in raw_data.columns if \"AGE_\" in i]\n",
        "demo_lst.append(\"GENDER\")\n",
        "vitalSigns_lst = raw_data.iloc[:,193:-2].columns.tolist()\n",
        "\n",
        "raw_data = raw_data[['PATIENT_VISIT_IDENTIFIER']+demo_lst+vitalSigns_lst+['WINDOW','ICU']]"
      ],
      "execution_count": 4,
      "outputs": []
    },
    {
      "cell_type": "code",
      "metadata": {
        "_kg_hide-input": true,
        "id": "F7DfX7QKZ3zz",
        "colab_type": "code",
        "colab": {
          "base_uri": "https://localhost:8080/",
          "height": 224
        },
        "outputId": "c0a6e96e-e578-45cb-c7a2-eea21a953048"
      },
      "source": [
        "raw_data.head(5)"
      ],
      "execution_count": 5,
      "outputs": [
        {
          "output_type": "execute_result",
          "data": {
            "text/html": [
              "<div>\n",
              "<style scoped>\n",
              "    .dataframe tbody tr th:only-of-type {\n",
              "        vertical-align: middle;\n",
              "    }\n",
              "\n",
              "    .dataframe tbody tr th {\n",
              "        vertical-align: top;\n",
              "    }\n",
              "\n",
              "    .dataframe thead th {\n",
              "        text-align: right;\n",
              "    }\n",
              "</style>\n",
              "<table border=\"1\" class=\"dataframe\">\n",
              "  <thead>\n",
              "    <tr style=\"text-align: right;\">\n",
              "      <th></th>\n",
              "      <th>PATIENT_VISIT_IDENTIFIER</th>\n",
              "      <th>AGE_ABOVE65</th>\n",
              "      <th>AGE_PERCENTIL</th>\n",
              "      <th>GENDER</th>\n",
              "      <th>BLOODPRESSURE_DIASTOLIC_MEAN</th>\n",
              "      <th>BLOODPRESSURE_SISTOLIC_MEAN</th>\n",
              "      <th>HEART_RATE_MEAN</th>\n",
              "      <th>RESPIRATORY_RATE_MEAN</th>\n",
              "      <th>TEMPERATURE_MEAN</th>\n",
              "      <th>OXYGEN_SATURATION_MEAN</th>\n",
              "      <th>BLOODPRESSURE_DIASTOLIC_MEDIAN</th>\n",
              "      <th>BLOODPRESSURE_SISTOLIC_MEDIAN</th>\n",
              "      <th>HEART_RATE_MEDIAN</th>\n",
              "      <th>RESPIRATORY_RATE_MEDIAN</th>\n",
              "      <th>TEMPERATURE_MEDIAN</th>\n",
              "      <th>OXYGEN_SATURATION_MEDIAN</th>\n",
              "      <th>BLOODPRESSURE_DIASTOLIC_MIN</th>\n",
              "      <th>BLOODPRESSURE_SISTOLIC_MIN</th>\n",
              "      <th>HEART_RATE_MIN</th>\n",
              "      <th>RESPIRATORY_RATE_MIN</th>\n",
              "      <th>TEMPERATURE_MIN</th>\n",
              "      <th>OXYGEN_SATURATION_MIN</th>\n",
              "      <th>BLOODPRESSURE_DIASTOLIC_MAX</th>\n",
              "      <th>BLOODPRESSURE_SISTOLIC_MAX</th>\n",
              "      <th>HEART_RATE_MAX</th>\n",
              "      <th>RESPIRATORY_RATE_MAX</th>\n",
              "      <th>TEMPERATURE_MAX</th>\n",
              "      <th>OXYGEN_SATURATION_MAX</th>\n",
              "      <th>BLOODPRESSURE_DIASTOLIC_DIFF</th>\n",
              "      <th>BLOODPRESSURE_SISTOLIC_DIFF</th>\n",
              "      <th>HEART_RATE_DIFF</th>\n",
              "      <th>RESPIRATORY_RATE_DIFF</th>\n",
              "      <th>TEMPERATURE_DIFF</th>\n",
              "      <th>OXYGEN_SATURATION_DIFF</th>\n",
              "      <th>BLOODPRESSURE_DIASTOLIC_DIFF_REL</th>\n",
              "      <th>BLOODPRESSURE_SISTOLIC_DIFF_REL</th>\n",
              "      <th>HEART_RATE_DIFF_REL</th>\n",
              "      <th>RESPIRATORY_RATE_DIFF_REL</th>\n",
              "      <th>TEMPERATURE_DIFF_REL</th>\n",
              "      <th>OXYGEN_SATURATION_DIFF_REL</th>\n",
              "      <th>WINDOW</th>\n",
              "      <th>ICU</th>\n",
              "    </tr>\n",
              "  </thead>\n",
              "  <tbody>\n",
              "    <tr>\n",
              "      <th>0</th>\n",
              "      <td>0</td>\n",
              "      <td>1</td>\n",
              "      <td>60th</td>\n",
              "      <td>0</td>\n",
              "      <td>0.086420</td>\n",
              "      <td>-0.230769</td>\n",
              "      <td>-0.283019</td>\n",
              "      <td>-0.593220</td>\n",
              "      <td>-0.285714</td>\n",
              "      <td>0.736842</td>\n",
              "      <td>0.086420</td>\n",
              "      <td>-0.230769</td>\n",
              "      <td>-0.283019</td>\n",
              "      <td>-0.586207</td>\n",
              "      <td>-0.285714</td>\n",
              "      <td>0.736842</td>\n",
              "      <td>0.237113</td>\n",
              "      <td>0.0000</td>\n",
              "      <td>-0.162393</td>\n",
              "      <td>-0.500000</td>\n",
              "      <td>0.208791</td>\n",
              "      <td>0.898990</td>\n",
              "      <td>-0.247863</td>\n",
              "      <td>-0.459459</td>\n",
              "      <td>-0.432836</td>\n",
              "      <td>-0.636364</td>\n",
              "      <td>-0.420290</td>\n",
              "      <td>0.736842</td>\n",
              "      <td>-1.00000</td>\n",
              "      <td>-1.000000</td>\n",
              "      <td>-1.000000</td>\n",
              "      <td>-1.000000</td>\n",
              "      <td>-1.000000</td>\n",
              "      <td>-1.000000</td>\n",
              "      <td>-1.000000</td>\n",
              "      <td>-1.000000</td>\n",
              "      <td>-1.000000</td>\n",
              "      <td>-1.000000</td>\n",
              "      <td>-1.000000</td>\n",
              "      <td>-1.000000</td>\n",
              "      <td>0-2</td>\n",
              "      <td>0</td>\n",
              "    </tr>\n",
              "    <tr>\n",
              "      <th>1</th>\n",
              "      <td>0</td>\n",
              "      <td>1</td>\n",
              "      <td>60th</td>\n",
              "      <td>0</td>\n",
              "      <td>0.333333</td>\n",
              "      <td>-0.230769</td>\n",
              "      <td>-0.132075</td>\n",
              "      <td>-0.593220</td>\n",
              "      <td>0.535714</td>\n",
              "      <td>0.578947</td>\n",
              "      <td>0.333333</td>\n",
              "      <td>-0.230769</td>\n",
              "      <td>-0.132075</td>\n",
              "      <td>-0.586207</td>\n",
              "      <td>0.535714</td>\n",
              "      <td>0.578947</td>\n",
              "      <td>0.443299</td>\n",
              "      <td>0.0000</td>\n",
              "      <td>-0.025641</td>\n",
              "      <td>-0.500000</td>\n",
              "      <td>0.714286</td>\n",
              "      <td>0.838384</td>\n",
              "      <td>-0.076923</td>\n",
              "      <td>-0.459459</td>\n",
              "      <td>-0.313433</td>\n",
              "      <td>-0.636364</td>\n",
              "      <td>0.246377</td>\n",
              "      <td>0.578947</td>\n",
              "      <td>-1.00000</td>\n",
              "      <td>-1.000000</td>\n",
              "      <td>-1.000000</td>\n",
              "      <td>-1.000000</td>\n",
              "      <td>-1.000000</td>\n",
              "      <td>-1.000000</td>\n",
              "      <td>-1.000000</td>\n",
              "      <td>-1.000000</td>\n",
              "      <td>-1.000000</td>\n",
              "      <td>-1.000000</td>\n",
              "      <td>-1.000000</td>\n",
              "      <td>-1.000000</td>\n",
              "      <td>2-4</td>\n",
              "      <td>0</td>\n",
              "    </tr>\n",
              "    <tr>\n",
              "      <th>2</th>\n",
              "      <td>0</td>\n",
              "      <td>1</td>\n",
              "      <td>60th</td>\n",
              "      <td>0</td>\n",
              "      <td>NaN</td>\n",
              "      <td>NaN</td>\n",
              "      <td>NaN</td>\n",
              "      <td>NaN</td>\n",
              "      <td>NaN</td>\n",
              "      <td>NaN</td>\n",
              "      <td>NaN</td>\n",
              "      <td>NaN</td>\n",
              "      <td>NaN</td>\n",
              "      <td>NaN</td>\n",
              "      <td>NaN</td>\n",
              "      <td>NaN</td>\n",
              "      <td>NaN</td>\n",
              "      <td>NaN</td>\n",
              "      <td>NaN</td>\n",
              "      <td>NaN</td>\n",
              "      <td>NaN</td>\n",
              "      <td>NaN</td>\n",
              "      <td>NaN</td>\n",
              "      <td>NaN</td>\n",
              "      <td>NaN</td>\n",
              "      <td>NaN</td>\n",
              "      <td>NaN</td>\n",
              "      <td>NaN</td>\n",
              "      <td>NaN</td>\n",
              "      <td>NaN</td>\n",
              "      <td>NaN</td>\n",
              "      <td>NaN</td>\n",
              "      <td>NaN</td>\n",
              "      <td>NaN</td>\n",
              "      <td>NaN</td>\n",
              "      <td>NaN</td>\n",
              "      <td>NaN</td>\n",
              "      <td>NaN</td>\n",
              "      <td>NaN</td>\n",
              "      <td>NaN</td>\n",
              "      <td>4-6</td>\n",
              "      <td>0</td>\n",
              "    </tr>\n",
              "    <tr>\n",
              "      <th>3</th>\n",
              "      <td>0</td>\n",
              "      <td>1</td>\n",
              "      <td>60th</td>\n",
              "      <td>0</td>\n",
              "      <td>NaN</td>\n",
              "      <td>NaN</td>\n",
              "      <td>NaN</td>\n",
              "      <td>NaN</td>\n",
              "      <td>-0.107143</td>\n",
              "      <td>0.736842</td>\n",
              "      <td>NaN</td>\n",
              "      <td>NaN</td>\n",
              "      <td>NaN</td>\n",
              "      <td>NaN</td>\n",
              "      <td>-0.107143</td>\n",
              "      <td>0.736842</td>\n",
              "      <td>NaN</td>\n",
              "      <td>NaN</td>\n",
              "      <td>NaN</td>\n",
              "      <td>NaN</td>\n",
              "      <td>0.318681</td>\n",
              "      <td>0.898990</td>\n",
              "      <td>NaN</td>\n",
              "      <td>NaN</td>\n",
              "      <td>NaN</td>\n",
              "      <td>NaN</td>\n",
              "      <td>-0.275362</td>\n",
              "      <td>0.736842</td>\n",
              "      <td>NaN</td>\n",
              "      <td>NaN</td>\n",
              "      <td>NaN</td>\n",
              "      <td>NaN</td>\n",
              "      <td>-1.000000</td>\n",
              "      <td>-1.000000</td>\n",
              "      <td>NaN</td>\n",
              "      <td>NaN</td>\n",
              "      <td>NaN</td>\n",
              "      <td>NaN</td>\n",
              "      <td>-1.000000</td>\n",
              "      <td>-1.000000</td>\n",
              "      <td>6-12</td>\n",
              "      <td>0</td>\n",
              "    </tr>\n",
              "    <tr>\n",
              "      <th>4</th>\n",
              "      <td>0</td>\n",
              "      <td>1</td>\n",
              "      <td>60th</td>\n",
              "      <td>0</td>\n",
              "      <td>-0.243021</td>\n",
              "      <td>-0.338537</td>\n",
              "      <td>-0.213031</td>\n",
              "      <td>-0.317859</td>\n",
              "      <td>0.033779</td>\n",
              "      <td>0.665932</td>\n",
              "      <td>-0.283951</td>\n",
              "      <td>-0.376923</td>\n",
              "      <td>-0.188679</td>\n",
              "      <td>-0.379310</td>\n",
              "      <td>0.035714</td>\n",
              "      <td>0.631579</td>\n",
              "      <td>-0.340206</td>\n",
              "      <td>-0.4875</td>\n",
              "      <td>-0.572650</td>\n",
              "      <td>-0.857143</td>\n",
              "      <td>0.098901</td>\n",
              "      <td>0.797980</td>\n",
              "      <td>-0.076923</td>\n",
              "      <td>0.286486</td>\n",
              "      <td>0.298507</td>\n",
              "      <td>0.272727</td>\n",
              "      <td>0.362319</td>\n",
              "      <td>0.947368</td>\n",
              "      <td>-0.33913</td>\n",
              "      <td>0.325153</td>\n",
              "      <td>0.114504</td>\n",
              "      <td>0.176471</td>\n",
              "      <td>-0.238095</td>\n",
              "      <td>-0.818182</td>\n",
              "      <td>-0.389967</td>\n",
              "      <td>0.407558</td>\n",
              "      <td>-0.230462</td>\n",
              "      <td>0.096774</td>\n",
              "      <td>-0.242282</td>\n",
              "      <td>-0.814433</td>\n",
              "      <td>ABOVE_12</td>\n",
              "      <td>1</td>\n",
              "    </tr>\n",
              "  </tbody>\n",
              "</table>\n",
              "</div>"
            ],
            "text/plain": [
              "   PATIENT_VISIT_IDENTIFIER  AGE_ABOVE65  ...    WINDOW  ICU\n",
              "0                         0            1  ...       0-2    0\n",
              "1                         0            1  ...       2-4    0\n",
              "2                         0            1  ...       4-6    0\n",
              "3                         0            1  ...      6-12    0\n",
              "4                         0            1  ...  ABOVE_12    1\n",
              "\n",
              "[5 rows x 42 columns]"
            ]
          },
          "metadata": {
            "tags": []
          },
          "execution_count": 5
        }
      ]
    },
    {
      "cell_type": "markdown",
      "metadata": {
        "id": "-UF9GNreZ3z7",
        "colab_type": "text"
      },
      "source": [
        "After removing the other features, we're left with 39 features (42 columns - ['WINDOW', 'ICU' and 'PATIENT_VISIT_IDENTIFIER'])"
      ]
    },
    {
      "cell_type": "markdown",
      "metadata": {
        "id": "4B-DhdBaZ3z8",
        "colab_type": "text"
      },
      "source": [
        "#### 3.1 Invalid data"
      ]
    },
    {
      "cell_type": "markdown",
      "metadata": {
        "id": "1_yG7k6hZ3z-",
        "colab_type": "text"
      },
      "source": [
        "According to the dataset authors in the data description, the data present in rows where ICU = 1 is unreliable because it is unknown if it was captures before of after the outcome we are predicting, so, let's transform that to NaNs: "
      ]
    },
    {
      "cell_type": "code",
      "metadata": {
        "id": "FwEn_BPmZ3z_",
        "colab_type": "code",
        "colab": {}
      },
      "source": [
        "df_ICU_list = raw_data.groupby(\"PATIENT_VISIT_IDENTIFIER\").agg({\"ICU\":(list)})\n",
        "raw_data['ICU_list'] = raw_data.apply(lambda row: df_ICU_list.loc[row['PATIENT_VISIT_IDENTIFIER']]['ICU'], axis=1)\n",
        "raw_data['VALID_WINDOW'] = raw_data.apply(lambda row: row['ICU_list'].index(1)-1 if 1 in row['ICU_list'] else 4, axis=1)\n",
        "for index, row in raw_data.iterrows():\n",
        "    if index%5 > row['VALID_WINDOW']:\n",
        "        raw_data.loc[index, vitalSigns_lst] = np.nan"
      ],
      "execution_count": 6,
      "outputs": []
    },
    {
      "cell_type": "markdown",
      "metadata": {
        "id": "EynNdk4iZ30G",
        "colab_type": "text"
      },
      "source": [
        "#### 3.2 Missing Data"
      ]
    },
    {
      "cell_type": "code",
      "metadata": {
        "_kg_hide-input": true,
        "id": "0eB1aPnKZ30K",
        "colab_type": "code",
        "colab": {
          "base_uri": "https://localhost:8080/",
          "height": 170
        },
        "outputId": "4609ae12-b639-417f-c827-2d035b885b62"
      },
      "source": [
        "(raw_data[raw_data.isnull().any(axis=1)].isna().sum() / len(raw_data)).describe()"
      ],
      "execution_count": 7,
      "outputs": [
        {
          "output_type": "execute_result",
          "data": {
            "text/plain": [
              "count    44.000000\n",
              "mean      0.489634\n",
              "std       0.233670\n",
              "min       0.000000\n",
              "25%       0.590649\n",
              "50%       0.595325\n",
              "75%       0.595844\n",
              "max       0.620779\n",
              "dtype: float64"
            ]
          },
          "metadata": {
            "tags": []
          },
          "execution_count": 7
        }
      ]
    },
    {
      "cell_type": "markdown",
      "metadata": {
        "id": "3FhktA2UZ30R",
        "colab_type": "text"
      },
      "source": [
        "48% of data is missing on avarage in each column after removing the data."
      ]
    },
    {
      "cell_type": "markdown",
      "metadata": {
        "id": "pp__1ImMZ30S",
        "colab_type": "text"
      },
      "source": [
        "According to the data description:\n",
        ">  It is reasonable to assume that a patient who does not have a measurement recorded in a time window is clinically stable, potentially presenting vital signs and blood labs similar to neighboring windows. Therefore, one may fill the missing values using the next or previous entry. "
      ]
    },
    {
      "cell_type": "markdown",
      "metadata": {
        "id": "CTtgj41sZ30U",
        "colab_type": "text"
      },
      "source": [
        "Thus, let's group the data by patient using the following rules:\n",
        "1. For vital signs columns, use data from Window '0-2'. If not available, fill with data from the earliest valid window.\n",
        "2. For demographic columns, use data avilable from Window '0-2'.\n",
        "3. For the target variable column 'ICU', we'll attribute 1 if the patient was aditted to the ICU in any window. "
      ]
    },
    {
      "cell_type": "code",
      "metadata": {
        "id": "b7C-u85CZ30V",
        "colab_type": "code",
        "colab": {}
      },
      "source": [
        "def agg_function(column):\n",
        "    if column.name in demo_lst: return min(column)\n",
        "    elif column.name in vitalSigns_lst: return list(column.dropna())[0] if len(column.dropna()) > 0 else np.nan\n",
        "    elif column.name == 'ICU': return max(column)\n",
        "    else: return column\n",
        "        \n",
        "agg_data = raw_data.groupby(\"PATIENT_VISIT_IDENTIFIER\", as_index=False).agg(agg_function)"
      ],
      "execution_count": 8,
      "outputs": []
    },
    {
      "cell_type": "code",
      "metadata": {
        "_kg_hide-input": true,
        "id": "niJUhZnYZ30a",
        "colab_type": "code",
        "colab": {
          "base_uri": "https://localhost:8080/",
          "height": 170
        },
        "outputId": "a9dbd74b-c6d0-493d-c424-bead7e6b3452"
      },
      "source": [
        "(agg_data[agg_data.isnull().any(axis=1)].isna().sum() / len(agg_data)).describe()"
      ],
      "execution_count": 9,
      "outputs": [
        {
          "output_type": "execute_result",
          "data": {
            "text/plain": [
              "count    41.000000\n",
              "mean      0.160786\n",
              "std       0.061276\n",
              "min       0.000000\n",
              "25%       0.176623\n",
              "50%       0.179221\n",
              "75%       0.184416\n",
              "max       0.202597\n",
              "dtype: float64"
            ]
          },
          "metadata": {
            "tags": []
          },
          "execution_count": 9
        }
      ]
    },
    {
      "cell_type": "markdown",
      "metadata": {
        "id": "TLp9eB37Z30g",
        "colab_type": "text"
      },
      "source": [
        "Ok, now we have max 20.3% missing data for column. For now, Let's drop these rows."
      ]
    },
    {
      "cell_type": "code",
      "metadata": {
        "id": "e5ehw7AaZ30h",
        "colab_type": "code",
        "colab": {}
      },
      "source": [
        "agg_data.dropna(inplace=True)"
      ],
      "execution_count": 10,
      "outputs": []
    },
    {
      "cell_type": "markdown",
      "metadata": {
        "id": "4IlgjOBEZ30m",
        "colab_type": "text"
      },
      "source": [
        "Now let's check the columns:"
      ]
    },
    {
      "cell_type": "code",
      "metadata": {
        "id": "bckxv7VsZ30o",
        "colab_type": "code",
        "colab": {
          "base_uri": "https://localhost:8080/",
          "height": 204
        },
        "outputId": "7e846373-c36b-446d-ff21-e666be315b8e"
      },
      "source": [
        "agg_data.dtypes[:10]"
      ],
      "execution_count": 11,
      "outputs": [
        {
          "output_type": "execute_result",
          "data": {
            "text/plain": [
              "PATIENT_VISIT_IDENTIFIER          int64\n",
              "AGE_ABOVE65                       int64\n",
              "AGE_PERCENTIL                    object\n",
              "GENDER                            int64\n",
              "BLOODPRESSURE_DIASTOLIC_MEAN    float64\n",
              "BLOODPRESSURE_SISTOLIC_MEAN     float64\n",
              "HEART_RATE_MEAN                 float64\n",
              "RESPIRATORY_RATE_MEAN           float64\n",
              "TEMPERATURE_MEAN                float64\n",
              "OXYGEN_SATURATION_MEAN          float64\n",
              "dtype: object"
            ]
          },
          "metadata": {
            "tags": []
          },
          "execution_count": 11
        }
      ]
    },
    {
      "cell_type": "code",
      "metadata": {
        "id": "24qQmOLMZ30w",
        "colab_type": "code",
        "colab": {}
      },
      "source": [
        "agg_data['AGE_PERCENTIL'] = agg_data['AGE_PERCENTIL'].apply(lambda row: 9 if row[0] == 'A' else int(row[0]) )"
      ],
      "execution_count": 12,
      "outputs": []
    },
    {
      "cell_type": "code",
      "metadata": {
        "id": "tqhWjrruZ301",
        "colab_type": "code",
        "colab": {}
      },
      "source": [
        "data = agg_data.copy(deep=True)"
      ],
      "execution_count": 13,
      "outputs": []
    },
    {
      "cell_type": "markdown",
      "metadata": {
        "id": "nEUkqxW4Z307",
        "colab_type": "text"
      },
      "source": [
        "#### 3.3 Dimensionality Reduction"
      ]
    },
    {
      "cell_type": "markdown",
      "metadata": {
        "id": "lIHL_pt-Z309",
        "colab_type": "text"
      },
      "source": [
        "**Zero or Near-zero variances**"
      ]
    },
    {
      "cell_type": "markdown",
      "metadata": {
        "id": "kycEarziZ30-",
        "colab_type": "text"
      },
      "source": [
        "Checking predictors with variance < 0.01:"
      ]
    },
    {
      "cell_type": "code",
      "metadata": {
        "_kg_hide-input": true,
        "scrolled": true,
        "id": "GqOHEtsDZ31A",
        "colab_type": "code",
        "colab": {
          "base_uri": "https://localhost:8080/",
          "height": 255
        },
        "outputId": "849de8e4-4682-48d3-dd0c-89d063b54b8e"
      },
      "source": [
        "low_variances = data.var()\n",
        "low_variances = low_variances.loc[low_variances < 0.01]\n",
        "low_variances.sort_values()"
      ],
      "execution_count": 14,
      "outputs": [
        {
          "output_type": "execute_result",
          "data": {
            "text/plain": [
              "OXYGEN_SATURATION_DIFF              0.001107\n",
              "OXYGEN_SATURATION_DIFF_REL          0.001141\n",
              "OXYGEN_SATURATION_MIN               0.002635\n",
              "HEART_RATE_DIFF_REL                 0.003091\n",
              "RESPIRATORY_RATE_DIFF_REL           0.006225\n",
              "BLOODPRESSURE_SISTOLIC_DIFF         0.006406\n",
              "TEMPERATURE_DIFF_REL                0.006871\n",
              "TEMPERATURE_DIFF                    0.007166\n",
              "BLOODPRESSURE_DIASTOLIC_DIFF_REL    0.007266\n",
              "BLOODPRESSURE_SISTOLIC_DIFF_REL     0.007504\n",
              "BLOODPRESSURE_DIASTOLIC_DIFF        0.007825\n",
              "RESPIRATORY_RATE_DIFF               0.008088\n",
              "HEART_RATE_DIFF                     0.008741\n",
              "dtype: float64"
            ]
          },
          "metadata": {
            "tags": []
          },
          "execution_count": 14
        }
      ]
    },
    {
      "cell_type": "markdown",
      "metadata": {
        "id": "AoyGGp-HZ31G",
        "colab_type": "text"
      },
      "source": [
        "Let's drop those columns for now.\n",
        "\n",
        "We might use some of these features later during feature engineering."
      ]
    },
    {
      "cell_type": "code",
      "metadata": {
        "id": "Yvpj_pLzZ31H",
        "colab_type": "code",
        "colab": {
          "base_uri": "https://localhost:8080/",
          "height": 34
        },
        "outputId": "0bd32b67-d42e-48a1-fc29-e61233caa6d8"
      },
      "source": [
        "data.shape"
      ],
      "execution_count": 15,
      "outputs": [
        {
          "output_type": "execute_result",
          "data": {
            "text/plain": [
              "(301, 41)"
            ]
          },
          "metadata": {
            "tags": []
          },
          "execution_count": 15
        }
      ]
    },
    {
      "cell_type": "code",
      "metadata": {
        "id": "ObfdYjIUZ31N",
        "colab_type": "code",
        "colab": {}
      },
      "source": [
        "model_data = data.drop(low_variances.index, axis=1)"
      ],
      "execution_count": 16,
      "outputs": []
    },
    {
      "cell_type": "code",
      "metadata": {
        "id": "sqnfjQedZ31T",
        "colab_type": "code",
        "colab": {
          "base_uri": "https://localhost:8080/",
          "height": 34
        },
        "outputId": "670447bd-1884-4f8d-892d-6b110c903928"
      },
      "source": [
        "model_data.shape"
      ],
      "execution_count": 17,
      "outputs": [
        {
          "output_type": "execute_result",
          "data": {
            "text/plain": [
              "(301, 28)"
            ]
          },
          "metadata": {
            "tags": []
          },
          "execution_count": 17
        }
      ]
    },
    {
      "cell_type": "markdown",
      "metadata": {
        "id": "Si4zUB-YZ31a",
        "colab_type": "text"
      },
      "source": [
        "26 features left after removing near zero variance features."
      ]
    },
    {
      "cell_type": "markdown",
      "metadata": {
        "id": "RWtyXLEEZ31d",
        "colab_type": "text"
      },
      "source": [
        "**Multicollinearity**"
      ]
    },
    {
      "cell_type": "code",
      "metadata": {
        "_kg_hide-input": true,
        "id": "roELsBiqZ31e",
        "colab_type": "code",
        "colab": {
          "base_uri": "https://localhost:8080/",
          "height": 575
        },
        "outputId": "fde88bf8-d9b2-408b-c332-e6dcec31bd3e"
      },
      "source": [
        "width=8\n",
        "height=6\n",
        "fig = plt.figure(figsize=(width,height))\n",
        "sns.heatmap(model_data.iloc[:, 1:-1].corr(), cmap='bwr')"
      ],
      "execution_count": 18,
      "outputs": [
        {
          "output_type": "execute_result",
          "data": {
            "text/plain": [
              "<matplotlib.axes._subplots.AxesSubplot at 0x7f935020bcf8>"
            ]
          },
          "metadata": {
            "tags": []
          },
          "execution_count": 18
        },
        {
          "output_type": "display_data",
          "data": {
            "image/png": "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\n",
            "text/plain": [
              "<Figure size 576x432 with 2 Axes>"
            ]
          },
          "metadata": {
            "tags": [],
            "needs_background": "light"
          }
        }
      ]
    },
    {
      "cell_type": "markdown",
      "metadata": {
        "id": "lJf-Yy7SZ31j",
        "colab_type": "text"
      },
      "source": [
        "There's a high number of multicollinear features. Let's check out the features that show very high multicollinearity (Pearson's R > 0.8)"
      ]
    },
    {
      "cell_type": "code",
      "metadata": {
        "_kg_hide-input": true,
        "id": "urAzQ1T6Z31k",
        "colab_type": "code",
        "colab": {
          "base_uri": "https://localhost:8080/",
          "height": 1103
        },
        "outputId": "75fd62fb-a487-490b-b830-4e122914ae1e"
      },
      "source": [
        "corr_values = model_data.iloc[:, 1:-1].corr(method='pearson').abs()\n",
        "corrdf = corr_values.unstack().sort_values(ascending=False).to_frame()\n",
        "corrdf.reset_index(inplace=True)\n",
        "corrdf.columns=['Feature 1', 'Feature 2', 'Pearsons R']\n",
        "corrdf['SAME_FEAT'] = corrdf.apply(lambda row: 1 if row['Feature 1'] == row['Feature 2'] else 0, axis=1)\n",
        "corrdf = corrdf.loc[corrdf['SAME_FEAT'] == 0]\n",
        "corrdf.drop('SAME_FEAT', axis=1, inplace=True)\n",
        "multicol_df = corrdf[corrdf['Pearsons R'] > 0.8].iloc[::2]\n",
        "multicol_df['Feat1 Target Corr'] = multicol_df.apply(lambda row: model_data.corr().abs()['ICU'][row['Feature 1']], axis=1)\n",
        "multicol_df['Feat2 Target Corr'] = multicol_df.apply(lambda row: model_data.corr().abs()['ICU'][row['Feature 2']], axis=1)\n",
        "multicol_df.reset_index(drop=True, inplace=True)\n",
        "multicol_df"
      ],
      "execution_count": 19,
      "outputs": [
        {
          "output_type": "execute_result",
          "data": {
            "text/html": [
              "<div>\n",
              "<style scoped>\n",
              "    .dataframe tbody tr th:only-of-type {\n",
              "        vertical-align: middle;\n",
              "    }\n",
              "\n",
              "    .dataframe tbody tr th {\n",
              "        vertical-align: top;\n",
              "    }\n",
              "\n",
              "    .dataframe thead th {\n",
              "        text-align: right;\n",
              "    }\n",
              "</style>\n",
              "<table border=\"1\" class=\"dataframe\">\n",
              "  <thead>\n",
              "    <tr style=\"text-align: right;\">\n",
              "      <th></th>\n",
              "      <th>Feature 1</th>\n",
              "      <th>Feature 2</th>\n",
              "      <th>Pearsons R</th>\n",
              "      <th>Feat1 Target Corr</th>\n",
              "      <th>Feat2 Target Corr</th>\n",
              "    </tr>\n",
              "  </thead>\n",
              "  <tbody>\n",
              "    <tr>\n",
              "      <th>0</th>\n",
              "      <td>BLOODPRESSURE_SISTOLIC_MEAN</td>\n",
              "      <td>BLOODPRESSURE_SISTOLIC_MEDIAN</td>\n",
              "      <td>0.997479</td>\n",
              "      <td>0.013686</td>\n",
              "      <td>0.009128</td>\n",
              "    </tr>\n",
              "    <tr>\n",
              "      <th>1</th>\n",
              "      <td>TEMPERATURE_MEAN</td>\n",
              "      <td>TEMPERATURE_MEDIAN</td>\n",
              "      <td>0.994441</td>\n",
              "      <td>0.131426</td>\n",
              "      <td>0.131610</td>\n",
              "    </tr>\n",
              "    <tr>\n",
              "      <th>2</th>\n",
              "      <td>HEART_RATE_MEAN</td>\n",
              "      <td>HEART_RATE_MEDIAN</td>\n",
              "      <td>0.993333</td>\n",
              "      <td>0.037078</td>\n",
              "      <td>0.039241</td>\n",
              "    </tr>\n",
              "    <tr>\n",
              "      <th>3</th>\n",
              "      <td>BLOODPRESSURE_DIASTOLIC_MEAN</td>\n",
              "      <td>BLOODPRESSURE_DIASTOLIC_MEDIAN</td>\n",
              "      <td>0.992169</td>\n",
              "      <td>0.211417</td>\n",
              "      <td>0.216648</td>\n",
              "    </tr>\n",
              "    <tr>\n",
              "      <th>4</th>\n",
              "      <td>RESPIRATORY_RATE_MEDIAN</td>\n",
              "      <td>RESPIRATORY_RATE_MEAN</td>\n",
              "      <td>0.991306</td>\n",
              "      <td>0.135192</td>\n",
              "      <td>0.136376</td>\n",
              "    </tr>\n",
              "    <tr>\n",
              "      <th>5</th>\n",
              "      <td>OXYGEN_SATURATION_MEDIAN</td>\n",
              "      <td>OXYGEN_SATURATION_MEAN</td>\n",
              "      <td>0.985127</td>\n",
              "      <td>0.191265</td>\n",
              "      <td>0.177114</td>\n",
              "    </tr>\n",
              "    <tr>\n",
              "      <th>6</th>\n",
              "      <td>HEART_RATE_MEDIAN</td>\n",
              "      <td>HEART_RATE_MAX</td>\n",
              "      <td>0.983823</td>\n",
              "      <td>0.039241</td>\n",
              "      <td>0.048747</td>\n",
              "    </tr>\n",
              "    <tr>\n",
              "      <th>7</th>\n",
              "      <td>HEART_RATE_MEAN</td>\n",
              "      <td>HEART_RATE_MAX</td>\n",
              "      <td>0.982855</td>\n",
              "      <td>0.037078</td>\n",
              "      <td>0.048747</td>\n",
              "    </tr>\n",
              "    <tr>\n",
              "      <th>8</th>\n",
              "      <td>BLOODPRESSURE_SISTOLIC_MEAN</td>\n",
              "      <td>BLOODPRESSURE_SISTOLIC_MIN</td>\n",
              "      <td>0.981732</td>\n",
              "      <td>0.013686</td>\n",
              "      <td>0.009848</td>\n",
              "    </tr>\n",
              "    <tr>\n",
              "      <th>9</th>\n",
              "      <td>BLOODPRESSURE_SISTOLIC_MEAN</td>\n",
              "      <td>BLOODPRESSURE_SISTOLIC_MAX</td>\n",
              "      <td>0.981233</td>\n",
              "      <td>0.013686</td>\n",
              "      <td>0.023296</td>\n",
              "    </tr>\n",
              "    <tr>\n",
              "      <th>10</th>\n",
              "      <td>BLOODPRESSURE_SISTOLIC_MIN</td>\n",
              "      <td>BLOODPRESSURE_SISTOLIC_MEDIAN</td>\n",
              "      <td>0.976897</td>\n",
              "      <td>0.009848</td>\n",
              "      <td>0.009128</td>\n",
              "    </tr>\n",
              "    <tr>\n",
              "      <th>11</th>\n",
              "      <td>TEMPERATURE_MIN</td>\n",
              "      <td>TEMPERATURE_MEAN</td>\n",
              "      <td>0.975685</td>\n",
              "      <td>0.146427</td>\n",
              "      <td>0.131426</td>\n",
              "    </tr>\n",
              "    <tr>\n",
              "      <th>12</th>\n",
              "      <td>BLOODPRESSURE_SISTOLIC_MAX</td>\n",
              "      <td>BLOODPRESSURE_SISTOLIC_MEDIAN</td>\n",
              "      <td>0.974104</td>\n",
              "      <td>0.023296</td>\n",
              "      <td>0.009128</td>\n",
              "    </tr>\n",
              "    <tr>\n",
              "      <th>13</th>\n",
              "      <td>RESPIRATORY_RATE_MEAN</td>\n",
              "      <td>RESPIRATORY_RATE_MAX</td>\n",
              "      <td>0.969418</td>\n",
              "      <td>0.136376</td>\n",
              "      <td>0.129745</td>\n",
              "    </tr>\n",
              "    <tr>\n",
              "      <th>14</th>\n",
              "      <td>HEART_RATE_MEAN</td>\n",
              "      <td>HEART_RATE_MIN</td>\n",
              "      <td>0.967973</td>\n",
              "      <td>0.037078</td>\n",
              "      <td>0.021580</td>\n",
              "    </tr>\n",
              "    <tr>\n",
              "      <th>15</th>\n",
              "      <td>TEMPERATURE_MIN</td>\n",
              "      <td>TEMPERATURE_MEDIAN</td>\n",
              "      <td>0.967694</td>\n",
              "      <td>0.146427</td>\n",
              "      <td>0.131610</td>\n",
              "    </tr>\n",
              "    <tr>\n",
              "      <th>16</th>\n",
              "      <td>TEMPERATURE_MAX</td>\n",
              "      <td>TEMPERATURE_MEAN</td>\n",
              "      <td>0.967386</td>\n",
              "      <td>0.107104</td>\n",
              "      <td>0.131426</td>\n",
              "    </tr>\n",
              "    <tr>\n",
              "      <th>17</th>\n",
              "      <td>BLOODPRESSURE_DIASTOLIC_MEAN</td>\n",
              "      <td>BLOODPRESSURE_DIASTOLIC_MAX</td>\n",
              "      <td>0.967118</td>\n",
              "      <td>0.211417</td>\n",
              "      <td>0.203286</td>\n",
              "    </tr>\n",
              "    <tr>\n",
              "      <th>18</th>\n",
              "      <td>BLOODPRESSURE_DIASTOLIC_MEAN</td>\n",
              "      <td>BLOODPRESSURE_DIASTOLIC_MIN</td>\n",
              "      <td>0.966544</td>\n",
              "      <td>0.211417</td>\n",
              "      <td>0.194048</td>\n",
              "    </tr>\n",
              "    <tr>\n",
              "      <th>19</th>\n",
              "      <td>RESPIRATORY_RATE_MIN</td>\n",
              "      <td>RESPIRATORY_RATE_MEAN</td>\n",
              "      <td>0.963307</td>\n",
              "      <td>0.133617</td>\n",
              "      <td>0.136376</td>\n",
              "    </tr>\n",
              "    <tr>\n",
              "      <th>20</th>\n",
              "      <td>RESPIRATORY_RATE_MEDIAN</td>\n",
              "      <td>RESPIRATORY_RATE_MAX</td>\n",
              "      <td>0.962374</td>\n",
              "      <td>0.135192</td>\n",
              "      <td>0.129745</td>\n",
              "    </tr>\n",
              "    <tr>\n",
              "      <th>21</th>\n",
              "      <td>BLOODPRESSURE_DIASTOLIC_MEDIAN</td>\n",
              "      <td>BLOODPRESSURE_DIASTOLIC_MIN</td>\n",
              "      <td>0.956289</td>\n",
              "      <td>0.216648</td>\n",
              "      <td>0.194048</td>\n",
              "    </tr>\n",
              "    <tr>\n",
              "      <th>22</th>\n",
              "      <td>TEMPERATURE_MEDIAN</td>\n",
              "      <td>TEMPERATURE_MAX</td>\n",
              "      <td>0.952553</td>\n",
              "      <td>0.131610</td>\n",
              "      <td>0.107104</td>\n",
              "    </tr>\n",
              "    <tr>\n",
              "      <th>23</th>\n",
              "      <td>BLOODPRESSURE_DIASTOLIC_MAX</td>\n",
              "      <td>BLOODPRESSURE_DIASTOLIC_MEDIAN</td>\n",
              "      <td>0.947285</td>\n",
              "      <td>0.203286</td>\n",
              "      <td>0.216648</td>\n",
              "    </tr>\n",
              "    <tr>\n",
              "      <th>24</th>\n",
              "      <td>OXYGEN_SATURATION_MAX</td>\n",
              "      <td>OXYGEN_SATURATION_MEAN</td>\n",
              "      <td>0.942620</td>\n",
              "      <td>0.152961</td>\n",
              "      <td>0.177114</td>\n",
              "    </tr>\n",
              "    <tr>\n",
              "      <th>25</th>\n",
              "      <td>HEART_RATE_MEDIAN</td>\n",
              "      <td>HEART_RATE_MIN</td>\n",
              "      <td>0.939155</td>\n",
              "      <td>0.039241</td>\n",
              "      <td>0.021580</td>\n",
              "    </tr>\n",
              "    <tr>\n",
              "      <th>26</th>\n",
              "      <td>RESPIRATORY_RATE_MEDIAN</td>\n",
              "      <td>RESPIRATORY_RATE_MIN</td>\n",
              "      <td>0.934539</td>\n",
              "      <td>0.135192</td>\n",
              "      <td>0.133617</td>\n",
              "    </tr>\n",
              "    <tr>\n",
              "      <th>27</th>\n",
              "      <td>BLOODPRESSURE_SISTOLIC_MAX</td>\n",
              "      <td>BLOODPRESSURE_SISTOLIC_MIN</td>\n",
              "      <td>0.932467</td>\n",
              "      <td>0.023296</td>\n",
              "      <td>0.009848</td>\n",
              "    </tr>\n",
              "    <tr>\n",
              "      <th>28</th>\n",
              "      <td>HEART_RATE_MAX</td>\n",
              "      <td>HEART_RATE_MIN</td>\n",
              "      <td>0.911892</td>\n",
              "      <td>0.048747</td>\n",
              "      <td>0.021580</td>\n",
              "    </tr>\n",
              "    <tr>\n",
              "      <th>29</th>\n",
              "      <td>OXYGEN_SATURATION_MAX</td>\n",
              "      <td>OXYGEN_SATURATION_MEDIAN</td>\n",
              "      <td>0.909718</td>\n",
              "      <td>0.152961</td>\n",
              "      <td>0.191265</td>\n",
              "    </tr>\n",
              "    <tr>\n",
              "      <th>30</th>\n",
              "      <td>TEMPERATURE_MAX</td>\n",
              "      <td>TEMPERATURE_MIN</td>\n",
              "      <td>0.896358</td>\n",
              "      <td>0.107104</td>\n",
              "      <td>0.146427</td>\n",
              "    </tr>\n",
              "    <tr>\n",
              "      <th>31</th>\n",
              "      <td>RESPIRATORY_RATE_MAX</td>\n",
              "      <td>RESPIRATORY_RATE_MIN</td>\n",
              "      <td>0.880797</td>\n",
              "      <td>0.129745</td>\n",
              "      <td>0.133617</td>\n",
              "    </tr>\n",
              "    <tr>\n",
              "      <th>32</th>\n",
              "      <td>BLOODPRESSURE_DIASTOLIC_MAX</td>\n",
              "      <td>BLOODPRESSURE_DIASTOLIC_MIN</td>\n",
              "      <td>0.880366</td>\n",
              "      <td>0.203286</td>\n",
              "      <td>0.194048</td>\n",
              "    </tr>\n",
              "    <tr>\n",
              "      <th>33</th>\n",
              "      <td>AGE_PERCENTIL</td>\n",
              "      <td>AGE_ABOVE65</td>\n",
              "      <td>0.871752</td>\n",
              "      <td>0.296178</td>\n",
              "      <td>0.252401</td>\n",
              "    </tr>\n",
              "  </tbody>\n",
              "</table>\n",
              "</div>"
            ],
            "text/plain": [
              "                         Feature 1  ... Feat2 Target Corr\n",
              "0      BLOODPRESSURE_SISTOLIC_MEAN  ...          0.009128\n",
              "1                 TEMPERATURE_MEAN  ...          0.131610\n",
              "2                  HEART_RATE_MEAN  ...          0.039241\n",
              "3     BLOODPRESSURE_DIASTOLIC_MEAN  ...          0.216648\n",
              "4          RESPIRATORY_RATE_MEDIAN  ...          0.136376\n",
              "5         OXYGEN_SATURATION_MEDIAN  ...          0.177114\n",
              "6                HEART_RATE_MEDIAN  ...          0.048747\n",
              "7                  HEART_RATE_MEAN  ...          0.048747\n",
              "8      BLOODPRESSURE_SISTOLIC_MEAN  ...          0.009848\n",
              "9      BLOODPRESSURE_SISTOLIC_MEAN  ...          0.023296\n",
              "10      BLOODPRESSURE_SISTOLIC_MIN  ...          0.009128\n",
              "11                 TEMPERATURE_MIN  ...          0.131426\n",
              "12      BLOODPRESSURE_SISTOLIC_MAX  ...          0.009128\n",
              "13           RESPIRATORY_RATE_MEAN  ...          0.129745\n",
              "14                 HEART_RATE_MEAN  ...          0.021580\n",
              "15                 TEMPERATURE_MIN  ...          0.131610\n",
              "16                 TEMPERATURE_MAX  ...          0.131426\n",
              "17    BLOODPRESSURE_DIASTOLIC_MEAN  ...          0.203286\n",
              "18    BLOODPRESSURE_DIASTOLIC_MEAN  ...          0.194048\n",
              "19            RESPIRATORY_RATE_MIN  ...          0.136376\n",
              "20         RESPIRATORY_RATE_MEDIAN  ...          0.129745\n",
              "21  BLOODPRESSURE_DIASTOLIC_MEDIAN  ...          0.194048\n",
              "22              TEMPERATURE_MEDIAN  ...          0.107104\n",
              "23     BLOODPRESSURE_DIASTOLIC_MAX  ...          0.216648\n",
              "24           OXYGEN_SATURATION_MAX  ...          0.177114\n",
              "25               HEART_RATE_MEDIAN  ...          0.021580\n",
              "26         RESPIRATORY_RATE_MEDIAN  ...          0.133617\n",
              "27      BLOODPRESSURE_SISTOLIC_MAX  ...          0.009848\n",
              "28                  HEART_RATE_MAX  ...          0.021580\n",
              "29           OXYGEN_SATURATION_MAX  ...          0.191265\n",
              "30                 TEMPERATURE_MAX  ...          0.146427\n",
              "31            RESPIRATORY_RATE_MAX  ...          0.133617\n",
              "32     BLOODPRESSURE_DIASTOLIC_MAX  ...          0.194048\n",
              "33                   AGE_PERCENTIL  ...          0.252401\n",
              "\n",
              "[34 rows x 5 columns]"
            ]
          },
          "metadata": {
            "tags": []
          },
          "execution_count": 19
        }
      ]
    },
    {
      "cell_type": "markdown",
      "metadata": {
        "id": "Wop64KfPZ31p",
        "colab_type": "text"
      },
      "source": [
        "In this table we have the 33 predictor features correlation, their Person's R between each other, and the correlation of each one with the target variable.\n",
        "\n",
        "Let's drop the columns that have less correlation with the target variable."
      ]
    },
    {
      "cell_type": "code",
      "metadata": {
        "_kg_hide-input": true,
        "id": "d0aP5X2PZ31q",
        "colab_type": "code",
        "colab": {
          "base_uri": "https://localhost:8080/",
          "height": 170
        },
        "outputId": "fff8617f-45f6-43d4-a119-b6fa26eba824"
      },
      "source": [
        "multicol_columns_to_drop = multicol_df.apply(lambda x: x['Feature 1'] if x['Feat1 Target Corr'] < x['Feat2 Target Corr'] else x['Feature 2'], axis=1).unique()\n",
        "multicol_columns_to_drop"
      ],
      "execution_count": 20,
      "outputs": [
        {
          "output_type": "execute_result",
          "data": {
            "text/plain": [
              "array(['BLOODPRESSURE_SISTOLIC_MEDIAN', 'TEMPERATURE_MEAN',\n",
              "       'HEART_RATE_MEAN', 'BLOODPRESSURE_DIASTOLIC_MEAN',\n",
              "       'RESPIRATORY_RATE_MEDIAN', 'OXYGEN_SATURATION_MEAN',\n",
              "       'HEART_RATE_MEDIAN', 'BLOODPRESSURE_SISTOLIC_MIN',\n",
              "       'BLOODPRESSURE_SISTOLIC_MEAN', 'RESPIRATORY_RATE_MAX',\n",
              "       'HEART_RATE_MIN', 'TEMPERATURE_MEDIAN', 'TEMPERATURE_MAX',\n",
              "       'BLOODPRESSURE_DIASTOLIC_MAX', 'BLOODPRESSURE_DIASTOLIC_MIN',\n",
              "       'RESPIRATORY_RATE_MIN', 'OXYGEN_SATURATION_MAX', 'AGE_ABOVE65'],\n",
              "      dtype=object)"
            ]
          },
          "metadata": {
            "tags": []
          },
          "execution_count": 20
        }
      ]
    },
    {
      "cell_type": "code",
      "metadata": {
        "id": "FOzWDXfyZ31v",
        "colab_type": "code",
        "colab": {}
      },
      "source": [
        "model_data.drop(multicol_columns_to_drop, axis=1, inplace=True)"
      ],
      "execution_count": 21,
      "outputs": []
    },
    {
      "cell_type": "code",
      "metadata": {
        "id": "7s-iHFM7Z310",
        "colab_type": "code",
        "colab": {
          "base_uri": "https://localhost:8080/",
          "height": 575
        },
        "outputId": "c80dc98e-7f27-4e38-9a99-44ca4b796db2"
      },
      "source": [
        "width=8\n",
        "height=6\n",
        "fig = plt.figure(figsize=(width,height))\n",
        "sns.heatmap(model_data.iloc[:, 1:-1].corr(), cmap='bwr')"
      ],
      "execution_count": 22,
      "outputs": [
        {
          "output_type": "execute_result",
          "data": {
            "text/plain": [
              "<matplotlib.axes._subplots.AxesSubplot at 0x7f934d8aceb8>"
            ]
          },
          "metadata": {
            "tags": []
          },
          "execution_count": 22
        },
        {
          "output_type": "display_data",
          "data": {
            "image/png": "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\n",
            "text/plain": [
              "<Figure size 576x432 with 2 Axes>"
            ]
          },
          "metadata": {
            "tags": [],
            "needs_background": "light"
          }
        }
      ]
    },
    {
      "cell_type": "code",
      "metadata": {
        "_kg_hide-input": true,
        "id": "Abnxphh9Z315",
        "colab_type": "code",
        "colab": {
          "base_uri": "https://localhost:8080/",
          "height": 102
        },
        "outputId": "aab50000-7355-4158-f00f-bc24642e97a1"
      },
      "source": [
        "model_data.columns"
      ],
      "execution_count": 23,
      "outputs": [
        {
          "output_type": "execute_result",
          "data": {
            "text/plain": [
              "Index(['PATIENT_VISIT_IDENTIFIER', 'AGE_PERCENTIL', 'GENDER',\n",
              "       'RESPIRATORY_RATE_MEAN', 'BLOODPRESSURE_DIASTOLIC_MEDIAN',\n",
              "       'OXYGEN_SATURATION_MEDIAN', 'TEMPERATURE_MIN',\n",
              "       'BLOODPRESSURE_SISTOLIC_MAX', 'HEART_RATE_MAX', 'ICU'],\n",
              "      dtype='object')"
            ]
          },
          "metadata": {
            "tags": []
          },
          "execution_count": 23
        }
      ]
    },
    {
      "cell_type": "markdown",
      "metadata": {
        "id": "RvDzynP2Z31_",
        "colab_type": "text"
      },
      "source": [
        "Now our data has 8 features. "
      ]
    },
    {
      "cell_type": "markdown",
      "metadata": {
        "id": "FE7srk9ZZ32A",
        "colab_type": "text"
      },
      "source": [
        "# **4. MODEL CREATION**"
      ]
    },
    {
      "cell_type": "markdown",
      "metadata": {
        "id": "kwJ548bLZ32F",
        "colab_type": "text"
      },
      "source": [
        "Since our aim is to predict which patients will NOT be admitted to the ICU, or ICU = 0, the most important metric to evaluate the models is the <b>Specificity</b> or <b>True Negative Rate</b>. Let's create a scorer for that."
      ]
    },
    {
      "cell_type": "code",
      "metadata": {
        "id": "sJVi3IElZ32G",
        "colab_type": "code",
        "colab": {}
      },
      "source": [
        "tnr = make_scorer(recall_score,pos_label=0)"
      ],
      "execution_count": 24,
      "outputs": []
    },
    {
      "cell_type": "code",
      "metadata": {
        "id": "RbqzTHMnZ32L",
        "colab_type": "code",
        "colab": {}
      },
      "source": [
        "X = model_data.iloc[:,1:-1]\n",
        "y = model_data['ICU']\n",
        "X_train, X_test, y_train, y_test = train_test_split(X, y, test_size=0.25, random_state=17)"
      ],
      "execution_count": 25,
      "outputs": []
    },
    {
      "cell_type": "code",
      "metadata": {
        "id": "zIUiGxBfZ32P",
        "colab_type": "code",
        "colab": {
          "base_uri": "https://localhost:8080/",
          "height": 34
        },
        "outputId": "2b41ae4c-4dc3-4137-bced-45125f04fa76"
      },
      "source": [
        "X_train.shape"
      ],
      "execution_count": 26,
      "outputs": [
        {
          "output_type": "execute_result",
          "data": {
            "text/plain": [
              "(225, 8)"
            ]
          },
          "metadata": {
            "tags": []
          },
          "execution_count": 26
        }
      ]
    },
    {
      "cell_type": "code",
      "metadata": {
        "id": "AbbYrLJ4Z32V",
        "colab_type": "code",
        "colab": {
          "base_uri": "https://localhost:8080/",
          "height": 34
        },
        "outputId": "fa78f7ee-2b7d-4141-f11a-1ca07ab4d46a"
      },
      "source": [
        "clf = RandomForestClassifier(max_depth=5, random_state=42)\n",
        "clf.fit(X_train, y_train)\n",
        "print('True Negative Rate: ', tnr(clf, X_test, y_test))"
      ],
      "execution_count": 27,
      "outputs": [
        {
          "output_type": "stream",
          "text": [
            "True Negative Rate:  0.8297872340425532\n"
          ],
          "name": "stdout"
        }
      ]
    },
    {
      "cell_type": "code",
      "metadata": {
        "id": "YXfG-ft4Z32a",
        "colab_type": "code",
        "colab": {
          "base_uri": "https://localhost:8080/",
          "height": 265
        },
        "outputId": "80336cd6-0df9-444a-bf85-89de377b3429"
      },
      "source": [
        "importance = pd.DataFrame(clf.feature_importances_, index=X.columns, columns=[\"Importance\"])\n",
        "importance.sort_values(by='Importance').plot(kind='barh');"
      ],
      "execution_count": 28,
      "outputs": [
        {
          "output_type": "display_data",
          "data": {
            "image/png": "iVBORw0KGgoAAAANSUhEUgAAAiIAAAD4CAYAAADRjo1KAAAABHNCSVQICAgIfAhkiAAAAAlwSFlzAAALEgAACxIB0t1+/AAAADh0RVh0U29mdHdhcmUAbWF0cGxvdGxpYiB2ZXJzaW9uMy4yLjIsIGh0dHA6Ly9tYXRwbG90bGliLm9yZy+WH4yJAAAgAElEQVR4nO3de7xVVb3//9cbVC5eULyFkm5RxFIEFbFUivAClaYmXtCTUnqs1EyOUpTaoTqV18Bbmt801IcXzBJTK7zyy1vKBrkoXhDZGWSllCiCpvj5/THHpslirb3X2mz23MD7+Xish2uNMeYYnznXlvlZY465liICMzMzsyJ0KDoAMzMzW385ETEzM7PCOBExMzOzwjgRMTMzs8I4ETEzM7PCbFB0AGZrk6222irq6uqKDsPMbK0ybdq0NyJi63J1TkTMalBXV0d9fX3RYZiZrVUk/blSnS/NmJmZWWGciJiZmVlhnIiYmZlZYZyImJmZWWGciJiZmVlhfNeMWQ1mL1xM3Zj7ig7DzKxNNVz4+TXWt2dEzMzMrDBORMzMzKwwTkTMzMysME5EzMzMrDBORNohSVtKmpEef5O0MPc6cs9nSBqTtpki6VVJyvUzSdKS9LxO0rK0zRxJ10rqUFLe+DgpbdMgabakWZL+P0k7lsQ5SdKf0vOhue2XSHoxPb9J0khJV5VsO0XSgObGkbS83P5WOG7VHINn0/PB6Vgenmt7r6TBNb9hZmbWYr5rph2KiEVAfwBJY4ElEXFper0kIvpX2PRN4ADgMUmbAz1K6udFRH9JGwAPA0cC0xvLK/T5mYh4Q9L3gfOB/05xbA7sAyyR1CsiJgOTU90U4NyIqE+vR1ax22XHAZY1EVs5zR2DvAXAecA9NfRvZmatyDMi65bbgePT8y8CvynXKCI+AJ4Adqmh7yeB7XOvv0h2As+P2RpKx6lVVccgmQkslnRIUx1KOk1SvaT65UsXr0ZoZmZWyonI2qdLyaWK43J1DwGfktSR7GQ8sVwHkroCBwGzU9HOJX0OKrPZMGBS7vUI4Lb0GLGa+9TUOE3tbzlVHYOcH5HNwFQUEddFxICIGNCxa7fm4jczsxr40szap6lLFcuBx8hOwF0ioiG3XAJSwgEEcHdE/F5SHU1fmnlEUndgCXABgKRtgd7AYxERkt6XtEdEPFuhj6iifJVxqtjfcpo7BisHEPFHSUg6sIYxzMyslXhGZN1zO3AFcEeZunkR0T8i9oqIsVX29xlgR2AG8P1UdiywBTBfUgNQR9OzIotS+7zuwBvNjNNSTR2DcpqdFTEzszXDici651HgJ2SXTFpFWlNyNnBSmrUYAQyLiLqIqCNbtNrUOpGpwAGSPgKQ7pbpBPylmXFaqqZjEBH3kyVKe67GmGZm1gK+NLP26ZIurzT6Q0SsuKU1IgK4tMY+dy7p84aIuCLfICJek3QbcAbZzMWfcnXzJS2WtF9EPFXaeUT8XdI3gd9J6kB2+WVERHxYpm1+nB82t7/ltPAY/Ai4u8ZtzMxsNSn7N9vMqtGpR+/ocfL4osMwM2tTq/ujd5KmRcSAcnWeETGrQd/tu1G/Bn+F0sxsfeNExNY6ku4Cdiop/nb6UjUzM1uLOBGxtU5EHFV0DGZm1jp814yZmZkVxomImZmZFcaJiJmZmRXGiYiZmZkVxomImZmZFcaJiJmZmRXGiYiZmZkVxomImZmZFcaJiJmZmRXGiYiZmZkVxl/xblaD2QsXUzfmvqLDMDNrE6v7q7vV8IyImZmZFcaJiJmZmRXGiYiZmZkVxomImZmZFcaJSI6k5ZJmSHpW0j2SNk/ldZKWpbrGx0mp7iuSZkualbY7IpVPkDQ/tZ0u6ZO58uHp+RRJL0qaKWmqpP4l8YyXtFBSB0l9c2P/M9f3g6nt7pIeTv3NlXSBJKW6kZJeT+1fkDRKUuf0vG9uvNGSfl7h2OSPwRxJN0naMFe/QRrjwvT6vFy8y3PPz5I0Nu1X/nhuXmHcwZJC0qm5sv6p7Nwyx3qGpCdK+pgk6U8lZWMlLZW0Ta5sSfm/DDMzW1OciKxsWUT0j4g9gH8CZ+Tq5qW6xsdNknoC5wEHRsSewCeAWbltRkdEf2AMUPYED5wYEf2AnwGXNBZK6gAcBfwF+HREzG4cG/htY98RcbCkLqnswojoA/QD9gdOz40zMW17QIp5a+Bs4GfKbA98LcVaybzUR1+gJ3Bsru4Q4CXgGEmKiB/l4l2WO25XpPbjSo7nm02M+2zJWCOAmSVtRuf62j93HDcH9gG6SepVss0bwDlNjGtmZmuYE5HKngS2b6bNNsDbwBKAiFgSEfPLtPsjsEuN4w0GngOuITvxNuUE4PGIuD/FsRQ4kzJJRUQsAl4GekTEH4DXgJOAccDYiPhXM2MREcuBp0viHQFcDrwKfLK5Pmr0Z6CzpG3TLM8w4PdVbvtF4B7gduD4krobgOMkdW+qA0mnSaqXVL986eIaQzczs6Y4ESlDUkfgILJZhkY7l1xKGET2qfzvwHxJv5R0eIUuDwdmNzPsMGBS7vUI4DbgLuDz+csgZewOTMsXRMQ8YBNJm5Xs2w5AZ/4zc3M28CNg64i4uZkYG/voDOwH/CH3+mCyE/5tNJ84AYzKHctHqmh/J3AM2UzPdOC9kvpLcv3dkitvPI7l4lpClox8s6mBI+K6iBgQEQM6du1WRahmZlYtf6HZyrpImkH2Sf954IFcXeNliZVIGgbsS5a4jJO0T0SMTdWXSDofeB04pcKYt0jaCNgE6J/63Aj4HPA/EfG2pKeAocC9q7Fvx0n6FLAbcGZEvAsQEX+V9HCVfe+cjs9OwH0R0ZjMHAY8EhHLJP0auEDS2WnmpJJxEXFpDfHfAUxM8d9GlpDkjY6IO/MFkrYFegOPRURIel/SHhHxbK7ZFcAMSbXEYmZmrcQzIitblpKNHQGx8hqRsiLzdET8hGzq/+hcdeO6hUNKTn55JwK9gBuBK1PZUGBzYLakBuBAmp5lmEO2DmKFtB5iSUS8lYompnUs+wMXSvpIrvmH6dGcxmRsZ2AfSV9I5SOAg1Os04AtgSFV9Fe1iPgb8D7ZWpSHqtzsWGALshmrBqCOkuOY1qbcShXvtZmZtT4nImWkNRZnAedIqjhrJGk7SXvnivqTrWeodbwALgA+IWk3spPlqRFRFxF1ZDMQh0jqWqGLW4ADJR2c4upC9kn/4jJj1QM308zliGbifYNs/cl30qWfQcAOuXjPoLrLM7X6HvDtZmZa8kYAw3Jx7cOq60QAfgp8Fc8Qmpm1OSciFUTEM2TrKBpPqKVrRM4CNgQuTbfBzgCOo4Un+IhYBlwGfJtsvch9ubp3gMfI1ppU2vYI4HxJL5KtR5kKXFVhuIuAL0vatCWxJpOArsAo4OGIyK/ZuBs4XFKnJrYfVXI865obMCKeiIhJFaovKelvV7KZrT/ltp8PLJa0X0m/b5CtxWkqXjMzWwOUfRg3s2p06tE7epw8vugwzMzaRGv96J2kaRExoFydp6LNatB3+27Ut8GvUZqZrS+ciNhKlH3TaultvO9FxH7l2rfiuEPJLhnlzY+Io9bkuGZmViwnIraSiJhNuo24jcedDExu63HNzKxYXqxqZmZmhXEiYmZmZoVxImJmZmaFcSJiZmZmhXEiYmZmZoVxImJmZmaFcSJiZmZmhXEiYmZmZoVxImJmZmaFcSJiZmZmhXEiYmZmZoXxb82Y1WD2wsXUjbmv6DDMbB3WsJ79wrdnRMzMzKwwTkTMzMysME5EzMzMrDBORNZxko6UFJJ2y5UNlDRF0lxJ0yXdJ6lvqhsraaGkGbnH5hX6HixpcWrzvKT/LVPe+Dg41S1Pr5+VdE++b0nnSnoh1U+VdFIqnyLpxVxfd+ZiXSppm1wfSyRtmWv7t5L92UjSktS2TtKzrX/UzcysWl6suu4bATyW/vu/krYF7gBOiIgnACQdCOwMzE7bjIuIS6vs/9GIOEzSxsAMSffky8u0XxYR/dO4NwJnAD+S9DXgEGBgRLwlaTPgqNx2J0ZEfZn+3gDOAb7dWBARi4DGMcYCS/L7I6nKXTMzszXNMyLrMEmbAAcCpwDHp+IzgRsbkxCAiHgsIiatzlgR8Q4wDdilhs2eBLZPz78LfD0i3kr9vRURN1bRxw3AcZK61xJvLSSdJqleUv3ypYvX1DBmZuslJyLrtiOAP0TES8AiSfsAuwPTm9luVO5SxiPVDCRpS+ATwHOpaFDJpZmdS9p3BA4CfptmPzaNiFeaGOKWXF+X5MqXkCUj36wmzpaIiOsiYkBEDOjYtduaGsbMbL3kSzPrthHA5en57en1SiQ9BWwG3B8RjSfzWi7NDJL0DPAhcGFEPCdpMJUvzXSRNINsJuR54AFg4yrGqXRpBuAKsstC1cZsZmbthBORdVS6VDEE6CspgI5AADcCewN3A0TEfpKGA+WShmpUSjgqWRYR/SV1BSYDZ0TEFWmRaa9mZkXKiog3Jd1Ktt7EzMzWIr40s+4aDtwcETtGRF1EfBSYTzYDMVLS/rm2Xds6uIhYCpwFnCNpA+AnwNXpMg2SNmm8a6ZKPwW+ipNrM7O1ihORddcI4K6Ssl+n8uOAn0h6WdITZEnLVbl2o0rWd9S1YPzSNSLDSxtExDPArBTTNcAjwNR0S+2jZJd7GuXXiDxYpq830v52qjHOPpIW5B7H1Li9mZmtBkVE0TGYrTU69egdPU4eX3QYZrYOWxd/a0bStIgYUK7O09hmNei7fTfq18F/JMzMiuJExJolaShwUUnx/Ig4qlx7MzOzajkRsWZFxGSyO1zMzMxalRermpmZWWGciJiZmVlhnIiYmZlZYZyImJmZWWGciJiZmVlhnIiYmZlZYZyImJmZWWGciJiZmVlhnIiYmZlZYZyImJmZWWGciJiZmVlh/FszZjWYvXAxdWPuKzoMM2unGvzr3DXzjIiZmZkVxomImZmZFcaJiJmZmRWm2URE0nJJMyTNlDRd0v6pvE7Ss2Xa95R0t6S5kuZJulzSRrn6AyU9LemF9DgtVzdW0sI03lxJv5H08Vz9FEkvplgel9SnTPlUSf1z2zRImp36nCHpilT+CUlPpbLnJY1N5dtKujf1NUfS71L5YEn3luzrBEnDWxpDheM9QdL81M9Lkm6S1LOkr61yr4+UFJJ2y5V1kHSFpGfTuFMl7ZTb31clvZ6Lp05StzTWy+l9u0lSt2be6/z+byjpwvS+TZf0pKTPNrGfDZIeLSmb0ThOOt6LczHOkHRwqmv8m3wuHadzJHVo4n2aJOlPJWVjJS2VtE2ubEmleM3MbM2oZkZkWUT0j4h+wHeAn1RqKEnAb4BJEdEb2BXYBPhRqv8IcCvwtYjYDTgQ+Kqk/OqecWm83sBE4GFJW+fqT0yx3AhcUqb8ZyXlAJ9JffaPiLNS2Y3AaRHRH9gDuCOV/wB4ICL6RcTHgTHNH6IWx1DJ6NRPH+AZsmOwUYW2I4DH0n8bHQdsB+wZEX2Bo4A3I2K/tL/fAybm4mkArgdeiYhdImJnYD7wi2p3HPgh0APYIyL2Bo4ENm1mm00lfRRA0sfK1D+ai7F/RDyYyhv/JncHDgE+C/xvuQEkbQ7sA3ST1Kuk+g3gnGp2zszM1oxaL81sBvyrifohwLsR8UuAiFgOjAK+IqkrcAYwISKmp/o3gG9R4WQfEROB+4ETylT/EdilTPmTwPZV7Ms2wGuNcUbEnFTeA1iQi2FWFX21NIYmRWYc8Deyk+1KJG1ClsydAhyfq+oBvBYRH6Z+FkRExfdN0i5kJ+sf5op/AAyQtHNzcab39r+Bb0TEe2nMv0fEHU1vyR1kSRNkidRtzY1VKiL+AZwGnJkS4VJfBO4BbmflYwRwA3CcpO5NjSHpNEn1kuqXL11ca4hmZtaEahKRLmka/AWyT8g/bKLt7sC0fEFEvAW8SpY0rFIP1KfySqYDu5UpPxyYXaZ8GDCppOyR3PT+qFQ2DnhR0l2Sviqpcyq/Grhe0iOSzpO0XROxVVJtDNWqdAyOAP4QES8BiyTtk8rvAA5PY10maa9m+v84MCMljsCKJHIGTb83jXYBXk3vdS1+TZYoQPZ+3lNSP6jk0kzZpCgiXgE6kiWXpRoTnNtYedYIYAlZMvLNpoKMiOsiYkBEDOjYtVuTO2RmZrWp5ntElqXpfCR9ErhJ0h5rNqyVlH7KvUXSMqAB+EZJ+UZkl4L6l2zzmTT7skJE/EDSLcChZDMuI4DBETE5TeEPI5uFeCbtb1SIL19eUww1KPdJnxTz5en57en1tIhYoGz9zJD0eEjSMRHxUAvHX1MWAf+SdDzwPLC0pP7RiDispZ1L2hboDTwWESHpfUl7RER+vcsVwAxJl7Z0HDMza7maLs1ExJPAVsDWFZrMIZviX0HSZsAOwMvl6tPr55oYdi+yk1SjE9P6gCMj4i/5cqAX2dqPK5vZFQAiYl5EXAMcBPSTtGUq/2dE3BoRXwKmAp8iO2luUdJFd7J1Bi2OoUqlx4B0OWEI8AtJDcBo4NjGyxMR8V5E/D4iRgM/JluzUckcoH/jgs/UfweyZGpOxa3+42Vgh/Re12oi2SxUzZdlGqXEcTnwj5KqY8nes/npGNVRMisSEW+SrVs6o6Xjm5lZy9WUiKQ7MzqSnZTLeQjoKumk1L4jcBnZupClZCeckUp3lKQT/0XAxRXGO5psxqKqk1REBHAB8Anl7iKp0Pfnc2sKepOdyN6UNCSteUDSpsDOZJeW5gLbNS6qlLQj0I/s8kWLYmiOMmeRrfn4Q0n1cODmiNgxIuoi4qNkC0wHSdq78ZJSSij2BP5caZyIeJlsUez5ueLzgemprknpvb0eWHGHlKStJR1TxW7eRfb+T66i7SrSQuZrgavSsc8bAQxLx6eOLOktXScC8FPgq/ibhs3M2lwta0RmkH16PTm3lqCPpAWND7KT41HAMZLmAi8B7wLfBYiI14D/Av5fWnPyBHBDROTXBoxK481NbYdExOvV7lBELCNLfkbnivPrM25KZV8iWyMyA7iZbKZlOdnJql7SLLJFp7+IiKlpEeZ/Ab9M29wJnBoRq6xerCGGSi6RNJPs+O1Ldlnn3yVtRpCdxPN+ncq3Ae5RdivsLOAD4KpmxjwF2FXZrbvzyO54OiVXv9J7XSbJOB94HZiTxr0XaHbNSES8HREXldk/WHWNyPBU3vg3+RzwINmC5u/nN5RUB+wIrLhtNyLmA4sl7VcSwxtkx7JTc/GamVnr0qofIs2skk49ekePk8cXHYaZtVP+rZnyJE2LiAHl6jwVbVaDvtt3o97/0JiZtRonIgWRdDVwQEnx5Y3fwbKukPQUq17y+FJElLv12szM1jNORAoSEevFXRoRsV/zrczMbH3lH70zMzOzwjgRMTMzs8I4ETEzM7PCOBExMzOzwjgRMTMzs8I4ETEzM7PCOBExMzOzwjgRMTMzs8I4ETEzM7PCOBExMzOzwjgRMTMzs8L4t2bMajB74WLqxtxXdBhm66wG/7r1esczImZmZlYYJyJmZmZWGCciZmZmVpi1MhGR1FPS3ZLmSpon6XJJ3dLz3qnNhpJmS9pP0mOSPpvb/hhJf0jPt5V0q6RXJE2T9KSko1LdYEmLJc3IPQ5OdSHpslyf50oa20TMfSRNSX08L+m6kvqzJb2b9mPL3Hh/k7Qw93pXSc+WbDtW0rnp+QRJ81PbmZIOauE4G0lakttud0kPS3oxHfcLJCnVjZT0oaQ9c+2flVTXxPFokPRoSdmMxn1r5tgvT6+fS/t4jqQOue3uLel3kqQ/lTlmSyVtkytbgpmZtam1LhFJJ7/fAJMiojewK7AJcD7wHeCq1PRc4ImIeAr4GvBTSZ0lbQL8GDgj9TUJ+GNE9IqIfYDjgZ65IR+NiP65x4Op/D3gi5K2qjL0K4BxqY+PAVeW1I8ApgJfjIhFjeMB1+a26w/8u4qxRqe2Z6ftax4nIlaMI6kL8FvgwojoA/QD9gdOz/W7ADivqiPxH5tK+mga42Nl6isd+2Xp9e7AIcBngf8tN4CkzYF9gG6SepVUvwGcU2PMZmbWita6RAQYArwbEb8EiIjlwCjgK8C9AJK+RZZ8fCe1eRa4B/g28D3gpoiYl/r6d0SsOFlHxJ8jojRJKOcD4Lo0djV6kJ2sG8eZ3fhc0s78J5kaUWV/1XgS2L4VxjkBeDwi7geIiKXAmcCYXJt7gd0l9amh3zuA49LzEcBtNWxLiuUfwGnAmY0zNCW+SPbe306WZObdABwnqXut45qZWetYGxOR3YFp+YKIeAt4FdgF+CZwEfB/EfHPXLPvk51QPwtcnOtrejPjDSq5PLBzru5q4ERJ3aqIexzwsKTfSxqVPqk3Op7sRPko0EfStlX0V41hZDM+qztOuWM+D9hE0map6EOy4/rdGuL7NVmiAHA4WcKQ19Sxz8fyCtAR2KZMdWOCcxurJl9LyJKRbzYVpKTTJNVLql++dHGTO2RmZrVZGxOR5gwDXgP2yBdGxDvARODmiHiv3IaSrk5rDqbmiksvD8zL9fkWcBNwVnNBpRmcjwG/AgYDf5LUKVWPAG6PiA/JTs7HNNVVFeWXSHoJuJUsKWtUyzgtcSvwCUk7Vdl+EfAvSccDzwNLS+orHvtqpESrN/BYRLwEvC9pj5JmVwAnS9q0Uj8RcV1EDIiIAR27VpNzmplZtdbGRGQO2TX/FdKn8h3IrvmfBQwEPpdfPJl8mB6NngP2bnwREWcABwFb1xDPeOAUYOPmGkbEXyPihog4guzSzh6S+pKdLB+Q1EA2a9HUZZNFwBYlZd3J9r3R6IjYlexS1A0ALRgnr9wx7wUsSclY4/59AFyWxq3WRLKZpZovy5TEshz4R0nVsWTHan7a5zpK9jki3iRLoM5o6fhmZtZya2Mi8hDQVdJJAJI6kp38JpBd/vhxRCwA/ge4usK6gUYPA50lfT1X1rWWYNLlnzvIkpGKJA2TtGF6/hFgS2Ah2YlxbETUpcd2wHaSdqww3hLgNUlDUl/dyWaBHivT/Cqgg6ShtY5T4hbgwNxdK13IZhIuLtN2AnAw1Sdzd6V+JlfZfiWStiZbaHtVRJTOFo0AhjXuM1kyVbpOBOCnwFfxNw2bmbW5tS4RSSebo4BjJM0FXgLeBe4nmxW5PrW7B/gXcFIzfR0JfDrd8vo0cCMrf6IvXacwvExXlwHN3T1zKPCspJlkJ93REfE3shPjXSVt76L8CbPRScAFkmaQJVPfL3fZIu3f/wHfauE4jf0sA44Azpf0IjCb7M6bq8q0/TdZklJuvUa5vt+OiIvyd+nkVDr2XRpv3wUeJHvvv5/fMN06vCOw4rbdiJgPLJa0X0kMb5Adi06YmVmb0qofIs2skk49ekePk8cXHYbZOsu/NbNukjQtIgaUq/NUtFkN+m7fjXr/Q2lm1mqciLQySeex6t0ov4qIHxURT9EkPcWqlzy+lP8eFTMzW385EWllKeFYL5OOciJiv+ZbmZnZ+mqtW6xqZmZm6w4nImZmZlYYJyJmZmZWGCciZmZmVhgnImZmZlYYJyJmZmZWGCciZmZmVhgnImZmZlYYJyJmZmZWGCciZmZmVhgnImZmZlYY/9aMWQ1mL1xM3Zj7ig7DbK3U4F+utjI8I2JmZmaFcSJiZmZmhXEiYmZmZoVxImJmZmaFcSKylpG0pOT1SElXpedjJS2UNCP32DzXdnyq71Cy/eup7QuSRkkamtt+iaQX0/ObKsQ0WNLiXB+XltRvJel9SV9Lr69ObedIWpYba7ikCZLm58qeaOJYjJQUkg7OlR2ZyoZXGj+VbSppnqTe6fWGkmZL2q/5d8HMzFqLE5F1z7iI6J97vAmQko+jgL8Any7ZZmJE9AcOAM4D5jRuD9QDJ6bXJzUx7qOp/V7AYZIOyNUdA/wJGAEQEWektp8D5uVivTO1H50r27+Z/Z0NHJ97PQKYWdJmpfFTDG8D3wGuSkXnAk9ExFPNjGdmZq3Iicj6YzDwHHANuRNyXkQsAl4GerR0kIhYBswAts8VjwDOAbaX1LOlfVfwKDAwzWhsAuySxs8rO35E3AEg6VvA18gSk1VIOk1SvaT65UsXt3L4ZmbrNycia58u+UsvwA9K6kfl6h/JlY8AbgPuAj4vacPSjiXtAHQGZrU0OElbAL2BP6bXHwV6RMTTwB3AcVV0c0luH25ppm0ADwJDgSOA35bE09z43wQuAv4vIv5ZdoCI6yJiQEQM6Ni1WxXhm5lZtZyIrH2W5S+9AN8rqc9fmvkMgKSNyC6DTIqIt4CnyE7cjY6TNItsNuRnEfFuC+IaJGkmsBCYHBF/a+ybLAEAuJ0KszEl8pdmTqyi/e1kl2eOJ0u28pobfxjwGrBHFeOYmVkrcyKyfhgKbA7MltQAHMjKJ+SJEbEnsD9woaSPtGCMRyOiH7A7cIqk/ql8BDAyjftbYM/GBaKtJc129AW2ioiXSqorji9pO+AsYCDwOUl7tmZcZmbWPCci64cRwKkRURcRdcBOwCGSuuYbRUQ9cDPZ5YoWiYj5wIXAtyXtCmwSEdvnxv4J1c2K1GoM8N18QRXjjwN+HBELgP8BrpakNRCbmZlV4ERk3ZNfIzJD0sfJLj+s+IGUiHgHeAw4vMz2FwFflrTpasRwLfApshP+XSV1v6b5ROSSkn3YqLkBI+L3EfFISXHF8SUdAuwAXJ+2vwf4F9DUnUFmZtbKFBFFx2C21ujUo3f0OHl80WGYrZX8o3frL0nTImJAuTr/+q5ZDfpu3416/2NqZtZqnIhY1SQNJbt0kzc/Io5aw+N+mVXXrTweEWesyXHNzGzNcyJiVYuIycDkAsb9JfDLth7XzMzWPC9WNTMzs8I4ETEzM7PCOBExMzOzwjgRMTMzs8I4ETEzM7PCOBExMzOzwjgRMTMzs8I4ETEzM7PCOBExMzOzwjgRMTMzs8L4K97NajB74WLqxtxXdBhm7Yp/VddWh2dEzMzMrDBORMzMzKwwTkTMzMysME5EzMzMrDDtJhGRtFzSDEkzJU2XtH8qr5P0bJn2PSXdLWmupHmSLpe0Ua7+QElPS3ohPU7L1Y2VtDCNN1fSbyR9PFc/RdKLKZbHJfUpUz5VUv/cNg2SZqc+Z0i6Ilvvq7wAABIcSURBVJV/QtJTqex5SWNT+baS7k19zZH0u1Q+WNK9Jfs6QdLwlsZQ4XhXimukpKvS8z5pvMY210kamut/SYplhqSbqjzu55aJZUnu+a6Sfpfel+mS7pC0bYV9GCwpJJ2aK+ufys7NlW0g6XVJF+bKOkqaJulTubL7JR1T6ZiZmVnra093zSyLiP4AkoYCPwE+Xa6hJAG/Aa6JiCMkdQSuA34EjJb0EeBW4MiImC5pK2CypIUR0XjLw7iIuDT1dxzwsKS+EfF6qj8xIurTifQS4Asl5V9O5YfkQvtMRLxREu6NwLERMTPF2SeV/wB4ICIuTzHsWcOxqjWGcirFlXcF2XG6O8XYNyJmA5PT6ynAuRFRn15Xc9wrktQZuA/4n4i4J5UNBrYG/l5hs2eBY4FfpNcjgJklbQ4BXgKOkfSdyCyXdDrw/yTtAwwHPoyIXzUXp5mZtZ52MyNSYjPgX03UDwHejYhfAkTEcmAU8BVJXYEzgAkRMT3VvwF8CxhTrrOImAjcD5xQpvqPwC5lyp8Etq9iX7YBXmuMMyLmpPIewIJcDLOq6KulMdQSV15pjLOb6bOm417GCcCTjUlI6mNKRKwyI5bzZ6BzmmESMAz4fUmbEcDlwKvAJ3N9P0V2DMcCPwbOLDeApNMk1UuqX750cZW7YmZm1WhPiUiXNMX/Atmn2x820XZ3YFq+ICLeIjvR7FKuHqhP5ZVMB3YrU344UO4EPAyYVFL2SO6yxahUNg54UdJdkr6aPvUDXA1cL+kRSedJ2q6J2CqpNoZyKsVV2uZhSb+XNErS5s3E05LjnrdHme2rcSdwDLA/2fv4XmNF2q+DgXuA28iSkrzvAGcDt0bEy+U6j4jrImJARAzo2LVbC8IzM7NK2uulmU8CN0naow3HV8nrWyQtAxqAb5SUbwRsAvQv2WaVyyIR8QNJtwCHkn3iHwEMjojJknqRJROfBZ5J+xsV4suX1xRD2c4qxFXS5peSJqcYjwC+KqlfRLxX2l/B7gAmkiWSt5ElJI0OAx6JiGWSfg1cIOnsNIsG8ClgMVkSZGZmbaw9zYisEBFPAluRrQ0oZw6wT75A0mbADsDL5erT6+eaGHYv4Pnc6xMjon9EHBkRf8mXA73I1lhc2cyuABAR8yLiGuAgoJ+kLVP5PyPi1oj4EjCV7KS4CNiipIvuQD65qDmGWuIqafPXiLghIo4APqDpE3ZLjnvec2W2b1ZE/A14n2wtyEMl1SOAgyU1kM22bEl2aQ9JGwMXp9fbSPpcrWObmdnqaZeJiKTdgI5kJ+VyHgK6Sjopte8IXEa2PmEp2WWPkY13lKQT7EVkJ51y4x1NNjNwWzXxRUQAFwCfSLE2tS+fT2sXAHoDy4E3JQ1J61mQtCmwM9mlpbnAdpI+lup2BPoBM1oaQy1xlbQZJmnD9PwjZCfxhU10W9NxL+NWYH9JK74vWtKnqpwZ+x7w7dxMR2NyOgjYISLqIqKObB3LiNw2d0TEC8DpwLgKl6jMzGwNaU+XZrpIajzZCjg53dkA0EfSglzbUcBRwM8kXUCWUP0O+C5ARLwm6b/I7ojYNPU3Pr8IEhiV2mxMdufFkNwdM81KU/2XAaOBU1LxI5IaT4SzIuIk4EtkJ7ilZDMKJ6b92ge4StIHKf5fRMRUgBTXL9NJ8X3g1IhYZZVkDTGUUymufJtDgcslvZtej06zD5WOSTXH/XxJZ+e26VmyP4cB4yWNT/s+C/hmpTFz2z5Rpvgo4OGSS0l3AxdL6pfq+6Xtn0mXob4NfL+58czMrHUo+2BtZtXo1KN39Dh5fNFhmLUr/tE7a46kaRExoFxde5oRMWv3+m7fjXr/o2tm1mqciKzjJF0NHFBSfHnjd7CsDZR9wd1FJcXzI+KoIuIxM7PW40RkHRcRZxQdw+qKiMmkb3M1M7N1S7u8a8bMzMzWD05EzMzMrDBORMzMzKwwTkTMzMysME5EzMzMrDBORMzMzKwwTkTMzMysME5EzMzMrDD+QjMzM1tnvf/++yxYsIB33323+ca22jp37kzPnj3ZcMMNq97GiYiZma2zFixYwKabbkpdXR0lvy5urSwiWLRoEQsWLGCnnXaqejsnImY1mL1wMXVj7is6jLWaf6nV2tK7777rJKSNSGLLLbfk9ddfr2k7rxExM7N1mpOQttOSY+1ExMzMzArjSzNmZrbeaO1Lq9Vcatxkk01YsmRJq47blIaGBp544glOOOGENhtzdXhGxNqUpG0l3SrpFUnTJD0p6ShJgyUtljQj9zg4bROSLsv1ca6ksen5WEkLU/u5kn4j6eO5tlMkvZjr884y282RNKKND4WZWav74IMPaGho4NZbby06lKo5EbE2o+zi4STgjxHRKyL2AY4HeqYmj0ZE/9zjwVT+HvBFSVtV6Hpcat8bmAg8LGnrXP2JuT6Hl24HHAH8XFL195uZmdVoypQpfPrTn+aII46gV69ejBkzhltuuYWBAwfSt29f5s2bB8DIkSP52te+xoABA9h111259957gWzh7Ze//GX69u3LXnvtxSOPPALAhAkT+MIXvsCQIUM46KCDGDNmDI8++ij9+/dn3LhxNDQ0MGjQIPbee2/23ntvnnjiiRXxDB48mOHDh7Pbbrtx4oknEhEATJ06lf33359+/foxcOBA3n77bZYvX87o0aPZd9992XPPPfn5z3/eKsfFl2asLQ0B/h0R1zYWRMSfgSslDW5iuw+A64BRwHlNDRAREyV9HjgBuLyaoCJirqSlwBbAP6rZxsysJWbOnMnzzz9P9+7d6dWrF6eeeipPP/00l19+OVdeeSXjx48HsssrTz/9NPPmzeMzn/kML7/8MldffTWSmD17Ni+88AKHHnooL730EgDTp09n1qxZdO/enSlTpnDppZeuSGCWLl3KAw88QOfOnZk7dy4jRoygvr4egGeeeYbnnnuO7bbbjgMOOIDHH3+cgQMHctxxxzFx4kT23Xdf3nrrLbp06cL1119Pt27dmDp1Ku+99x4HHHAAhx56aE236pbjRMTa0u7A9CbqB0makXt9dETMS8+vBmZJuriKcaYDu+Ve3yJpWXr+QESMzjeWtDcwNyLKJiGSTgNOA+i42dblmpiZVWXfffelR48eAOy8884ceuihAPTt23fFDAfAscceS4cOHejduze9evXihRde4LHHHuMb3/gGALvtths77rjjikTkkEMOoXv37mXHfP/99znzzDOZMWMGHTt2XLENwMCBA+nZM5uU7t+/Pw0NDXTr1o0ePXqw7777ArDZZpsBcP/99zNr1izuvPNOABYvXszcuXOdiNjaS9LVwIHAv4HRZJdmDivXNiLeknQTcBawrFybfNclr0+MiPoy7UZJ+jKwK3B4pc4i4jqyGRk69egdzYxtZlZRp06dVjzv0KHDitcdOnTggw8+WFFXehtsc7fFbrzxxhXrxo0bx7bbbsvMmTP58MMP6dy5c9l4OnbsuFIMpSKCK6+8kqFDhzYZS628RsTa0nPA3o0vIuIM4CCg2mmG8cApQOX/4zJ7Ac9X0d+4iNgdOBq4XlLn5jYwM2sLv/rVr/jwww+ZN28er7zyCn369GHQoEHccsstALz00ku8+uqr9OnTZ5VtN910U95+++0VrxcvXkyPHj3o0KEDN998M8uXL29y7D59+vDaa68xdepUAN5++20++OADhg4dyjXXXMP777+/IoZ33nlntffVMyLWlh4Gfizp6xFxTSrrWu3GEfFPSXeQJSM3lGsj6WjgUOCcGvr9raRTgJOB1ll9ZWbt0tryzb477LADAwcO5K233uLaa6+lc+fOnH766Xz961+nb9++bLDBBkyYMGGlGY1Ge+65Jx07dqRfv36MHDmS008/naOPPpqbbrqJYcOGNTl7ArDRRhsxceJEvvGNb7Bs2TK6dOnCgw8+yKmnnkpDQwN77703EcHWW2/NpEmTVntf1bhC1qwtSOoBjAP2A14H3gGuBf4O3A3MzzX/v4i4U9KSiNgkbb9tanNxRIxNt/H+d+prY+BZ4LyImJPaTwF68J/LOW9ExMFpuyURcWlqtw9wK/CxiPiwUvydevSOHiePX+3jsD5bW04Etm54/vnn+djHPlZ0GDUZOXIkhx12GMOHD2++cTtU7phLmhYRA8q194yItamIeI3slt1yulXYZpPc87+Tm0WJiLHA2CbGG1yhfGzJ62nAqnOcZma2RjkRMTMza0cmTJhQdAhtyomIWQ36bt+Nel9aMFurRIR/+K6NtGS5h++aMTOzdVbnzp1ZtGhRi06QVpuIYNGiRSvdHlwNz4iYmdk6q2fPnixYsIDXX3+96FDWC507d17xBWnVciJiZmbrrA033HC1v/nT1ixfmjEzM7PCOBExMzOzwjgRMTMzs8L4m1XNaiDpbeDFouMoYyvgjaKDKKM9xtUeYwLHVYv2GBM4rqbsGBFlf1fMi1XNavNipa8pLpKkesdVnfYYEziuWrTHmMBxtZQvzZiZmVlhnIiYmZlZYZyImNXmuqIDqMBxVa89xgSOqxbtMSZwXC3ixapmZmZWGM+ImJmZWWGciJiZmVlhnIiYJZKGSXpR0suSxpSp7yRpYqp/SlJdru47qfxFSUOLjknSIZKmSZqd/juktWJanbhy9TtIWiLp3PYSl6Q9JT0p6bl03Gr7CdE1EJekDSXdmOJ5XtJ32jCmT0maLukDScNL6k6WNDc9Tm6tmFYnLkn9c+/fLEnHtYe4cvWbSVog6ar2EFP6f/D+9Hc1p/T/0TYVEX74sd4/gI7APKAXsBEwE/h4SZvTgWvT8+OBien5x1P7TsBOqZ+OBce0F7Bder4HsLA9HKtc/Z3Ar4Bz20NcZN+pNAvol15v2RrvYSvEdQJwe3reFWgA6toopjpgT+AmYHiuvDvwSvrvFun5Fm14rCrFtSvQOz3fDngN2LzouHL1lwO3Ale1h5iAKcAh6fkmQNfWiKslD8+ImGUGAi9HxCsR8W/gduCIkjZHADem53cCB0lSKr89It6LiPnAy6m/wmKKiGci4q+p/Dmgi6ROrRDTasUFIOlIYH6KqzWtTlyHArMiYiZARCyKiOXtIK4ANpa0AdAF+DfwVlvEFBENETEL+LBk26HAAxHxz4j4F/AAMKwVYlqtuCLipYiYm57/FfgHUPabPNsyLgBJ+wDbAve3UjyrFZOkjwMbRMQDqd2SiFjairHVxImIWWZ74C+51wtSWdk2EfEBsJjsk3M127Z1THlHA9Mj4r1WiGm14pK0CfBt4PutFEurxEX2aTokTU5T2d9qJ3HdCbxD9un+VeDSiPhnG8W0JrZtk74lDSSbJZhXdFySOgCXAa16GXJ1YiL7e39T0m8kPSPpEkkdWzm+qvkr3s3WYZJ2By4i+8TfHowFxkXEkjRB0l5sABwI7AssBR6SNC0iHio2LAYCy8kuNWwBPCrpwYh4pdiw2i9JPYCbgZMjYpXZiQKcDvwuIha0o7/5DYBBZJdwXwUmAiOB64sIxjMiZpmFwEdzr3umsrJt0lR5N2BRldu2dUxI6gncBZwUEa31yXB149oPuFhSA3A28F1JZ7aDuBYAf4yIN9IU9e+AvdtBXCcAf4iI9yPiH8DjQGv8Zsjq/M2uqb/31e5b0mbAfcB5EfGnVoppdeP6JHBm+pu/FDhJ0oUFx7QAmJEu63wATKL1/t5r5kTELDMV6C1pJ0kbkS0Y/G1Jm98CjXcIDAcejmyl12+B49OdDzsBvYGni4xJ0uZk/yCPiYjHWyGWVokrIgZFRF1E1AHjgR9HRGvdRbA67+FkoK+krikR+DQwpx3E9SowBEDSxsAngBfaKKZKJgOHStpC0hZks22TWyGm1Yortb8LuCki7myleFY7rog4MSJ2SH/z56b4VrnDpS1jSttuLqlxDc0QWu/vvXZFrZL1w4/29gA+B7xEdl35vFT2A+AL6Xlnsjs9XiZLNHrltj0vbfci8NmiYwLOJ1tbMCP32KbouEr6GEsr3jXTCu/hf5EtoH0WuLg9xEV2N8OvUlxzgNFtGNO+ZJ+c3yGbnXkut+1XUqwvA19u42NVNq70/r1f8jffv+i4SvoYSSvdNdMK7+EhZHeKzQYmABu15vtYy8Nf8W5mZmaF8aUZMzMzK4wTETMzMyuMExEzMzMrjBMRMzMzK4wTETMzMyuMExEzMzMrjBMRMzMzK8z/D5IMZfpxV70FAAAAAElFTkSuQmCC\n",
            "text/plain": [
              "<Figure size 432x288 with 1 Axes>"
            ]
          },
          "metadata": {
            "tags": [],
            "needs_background": "light"
          }
        }
      ]
    },
    {
      "cell_type": "markdown",
      "metadata": {
        "id": "4ZOO29B6Z32f",
        "colab_type": "text"
      },
      "source": [
        "82.9% True Negative Rate using only 8 variables, all of them showing importance to the model."
      ]
    },
    {
      "cell_type": "markdown",
      "metadata": {
        "id": "G8MHRE7SZ32g",
        "colab_type": "text"
      },
      "source": [
        "### 5. Feature engineering"
      ]
    },
    {
      "cell_type": "code",
      "metadata": {
        "id": "s5_FHz4HZ32g",
        "colab_type": "code",
        "colab": {}
      },
      "source": [
        "model_data_fe = model_data.copy(deep=True)"
      ],
      "execution_count": 29,
      "outputs": []
    },
    {
      "cell_type": "markdown",
      "metadata": {
        "id": "ATagyLRbZ32k",
        "colab_type": "text"
      },
      "source": [
        "Oxygen saturation (<b>SpO2</b>) features where excluded from the analysis due to low variance or high multicollinearity, but it is an important vital sign, let's create two new columns based on them."
      ]
    },
    {
      "cell_type": "code",
      "metadata": {
        "id": "8WH6oFnwZ32l",
        "colab_type": "code",
        "colab": {}
      },
      "source": [
        "model_data_fe['SpO2_DIFF'] = (data['OXYGEN_SATURATION_MAX'] - data['OXYGEN_SATURATION_MIN'])\n",
        "model_data_fe['SpO2_MEAN'] = (data['OXYGEN_SATURATION_MAX'] + data['OXYGEN_SATURATION_MIN'])/2"
      ],
      "execution_count": 30,
      "outputs": []
    },
    {
      "cell_type": "markdown",
      "metadata": {
        "id": "RZrzoQKQZ32p",
        "colab_type": "text"
      },
      "source": [
        "Mean Arterial Pressure (<b>MAP</b>) e Pulse Pressure(<b>PP</b>) are disease predictors based on blood pressure. \n",
        "\n",
        "MAP is calculable from non-invasive blood pressure measurements with the formula: [systolic blood pressure + (2 X diastolic blood pressure)] / 3\n",
        "\n",
        "PP = Sistolic Blood Pressure - Diastolic Blood Pressure\n",
        "\n"
      ]
    },
    {
      "cell_type": "code",
      "metadata": {
        "id": "OgV4Zhl_Z32q",
        "colab_type": "code",
        "colab": {}
      },
      "source": [
        "scaler = MinMaxScaler((1,3))\n",
        "BPSMean = scaler.fit_transform(data['BLOODPRESSURE_SISTOLIC_MEAN'].to_numpy().reshape(-1,1))\n",
        "BPDMean = scaler.fit_transform(data['BLOODPRESSURE_DIASTOLIC_MEAN'].to_numpy().reshape(-1,1))\n",
        "PAMMean = ((BPDMean*2) / BPSMean)/3\n",
        "model_data_fe['PAM_MEAN'] = PAMMean\n",
        "model_data_fe['PULSE_PRESSURE'] = BPSMean - BPDMean"
      ],
      "execution_count": 31,
      "outputs": []
    },
    {
      "cell_type": "code",
      "metadata": {
        "id": "lvjLWZVdZ32v",
        "colab_type": "code",
        "colab": {}
      },
      "source": [
        "X = model_data_fe.iloc[:,1:].drop(['ICU'], axis=1)\n",
        "y = model_data_fe['ICU']\n",
        "X_train, X_test, y_train, y_test = train_test_split(X, y, test_size=0.25, random_state=17)"
      ],
      "execution_count": 32,
      "outputs": []
    },
    {
      "cell_type": "code",
      "metadata": {
        "id": "mHx3KxboZ32z",
        "colab_type": "code",
        "colab": {
          "base_uri": "https://localhost:8080/",
          "height": 34
        },
        "outputId": "d4e4b1bc-0e9d-48e7-b72b-7aac31c19547"
      },
      "source": [
        "X_train.shape"
      ],
      "execution_count": 33,
      "outputs": [
        {
          "output_type": "execute_result",
          "data": {
            "text/plain": [
              "(225, 12)"
            ]
          },
          "metadata": {
            "tags": []
          },
          "execution_count": 33
        }
      ]
    },
    {
      "cell_type": "markdown",
      "metadata": {
        "id": "llrxBgjKZ325",
        "colab_type": "text"
      },
      "source": [
        "Now we have added 4 new features to our model, let's check how it performs"
      ]
    },
    {
      "cell_type": "code",
      "metadata": {
        "id": "VfT7-Zl7Z325",
        "colab_type": "code",
        "colab": {
          "base_uri": "https://localhost:8080/",
          "height": 34
        },
        "outputId": "89d85039-423a-482e-ca7c-333826c1cfd2"
      },
      "source": [
        "clf = RandomForestClassifier(max_depth=5, random_state=42)\n",
        "clf.fit(X_train, y_train)\n",
        "print('True Negative Rate: ', tnr(clf, X_test, y_test))\n"
      ],
      "execution_count": 34,
      "outputs": [
        {
          "output_type": "stream",
          "text": [
            "True Negative Rate:  0.8723404255319149\n"
          ],
          "name": "stdout"
        }
      ]
    },
    {
      "cell_type": "code",
      "metadata": {
        "id": "XQ67EbDwZ32-",
        "colab_type": "code",
        "colab": {
          "base_uri": "https://localhost:8080/",
          "height": 265
        },
        "outputId": "f0451c29-1413-49c2-d1d8-92371fc37be2"
      },
      "source": [
        "importance = pd.DataFrame(clf.feature_importances_, index=X.columns, columns=[\"Importance\"])\n",
        "importance.sort_values(by='Importance').plot(kind='barh');"
      ],
      "execution_count": 35,
      "outputs": [
        {
          "output_type": "display_data",
          "data": {
            "image/png": "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\n",
            "text/plain": [
              "<Figure size 432x288 with 1 Axes>"
            ]
          },
          "metadata": {
            "tags": [],
            "needs_background": "light"
          }
        }
      ]
    },
    {
      "cell_type": "markdown",
      "metadata": {
        "id": "rqfpW2ExZ33D",
        "colab_type": "text"
      },
      "source": [
        "  +4.3% improvement after feature engineering, not bad. Specially because the new features have good importances in the better performing model.\n",
        "  \n",
        "  Let's crossvalidate and optimize for the final model."
      ]
    },
    {
      "cell_type": "markdown",
      "metadata": {
        "id": "0VBJju2LZ33E",
        "colab_type": "text"
      },
      "source": [
        "### 5. Cross-Validation, Optimization and Final Model"
      ]
    },
    {
      "cell_type": "markdown",
      "metadata": {
        "id": "UKcr3MTxZ33F",
        "colab_type": "text"
      },
      "source": [
        "We will use the same Random Forest Classifier. We will optimize for the True Negative Rate or Specificity score, as used before."
      ]
    },
    {
      "cell_type": "code",
      "metadata": {
        "id": "makEqzteZ33G",
        "colab_type": "code",
        "colab": {
          "base_uri": "https://localhost:8080/",
          "height": 34
        },
        "outputId": "73e47525-1ea4-4118-dd0a-0ee7fe9c1162"
      },
      "source": [
        "X_train.shape"
      ],
      "execution_count": 36,
      "outputs": [
        {
          "output_type": "execute_result",
          "data": {
            "text/plain": [
              "(225, 12)"
            ]
          },
          "metadata": {
            "tags": []
          },
          "execution_count": 36
        }
      ]
    },
    {
      "cell_type": "code",
      "metadata": {
        "id": "4RSB6LAYZ33N",
        "colab_type": "code",
        "colab": {}
      },
      "source": [
        "param_grid = { \n",
        "    'n_estimators': [100, 500, 1000, 2000],\n",
        "    'max_features' : [3, 4, 6, 8],\n",
        "    'max_leaf_nodes' : [2, 5, 10],\n",
        "    'criterion' :['gini', 'entropy'],\n",
        "}"
      ],
      "execution_count": 37,
      "outputs": []
    },
    {
      "cell_type": "code",
      "metadata": {
        "id": "g1g-7OKaZ33U",
        "colab_type": "code",
        "colab": {
          "base_uri": "https://localhost:8080/",
          "height": 391
        },
        "outputId": "f9a391b3-1089-4e3b-e9f4-6bafd3f72110"
      },
      "source": [
        "gs_rfc = GridSearchCV(\n",
        "    estimator=RandomForestClassifier(random_state=42), \n",
        "    param_grid=param_grid, \n",
        "    cv=5, \n",
        "    scoring=tnr)\n",
        "gs_rfc.fit(X_train, y_train)"
      ],
      "execution_count": 38,
      "outputs": [
        {
          "output_type": "execute_result",
          "data": {
            "text/plain": [
              "GridSearchCV(cv=5, error_score=nan,\n",
              "             estimator=RandomForestClassifier(bootstrap=True, ccp_alpha=0.0,\n",
              "                                              class_weight=None,\n",
              "                                              criterion='gini', max_depth=None,\n",
              "                                              max_features='auto',\n",
              "                                              max_leaf_nodes=None,\n",
              "                                              max_samples=None,\n",
              "                                              min_impurity_decrease=0.0,\n",
              "                                              min_impurity_split=None,\n",
              "                                              min_samples_leaf=1,\n",
              "                                              min_samples_split=2,\n",
              "                                              min_weight_fraction_leaf=0.0,\n",
              "                                              n_estimators=100, n_jobs=None,\n",
              "                                              oob_score=False, random_state=42,\n",
              "                                              verbose=0, warm_start=False),\n",
              "             iid='deprecated', n_jobs=None,\n",
              "             param_grid={'criterion': ['gini', 'entropy'],\n",
              "                         'max_features': [3, 4, 6, 8],\n",
              "                         'max_leaf_nodes': [2, 5, 10],\n",
              "                         'n_estimators': [100, 500, 1000, 2000]},\n",
              "             pre_dispatch='2*n_jobs', refit=True, return_train_score=False,\n",
              "             scoring=make_scorer(recall_score, pos_label=0), verbose=0)"
            ]
          },
          "metadata": {
            "tags": []
          },
          "execution_count": 38
        }
      ]
    },
    {
      "cell_type": "code",
      "metadata": {
        "_kg_hide-input": true,
        "_kg_hide-output": true,
        "id": "UaAQdCMDZ33j",
        "colab_type": "code",
        "colab": {
          "base_uri": "https://localhost:8080/",
          "height": 85
        },
        "outputId": "bbf77cce-7f87-48f9-d060-fee93ce514d2"
      },
      "source": [
        "gs_rfc.best_params_"
      ],
      "execution_count": 39,
      "outputs": [
        {
          "output_type": "execute_result",
          "data": {
            "text/plain": [
              "{'criterion': 'gini',\n",
              " 'max_features': 3,\n",
              " 'max_leaf_nodes': 2,\n",
              " 'n_estimators': 1000}"
            ]
          },
          "metadata": {
            "tags": []
          },
          "execution_count": 39
        }
      ]
    },
    {
      "cell_type": "code",
      "metadata": {
        "id": "V2ED4wrVZ33o",
        "colab_type": "code",
        "colab": {
          "base_uri": "https://localhost:8080/",
          "height": 153
        },
        "outputId": "b0761784-8b85-4c61-c331-1a8e34a6563a"
      },
      "source": [
        "final_clf = RandomForestClassifier(**gs_rfc.best_params_)\n",
        "final_clf.fit(X_train, y_train)"
      ],
      "execution_count": 40,
      "outputs": [
        {
          "output_type": "execute_result",
          "data": {
            "text/plain": [
              "RandomForestClassifier(bootstrap=True, ccp_alpha=0.0, class_weight=None,\n",
              "                       criterion='gini', max_depth=None, max_features=3,\n",
              "                       max_leaf_nodes=2, max_samples=None,\n",
              "                       min_impurity_decrease=0.0, min_impurity_split=None,\n",
              "                       min_samples_leaf=1, min_samples_split=2,\n",
              "                       min_weight_fraction_leaf=0.0, n_estimators=1000,\n",
              "                       n_jobs=None, oob_score=False, random_state=None,\n",
              "                       verbose=0, warm_start=False)"
            ]
          },
          "metadata": {
            "tags": []
          },
          "execution_count": 40
        }
      ]
    },
    {
      "cell_type": "code",
      "metadata": {
        "id": "xAcMOS0ZZ33u",
        "colab_type": "code",
        "colab": {
          "base_uri": "https://localhost:8080/",
          "height": 265
        },
        "outputId": "65084805-8f19-46aa-88ff-172c105bbe66"
      },
      "source": [
        "importance = pd.DataFrame(final_clf.feature_importances_, index=X.columns, columns=[\"Importance\"])\n",
        "importance.sort_values(by='Importance').plot(kind='barh');"
      ],
      "execution_count": 41,
      "outputs": [
        {
          "output_type": "display_data",
          "data": {
            "image/png": "iVBORw0KGgoAAAANSUhEUgAAAiIAAAD4CAYAAADRjo1KAAAABHNCSVQICAgIfAhkiAAAAAlwSFlzAAALEgAACxIB0t1+/AAAADh0RVh0U29mdHdhcmUAbWF0cGxvdGxpYiB2ZXJzaW9uMy4yLjIsIGh0dHA6Ly9tYXRwbG90bGliLm9yZy+WH4yJAAAgAElEQVR4nOzde5xVVf3/8dcbvACieM0Q0hFFTEURRyyVRLxApanljSyjb37N1C6UJGUW3b2Gd4tvKuoDFTPvWnjlF6YpAyKId2QyyEqpUASVy+f3x14HN4dzZs4ZBs4MvJ+Px3lwzlprr/XZe4C9Zq119lJEYGZmZlYLHWodgJmZma2/3BExMzOzmnFHxMzMzGrGHREzMzOrGXdEzMzMrGY2qHUAZu3J1ltvHXV1dbUOw8ysXZk6deqbEbFNqTx3RMyqUFdXR0NDQ63DMDNrVyT9tVyep2bMzMysZtwRMTMzs5pxR8TMzMxqxmtEzKowc94C6kbdV+swzMzWqsbzPr3G6vaIiJmZmdWMOyI5kpZJmi7pWUn3SNo8pddJWpzyCq+TU97/SJopaUY67qiUPk7SnFR2mqSP59KPTe8nSXpR0jOSpkjqVxTPJZLmSeogqW+u7X/n6n4old1d0iOpvpclnStJKW+4pDdS+RckjZDUKb3vm2tvpKTflLk2+WvwnKQbJG2Yy98gtXFe+nxOLt5lufffkDQ6nVf+em5ept1BkkLSKbm0fintrBLXerqkx4vquFPSX4rSRktaJOlDubSFpf9mmJnZmuKOyMoWR0S/iNgD+DdwRi5vdsorvG6Q1BM4BzgwIvYEPgbMyB0zMiL6AaOAkjd44KSI2Au4CriwkCipA3AM8DfgoIiYWWgbuLtQd0QcKqlzSjsvIvoAewH7A6fn2pmQjj0gxbwN8C3gKmV6AKelWMuZneroC/QEjs/lHQa8BBwnSRHx81y8i3PX7bJUfkzR9fxvE+0+W9TWMOCZojIjc3Xtn7uOmwP7AN0k9So65k3gO020a2Zma5g7IuU9AfRopsyHgLeBhQARsTAi5pQo9ydg5yrbGwTMAq4mu/E25fPAnyPigRTHIuBMSnQqImI+8ArQPSL+CLwOnAyMAUZHxH+aaYuIWAY8VRTvMOBS4DXg483VUaW/Ap0kbZtGeYYCf6jw2M8C9wC3ACcW5V0LnCBpy6YqkHSqpAZJDcsWLagydDMza4o7IiVI6ggcQjbKULBT0VTCQLLfyv8JzJF0naQjy1R5JDCzmWaHAnfmPg8DbgbuAD6dnwYpYXdgaj4hImYDXSVtVnRu2wOd+GDk5lvAz4FtIuLGZmIs1NEJ2A/4Y+7zoWQ3/JtpvuMEMCJ3LR+toPxtwHFkIz3TgPeK8i/M1Tc+l164jqXiWkjWGflmUw1HxNiIqI+I+o5dulUQqpmZVcrfmllZZ0nTyX7Tfx54MJdXmJZYiaShwL5kHZcxkvaJiNEp+0JJPwDeAL5Sps3xkjYCugL9Up0bAZ8Cvh0Rb0t6EhgC3Lsa53aCpE8AuwJnRsS7ABHxd0mPVFj3Tun67AjcFxGFzswRwKMRsVjS74FzJX0rjZyUMyYiLqoi/luBCSn+m8k6JHkjI+K2fIKkbYHewGMREZKWSNojIp7NFbsMmC6pmljMzKyVeERkZYtTZ2MHQKy8RqSkyDwVEb8kG/r/XC67sG7hsKKbX95JQC/geuDylDYE2ByYKakROJCmRxmeI1sHsUJaD7EwIt5KSRPSOpb9gfMkfThXfHl6NafQGdsJ2EfSZ1L6MODQFOtUYCtgcAX1VSwi/gEsIVuL8nCFhx0PbEE2YtUI1FF0HdPalJuo4GdtZmatzx2REtIai28A35FUdtRI0naS+ueS+pGtZ6i2vQDOBT4maVeym+UpEVEXEXVkIxCHSepSporxwIGSDk1xdSb7Tf+CEm01ADfSzHREM/G+Sbb+5Htp6mcgsH0u3jOobHqmWj8Ezm5mpCVvGDA0F9c+rLpOBOBXwFfxCKGZ2Vrn/3jLiIinJc0gu5lN5oNpiYJrgbuAiyRtB7xLNgVzWgvbWyzpYuBssvUip+Xy3pH0GNlakwlljj0KuFzSlUBHss7GFWWaOx+YJukXEfF2S+IlW88yGhgBPBIR+TUbdwEXSNq4KD1vhKQv5D4fHRGNTTUYEY83kV2YBis4nmxka8XXdiNijqQFkvYrqvdNSXekc2lS3x7daFiDD/YxM1vfKPtl3MwqUV9fH95918ysOpKmRkR9qTxPzZiZmVnNeGrGVpKetFr8Nd73ImK/UuVbsd0hZFNGeXMi4pg12a6ZmdWWOyK2koiYSfoa8VpudyIwcW23a2ZmteWpGTMzM6sZd0TMzMysZtwRMTMzs5pxR8TMzMxqxotVzaowc94C6kbdV+swzMxaVWMNH9ToEREzMzOrGXdE2iBJW+W2tP+HpHm5z5F7P13SqHTMJEmvSVKunjslLUzv6yQtTsc8J+nXkjoUpRdeJ6djGiXNlDRD0v+TtENRnHdK+kt6PyR3/EJJL6b3N0gaLumKomMnSapvrh1Jy0qdb5nrVsk1eDa9H5Su5ZG5svdKGlT1D8zMzFrMUzNtUETMJz3LQ9Josl10L0qfF6YdcEv5L3AA8JikzYHuRfmzI6Jf2sjvEeBoYBof7KpbysFpL5YfAz8A/jfFsTnZJnILJfXKPwdE0iTgrLTBHpKGV3DaJdvhgx2RK9XcNcibC5wD3FNF/WZm1oo8IrJuuYUPdpf9LHB7qUIRsRR4HNi5irqfAHrkPn+W7Aaeb7M1FLdTrYquQfIMsEDSYavRnpmZrQZ3RNqfzkVTFSfk8h4GPiGpI9nNeJWdegEkdQEOAWampJ2K6hxY4rChZDvuFgwDbk6vYat5Tk2109T5llLRNcj5OdkITFmSTpXUIKlh2aIFzcVvZmZV8NRM+9PUVMUy4DGyG3DniGjMLZeA1OEAArgrIv4gqY6mp2YelbQlsBA4F0DStkBv4LGICElLJO0REc+WqaPcFs/59FXaqeB8S2nuGqwcQMSfJCHpwCbKjAXGAmzcvbe3qzYza0UeEVn33AJcBtxaIm92RPSLiL0jYnSF9R0M7ABMB36c0o4HtgDmSGoE6mh6VGR+Kp+3JfBmM+20VFPXoJRmR0XMzGzNcEdk3TMZ+CXZlEmrSGtKvgWcnEYthgFDI6IuIurIFq02tU5kCnCApA8DpG/LbAz8rZl2WqqqaxARD5B1lPZcjTbNzKwFPDXT/nRO0ysFf4yIFV9pjYgALqqyzp2K6rw2Ii7LF4iI1yXdDJxBNnLxl1zeHEkLJO0XEU8WVx4R/5T0TeB+SR3Ipl+GRcTyEmXz7fy0ufMtpYXX4OfAXc0V6tujGw01fPCPmdm6Rtn/2WZWifr6+mhoaKh1GGZm7YqkqRFRXyrPUzNmZmZWM56asXZH0h3AjkXJZ6eHqpmZWTvijoi1OxFxTK1jMDOz1uGpGTMzM6sZd0TMzMysZtwRMTMzs5pxR8TMzMxqxotVzaowc94C6kbdV+swzGw90bgePEDRIyJmZmZWM+6IrOMkHS0pJO2aSxsgaZKklyVNk3SfpL4pb7SkeZKm516bl6l7UHq0+3RJz0v6UYn0wuvQlLcsfX5W0j35uiWdJemFlD9F0skpfZKkF3N13ZaLdZGkD+XqWChpq1zZfxSdz0aSFqaydZLK7RhsZmZrgadm1n3DgMfSnz+StC3ZrrSfj4jHASQdCOwEzEzHjImISvdqmRwRR0jaBJgu6Z58eonyiyOiX2r3erI9ZX4u6TTgMGBARLwlaTMg/7yQkyKi1LPV3wS+A5xdSIiI+UChjdHAwvz5SKrw1MzMbE3ziMg6TFJX4EDgK3ywO+6ZwPWFTghARDwWEXeuTlsR8Q4wFdi5isOeAHqk998HvhYRb6X63oqI6yuo41rghNXcrdfMzGrEHZF121Fku9W+BMyXtA+wOzCtmeNG5KYyHq2kIUlbAR8DZqWkgUVTMzsVle8IHALcnUY/No2IV5toYnyurgtz6QvJOiPfrCTOlpB0qqQGSQ3LFi1YU82Yma2XPDWzbhsGXJre35I+r0TSk8BmwAMRUbiZVzM1M1DS08By4LyImCVpEOWnZjpLmk42EvI88CCwSQXtlJuaAbiMbFqo0pirEhFjgbEAG3fv7e2qzcxakTsi66g0VTEY6CspgI5AANcD/YG7ACJiP0nHAqU6DZUo1+EoZ3FE9JPUBZgInBERl6VFpr2aGRUpKSL+K+kmsvUmZmbWjnhqZt11LHBjROwQEXUR8RFgDtkIxHBJ++fKdlnbwUXEIuAbwHckbQD8ErgyTdMgqWvhWzMV+hXwVdy5NjNrV/yf9rprGHB+UdrvU/oJwPmSegD/IvvmyU9y5UZI+kLu89ER0Vhl+wPTFEzBzyLitnyBiHha0owU09VAV2CKpCXAEuDiXPHxkhan929GxKFFdb0p6Q5gRJVx9pE0N/d5RET8rlzhvj260bAePGDIzGxtUYSnvM0qVV9fHw0N5ZaqmJlZKZKmRkR9qTxPzZiZmVnNeGrGmiVpCKtO88yJiGNKlTczM6uUOyLWrIiYSPYNFzMzs1blqRkzMzOrGXdEzMzMrGbcETEzM7OacUfEzMzMasaLVc2qMHPeAupG3VfrMMxsHdO4Hj8o0SMiZmZmVjPuiJiZmVnNuCNiLSZpmaTpkp6V9Lu0oy6SNpD0hqTzispPkvSaJOXS7pS0sIk26iSFpJ/l0raWtETSFenzaEnzUiyF1+a58pek/A65tOGSlkvaM5f2rKS61bsqZmZWDXdEbHUsjoh+EbEH8D5wWko/DHgJOC7f6Uj+CxwAkDoL3StoZw6Qn0A9DphVVGZMiqXw+m9qowNwDPA34KCiY+YC51TQvpmZrSHuiFhrmQzsnN4PAy4FXgM+XlTuFuDE9P6zwO0V1L0IeF5SYcOkE4BbK4xrEFmn5eoUV969wO6S+jRVgaRTJTVIali2aEGFzZqZWSXcEbHVJmkD4JPATEmdgEOBe4CbWfXm/zDwCUkdyTokEyps5hbgREkfAZYBfy/KH5Gblnk0lz4sxXEH8GlJG+bylgMXAN9vquGIGBsR9RFR37FLtwrDNTOzSrgjYqujs6TpQAPZ6Mc1wBHAoxGxGPg9cHTqdBQsAx4j64R0jojGCtv6I9mUT7nOS35q5mAASRsBnwLujIi3gCeBIUXH3QR8TNKOFcZhZmatyM8RsdWxOCL65RMkDQMOlNSYkrYCBgMP5ordQjZCMbrShiLifUlTge8AuwGfqeCwIcDmZCM1AF2AxWRTMoV6l0q6GDi70ljMzKz1uCNirUbSZsBA4CMR8V5K+zLZ9Ei+IzIZ+CXZlEk1Lgb+X0T8e9U1sCUNA06JiJtTLJsAcwrf7skZB3wX2LS5Cvv26EbDevzgITOz1uapGWtNxwCPFDohyV3AkZI2LiRE5qKIeLOayiNiVkRcXyY7v0ZkuqTdgKHAfbnj3yGbFjqyqN73gcuAD1UTj5mZrT5FRK1jMGs36uvro6GhodZhmJm1K5KmRkR9qTyPiJiZmVnNeI2ItQmS+gI3FiW/FxH71SIeMzNbO9wRsTYhImYC/ZotaGZm6xRPzZiZmVnNuCNiZmZmNeOOiJmZmdWM14iYVWHmvAXUjbqv+YJmtt5r9MMPK+IRETMzM6sZd0TMzMysZtwRaackLUuPMn9W0u8kdZFUJ+nZonKjJZ2V3o+TdGxRfgdJl6V6ZkqaUtiJVlJjSis8Nv2yJuIZJ2lOKjdN0sdLpD8j6ZDcMZMkvZir/7aU3iflTZf0vKSxKb2LpPEppmclPSapa4XnXVUMZma2dniNSPu1YudbSeOB04DbW1DPCcB2wJ4RsVxST+CdXP7BVewJMzIibpN0OPAbYM+i9IOBsUDv3DEnRUTxM9MvA8ZExF2w4mFnAN8E/hkRfVN6H2BJlbFVGoOZma0F7oisGybzwU2/Wt2B1yNiOUBEzG2FeP4E7Fwi/QmgR4UxrYgjPeyskP7XXPqLABXuxFttDCtIOhU4FaDjZttUc6iZmTXDUzPtnKQNgE8CM5srW8atZLvjTpd0saS9i/IfzU1bjKiwziPLxDMUuLMobXyu/gtT2hjgEUl/kDRC0uYp/VrgbElPSPqZpN5Ur9IYVoiIsRFRHxH1Hbt0a0GTZmZWjkdE2q/Okqan95OBa8hGDEopu8VyRMxNUxyD0+thScdFxMOpSDVTMxdK+gHwBvCVovRfAD2Bjxcds8q0SERcJ2kiWafhKOCrkvaKiOmSegGHA4cCU9JalEXlTq+lMZiZ2drhjkj7tWKNSIGk+cAWReW2BOY0VVFEvAf8AfiDpH8CRwMPN3VMGSMjotRiz8L6jK+TjWrs01xFEfH3VPbatBB1D2BqRCwkWwtzu6TlwKfI1qM0d95Vx2BmZmueOyLrkIhYKOl1SYMj4hFJW5KNKlxa7hhJ/YF/RMTfJXUgW2syYw2FeAXwP5KGRMTEJmIaCjwcEUskfRjYCpgn6QDguYj4j6SNgN2ASVWed0UxlNO3Rzca/JAiM7NW4zUi656TgXPTtM0jwI8jYnYu/zeS5qbXE8CHgHvSqMMMYCnZzbogv0bkhtUJLCIC+Bnw3Vxyfn3GQyntcOBZSc8AE8lGM/4B7AT8P0kzgaeBBuD3FZ53tTGYmdlaoOz/ZTOrRH19fTQ0eDmJmVk1JE2NiPpSeR4RMTMzs5rxGhGriqQrgQOKki+NiOtqEY+ZmbVv7ohYVSLijFrHYGZm6w5PzZiZmVnNuCNiZmZmNeOOiJmZmdWM14iYVWHmvAXUjbqv1mGYtRuNfgCgNcMjImZmZlYz7oiYmZlZzTTbEZG0LD36+hlJ0yTtn9Lr0mPBi8v3lHSXpJclzZZ0adoXpJB/oKSnJL2QXqfm8kZLmpfae1nS7ZJ2y+VPkvRiiuXPadfY4vQpkvrljmmUNDP3CO/LUvrHJD2Z0p6XNDqlbyvp3lTXc5LuT+mDJN1bdK7jJB3b0hjKXO9xkuakel6SdIOknkV1bZ37fLSkkLRrLq2DpMskPZvanSJpx9z5vibpjVw8dZK6pbZeST+3GyR1a+ZnnT//DSWdl35u0yQ9IemTTZxno6TJRWnTC+2k670gF+N0SYemvMLfyVnpOn1H2T455X5Od0r6S1HaaEmLJH0ol7awXLxmZrZmVDIisjgi+kXEXsD3gF+WKyhJZDuj3hkRvYFdgK7Az1P+h4GbgNMiYlfgQLIt3vOTiGNSe72BCcAjkrbJ5Z+UYrkeuLBE+lVF6ZBtZd8vvb6R0q4HTk072O4B3JrSfwI8GBF7RcRuwKjmL1GLYyhnZKqnD9meKo/kO3NFhgGPpT8LTgC2A/aMiL7AMcB/I2K/dL4/BCbk4mkErgFejYidI2Insp1rf1vpiQM/BboDe0REf7IdfDdt5phNJX0EQNJHS+RPzsXYLyIK+8AU/k7uDhwGfBL4UakGJG1OttNuN0m9irLfBL5TycmZmdmaUe3UzGbAf5rIHwy8W3jKZkQsA0aQ7XbaBTgDGBcR01L+m2Sbj5W82UfEBOAB4PMlsv8E7Fwi/QmgRwXn8iHg9UKcEfFcSu8OzM3F0JKdaCuNoUmRGQP8g+xmuxJJXck6c18BTsxldQdej4jlqZ65EVH25yZpZ7Kb9U9zyT8B6iXt1Fyc6Wf7v8DXI+K91OY/I+LWpo/kVrJOE2QdqZuba6tYRPwLOBU4M3WEi30WuAe4hZWvEcC1wAnKdustS9KpkhokNSxbtKDaEM3MrAmVdEQ6p2HwF8h+Q/5pE2V3B6bmEyLiLeA1sk7DKvlkO6ju3kSd04BdS6QfCcwskT4UuLMoLb+D7IiUNgZ4UdIdkr4qqVNKvxK4RtKjks6RtF0TsZVTaQyVKncNjgL+GBEvAfMl7ZPSbwWOTG1dLGnvZurfDZieOo7Aik7kdJr+2RTsDLyWftbV+D1ZRwGyn+c9RfkDi6ZmSnaKIuJVoCNZ57JYoYNzMyuPGgEsJOuMfLOpICNibETUR0R9xy7dmjwhMzOrTiVf312chvOR9HHgBkl7rNmwVlL8W+54SYuBRuDrRekbkU0F9Ss65uA0+rJCRPxE0niyLec/T3aTGhQRE9MQ/lCyUYin0/mW26Y4n15VDFUo9Zs+KeZL0/tb0uepETFX2fqZwen1sKTjIuLhFra/pswH/iPpROB5YFFR/uSIOKKllUvaFugNPBYRIWmJpD0iIr/e5TJguqSLWtqOmZm1XFVTMxHxBLA1sE2ZIs+RDfGvIGkzYHvglVL56fOsJprdm+wmVXBSWh9wdET8LZ8O9CJb+3F5M6cCQETMjoirgUOAvSRtldL/HRE3RcQXgSnAJ8humlsUVbEl2TqDFsdQoeJrQJpOGAz8VlIjMBI4vjA9ERHvRcQfImIk8AuyNRvlPAf0Kyz4TPV3IOtMPVf2qA+8AmyfftbVmkA2ClX1tExB6jguA/5VlHU82c9sTrpGdRSNikTEf8nWLXkPHTOzGqiqI5K+mdGR7KZcysNAF0knp/IdgYvJ1oUsIrvhDFf6Rkm68Z8PXFCmvc+RjVhUdJOKiADOBT6m3LdIytT96dyagt5kN7L/Shqc1jwgaVNgJ7KppZeB7QqLKiXtAOxFNn3Rohiao8w3yNZ8/LEo+1jgxojYISLqIuIjZAtMB0rqX5hSSh2KPYG/lmsnIl4hWxT7g1zyD4BpKa9J6Wd7DbDiG1KStpF0XAWneQfZz39iBWVXkRYy/xq4Il37vGHA0HR96sg6vcXrRAB+BXwVP+DPzGytq+Q/3s6SCjdbAV+KiGXpHt5H0txc2RFk39C4StK5ZB2d+4HvA0TE65K+APxfuskLuCQi8msDRqQymwDPAoMj4o1KTygiFku6mGyE4Csp+VFJhfUPMyLiZOCLwBhJi4ClZCMty9I6iyskLU3x/zYipgCkuK5L60mWAKdExCqrF6uIoZwL0/XrAvyFbFrn/aIyw8g6cXm/T+l3kV3jjVP6U8AVTbRHivNySbPT5ydysUPpn3XeD4CfAc9Jehd4h+zbOU2KiLcL51FirenA3N89gJ9FxG188HdyQ7Kf3Y1knYkVJNUBO5Bdv0Jbc5R9JXi/ohjelHRHiXNaRd8e3WjwkyLNzFqNVv0l0szKqa+vj4aGhlqHYWbWrkiaGhH1pfL8ZFUzMzOrGc+J14ikK4EDipIvLTyDZV0h6Ulg46LkL0ZEqa9em5nZesYdkRqJiPXiWxoRsV/zpczMbH3lqRkzMzOrGXdEzMzMrGbcETEzM7OacUfEzMzMasaLVc2qMHPeAupG3VfrMKydavTD8MxW4RERMzMzqxl3RKwiks6RNEvSDEnTix+TXqL8qZJeSK+nJB2Yyxsv6UVJz0q6VtKGTdQzXFJIOjSXdnRKOzZ9npTqm55etxXVMV3SLUVp4yTNKzwGX9LWaWM8MzNbi9wRsWZJ+jhwBNA/IvYEDgX+1kT5I8g2kTswInYFTgNukvThVGQ8sCvQF+gMnNJMCDNZebO6YcAzRWUKuzL3i4hjc7F8lGyjxoGSNik6ZhnwP820bWZma5A7IlaJ7sCbEfEeZJvERcTfJTVKukDSzDTqsXMqfzYwMiLeTOWnAdcDZ6TP90dCtiFfz2banwwMkLShpK7AzhTtetyEYWSb4j0AHFWUdwnZJotNrpVKozsNkhqWLVplj0MzM1sN7ohYJR4APiLpJUlXSTool7cgIvqS7e57SUrbHZhaVEdDSl8hTcl8EfhjM+0H8BAwhKwzcXeJMuNzUzMX5tJPAG4BbibrlOS9BjyWYijfeMTYiKiPiPqOXbo1E6qZmVXDHRFrVkQsBPYBTgXeACZIGp6yb879+fEqq74K+FNETK6g7C1k0zMn5trMy0/NjASQVE82kvMa8DCwt6Qti477JTAS/1swM6sJ/+drFYmIZRExKSJ+BJwJfK6QlS+W/nyOrOOStw8wq/BB0o+AbYBvV9j+U2RrSraOiJcqDHsYsGtahDob2CwXd6Hel8mmeY6vsE4zM2tF7ohYsyT1kdQ7l9QP+Gt6f0LuzyfS+wuA8yVtlY7vBwwnGwFB0ilk0yzDImJ5FaGMAr5fYcwdyDoXfSOiLiLqyKZ1iqdnAH4OnFVFHGZm1kr8QDOrRFfgckmbA0uBV8imaY4AtpA0A3iPdJOPiLsl9QAelxTA28AXIuL1VN+vyToyT0gCuD0iftJcEBHxhyayx0tanN6/CfwUmBcRf8+V+ROwm6TuRfXOkjQN6N9cDH17dKPBD6UyM2s1yr64YFa9NOVRX/h2zPqgvr4+Ghoaah2GmVm7ImlqRNSXyvPUjJmZmdWMp2asxdK6i1Yh6cvAN4uS/xwRZ7RWG2Zm1va4I2JtQkRcB1xX6zjMzGzt8tSMmZmZ1Yw7ImZmZlYz7oiYmZlZzbgjYmZmZjXjxapmVZg5bwF1o+6rdRjWShr9cDqzmvOIiJmZmdVMu+yISOop6S5JL0uaLelSSd3S+96pzIaSZkraT9Jjkj6ZO/44SX9M77eVdJOkVyVNlfSEpGNS3iBJC3Lby0+XdGjKC0kX5+o8S9LoJmLuI2lSquN5SWOL8r8l6d10Hlvl2vuHpHm5z7tIerbo2NGSzkrvx0mak8o+I+mQFrazkaSFueN2l/SIpBfTdT9X6fnskoZLWi5pz1z5ZyXVNXE9GiVNLkqbXji3Zq79svR5VjrH76S9ZQrH3VtU752S/lLimi2S9KFc2kLMzGytancdkXTzux24MyJ6A7uQ7YXyA+B7wBWp6FnA4xHxJHAa8CtJnSR1BX4BnJHqupNsK/peEbEP2TbzPXNNTs5tL98vIh5K6e8Bn5W0dYWhXwaMSXV8FLi8KH8YMAX4bETML7RHti/LmNzn9ytoa2Qq+610fNXtRMSKdiR1Bu4GzouIPsBewP7A6bl65wLnVHQlPrCppI+kNj5aIr/ctV+cPu8OHAZ8EvhRqQbS/jj7AN0k9SrKfhP4TpUxm5lZK2p3HRFgMPBuegAWEbEMGAH8D3AvgKTvknU+vpfKPAvcA5wN/BC4ISJmp7rej4gVN+uI+GtEFHcSSlkKjE1tV6I72c260M7MwntJO/FBZ6rU7rAt9QTQoxXa+S+BjbwAABwTSURBVDzZU04fAIiIRcCZZLvhFtwL7C6pTxX13soHu/cOA26u4lhSLP8i24DvzMIITZHPkv3sbyHrZOZdC5wgacum2pB0qqQGSQ3LFi2oNkQzM2tCe+yI7A5MzSdExFvAa8DOZI8JPx/4WUT8O1fsx2Q31E+SbVNfqGtaM+0NLJoe2CmXdyVwkqRuFcQ9BnhE0h8kjUi/qRecSHajnAz0kbRtBfVVYijZiM/qtlPqms8GukraLCUtJ7uu368ivt+TdRQAjiTrMOQ1de3zsbwKdAQ+VCK70MG5mVU7XwvJOiPFj5Yvrn9sRNRHRH3HLpX8qM3MrFLtsSPSnKHA68Ae+cSIeAeYANwYEe+VOlDSlWnNwZRccvH0wOxcnW8BNwDfaC6oNILzUeB3wCDgL5I2TtnDgFsiYjnZzfm4pqqqIP1CSS8BN5F1ygqqaaclbgI+JmnHCsvPB/4j6UTgeWBRUX7Za1+J1NHqDTwWES8BSyTtUVTsMuBLkjatpm4zM2sd7bEj8hzZnP8K6bfy7cnm/L8BDAA+lV88mSxPr4JZQP/Ch7TB2iHANlXEcwnwFWCT5gpGxN8j4tqIOIpsamcPSX3JbpYPSmokG7VoatpkPrBFUdqWZOdeMDIidiGbiroWoAXt5JW65r2AhakzVji/pcDFqd1KTSAbWap6WqYolmXAv4qyjie7VnPSOddRdM4R8V+yDpQ31zMzq4H22BF5GOgi6WQASR3Jbn7jyKY/fhERc4FvA1eWWTdQ8AjQSdLXcmldqgkmTf/cStYZKUvSUEkbpvcfBrYC5pHdGEdHRF16bQdsJ2mHMu0tBF6XNDjVtSXZKNBjJYpfAXSQNKTadoqMBw7MfWulM9lIwgUlyo4DDqXyztwdqZ6JFZZfiaRtyBbaXhERxaNFw4ChhXMm60wVrxMB+BXwVfxcHTOzta7d/ccbEaHs67VXSTqXrDN1P/AAMBq4JpW7R9L/AicD1zdR19HAmLTA9Q3gHVb+jX6gpOm5zz+LiNuKqrqYbPFmUw4HLpX0bvo8MiL+kaYlPlVU9g6yG+b5lHYyWSfrV+nzj0tNW6Tz+xnwXWDHFrRTqGexpKOAyyVdSbYe40Y++IZSvuz7ki4DLm2qzlz5twvtl+gzlrv2nVP6hmQjSzeSdSZWSF8d3gFY8bXdiJiTvhK8X1EMb0q6gwoWHvft0Y0GPwTLzKzVaNVfIs2snPr6+mhoaKh1GGZm7YqkqRFRXyqvPU7NmJmZ2Tqi3U3NtHWSzmHVb6P8LiJ+Xot4ak3Sk8DGRclfzD9HxczM1l/uiLSy1OFYLzsdpUTEfs2XMjOz9ZWnZszMzKxm3BExMzOzmnFHxMzMzGrGHREzMzOrGS9WNavCzHkLqBt1X63DaPMa/dA3M6uQR0TMzMysZtwRsdUm6RxJsyTNkDS9+BHqJcqfKumF9HpK0oG5vPGSXpT0rKRrC/vzlKlnuKQ3JD0t6WVJEyXtn8sfJ+nY9H5Sqnd6ehXSl+XSpqdHw5uZ2VriqRlbLZI+DhwB9I+I9yRtDWzURPkjyDaYOzDt8dIfuFPSgIj4B9kGe19IxW8CTgGubiKECRFxZqr7YOB2SQdHxPMlyp4UEcXPZ18cEf0qOFUzM1sDPCJiq6s78GZEvAfZBnIR8XdJjZIukDQzjXrsnMqfTbbh35up/DSyTQnPSJ/vjwR4CuhZaSAR8SgwFji11c6OFSM4DZIali1a0JpVm5mt99wRsdX1APARSS9JukrSQbm8BRHRl2yX3ktS2u7A1KI6GlL6CmlK5ovAH6uMZxqwa5m88bkpmK1SWudc2h2lDoqIsRFRHxH1Hbt0qzIcMzNriqdmbLVExEJJ+wADgYOBCZJGpeybc3+OqbLqq4A/RcTkKo9TE3memjEza2PcEbHVFhHLgEnAJEkzgS8VsvLF0p/PAfsAj+Ty9gFmFT5I+hGwDdlakmrtDZRaH2JmZm2Qp2ZstUjqI6l3Lqkf8Nf0/oTcn0+k9xcA5xemRiT1A4aTjYAg6RRgCDAsIpZXGctBZOtD/q/6MzEzs1rwiIitrq7A5ZI2B5YCr5B1Bo4AtpA0A3gPGAYQEXdL6gE8LimAt4EvRMTrqb5fk3VknpAEcHtE/KSJ9k9IX//tAswBPlfmGzOtom+PbjT4YV1mZq1G2ZcTzFqXpEagvvDtmHVFfX19NDQULzMxM7OmSJoaEfWl8jw1Y2ZmZjXjqRlbIyKirrXqkvRl4JtFyX+OiDNaqw0zM6sNd0SszYuI64Drah2HmZm1Pk/NmJmZWc24I2JmZmY1446ImZmZ1Yw7ImZmZlYzXqxqVoWZ8xZQN+q+WodRlUY/gM3M2jCPiJiZmVnNuCPSzkhaWPR5uKQr0vvRkubltrWfnh69Xih7ScrvUHT8G6nsC5JGSBqSO36hpBfT+xvKxDRI0oJcHRcV5W8taYmk09LnK1PZ5yQtzrV1rKRxkubk0h5v4loMlxSSDs2lHZ3Sji3XfkrbVNLswj45kjaUNFPSfs3/FMzMrLW4I7LuGRMR/XKv/wKkzscxwN+Ag4qOmRAR/YADgHOA5wrHAw3ASenzyU20OzmV3xs4QtIBubzjgL/wwX4zZ6SynwJm52K9LZUfmUvbv5nznQmcmPs8DHimqMxK7acY3ga+B1yRks4CHo+IJ5tpz8zMWpE7IuuPQcAs4GpyN+S8iJhPtmld95Y2EhGLgelAj1zyMOA7QA9JPVtadxmTgQFpRKMrsHNqP69k+xFxK4Ck7wKnkXVMzMxsLXJHpP3pnJ96AYp3ph2Ry380lz4MuBm4A/i0pA2LK5a0PdAJmNHS4CRtAfQG/pQ+fwToHhFPAbcCJ1RQzYW5cxjfTNkAHgKGAEcBdxfF01z73wTOB34WEf8uc06nSmqQ1LBs0YIKwjczs0q5I9L+LM5PvQA/LMrPT80cDCBpI7JpkDsj4i3gSbIbd8EJkmaQjYZcFRHvtiCugZKeAeYBEyPiH4W6yToAALdQZjSmSH5q5qQKyt9CNj1zIllnK6+59ocCrwN7lKs8IsZGRH1E1Hfs0q2CcMzMrFLuiKwfhgCbAzMlNQIHsvINeUJE7AnsD5wn6cMtaGNyROwF7A58RVK/lD4MGJ7avRvYs7BAtLWk0Y6+wNYR8VJRdtn2JW0HfAMYAHxK0p6tGZeZmTXPHZH1wzDglIioS7vi7ggcJqlLvlBENAA3supOtxWLiDnAecDZknYBukZEj1zbv6SyUZFqjQK+n0+ooP0xwC8iYi7wbeBKSVoDsZmZWRl+oNm6Z4SkL+Q+f55s+mHFV1cj4h1JjwFHljj+fGCapF+kb5a0xK/JvoUyjGxNSt7vgQmsurYl70JJP8h9HhAR7zfVYET8oURy2fYlPQFsD1yTjr9H0v8CJwPXl2unb49uNPgBYWZmrUYRUesYzNqN+vr6aGhoqHUYZmbtiqSpEVFfKs9TM2ZmZlYznpqxikkaQjZ1kzcnIo5Zw+1+mVXXrfw5Is5Yk+2amdma546IVSwiJgITa9DudcB1a7tdMzNb8zw1Y2ZmZjXjjoiZmZnVjDsiZmZmVjPuiJiZmVnNeLGqWRVmzltA3aj7ah1GWY1+2JqZtTMeEbG1StK2km6S9KqkqZKekHSMpEGSFuR3FpZ0aDomJF2cq+MsSaPT+9GS5qXyL0u6XdJuubKTJL2Yq/O2Esc9J2lNPHbezMya4Y6IrTVpH5c7gT9FRK+I2Idsx9yeqcjk/M7CEfFQSn8P+KykrctUXdhxuDfZ4+MfkbRNLv+kXJ3HFh8HHAX8RtKGrXWuZmZWGXdEbG0aDLwfEb8uJETEXyPi8maOWwqMBUY010BETAAeINtjpyIR8TKwCNii0mPMzKx1uCNia9PuwLQm8gcWTc3slMu7EjhJUrcK2pkG7Jr7PD5X54XFhSX1B16OiH9VchJmZtZ6vFjVakbSlcCBwPvASLKpmSNKlY2ItyTdAHwDWNxc1UWfT4qIUjvVjUiPj9+F0jsRF+I8FTgVoONm25QrZmZmLeAREVubZgH9Cx/SXjGHAJXe3S8BvgJs0ky5vYHnK6hvTETsDnwOuEZSp1KFImJsRNRHRH3HLpUMyJiZWaXcEbG16RGgk6Sv5dK6VHpwRPwbuJWsM1KSpM8BhwM3V1Hv3UAD8KVKjzEzs9bhjoitNRERwNHAQZLmSHoKuB44OxUpXiNybIlqLgaKvz0zovD1XeALwOCIeCOXn18j8hCl/QT4tiT/mzAzW4uU3RvMrBL19fXR0FBquYmZtUVLlixh7ty5vPvuu7UOZb3QqVMnevbsyYYbrvw0BElTI6K+1DFerGpmZuusuXPnsummm1JXV0f2KCNbUyKC+fPnM3fuXHbccceKj/MwtJmZrbPeffddttpqK3dC1gJJbLXVVlWPPrkjYmZm6zR3Qtaellxrd0TMzMysZrxGxMzM1hutvXt2JTted+3alYULF7Zqu01pbGzk8ccf5/Ofr3ini5ryiIiZmdk6YunSpTQ2NnLTTTfVOpSKuSNiZma2FkyaNImDDjqIo446il69ejFq1CjGjx/PgAED6Nu3L7NnzwZg+PDhnHbaadTX17PLLrtw7733AtnC2y9/+cv07duXvffem0cffRSAcePG8ZnPfIbBgwdzyCGHMGrUKCZPnky/fv0YM2YMjY2NDBw4kP79+9O/f38ef/zxFfEMGjSIY489ll133ZWTTjqJwiM9pkyZwv77789ee+3FgAEDePvtt1m2bBkjR45k3333Zc899+Q3v/lNq1wXT82YmZmtJc888wzPP/88W265Jb169eKUU07hqaee4tJLL+Xyyy/nkksuAbLplaeeeorZs2dz8MEH88orr3DllVciiZkzZ/LCCy9w+OGH89JLLwEwbdo0ZsyYwZZbbsmkSZO46KKLVnRgFi1axIMPPkinTp14+eWXGTZsGIXnIT399NPMmjWL7bbbjgMOOIA///nPDBgwgBNOOIEJEyaw77778tZbb9G5c2euueYaunXrxpQpU3jvvfc44IADOPzww6v6qm4p7oiYVWHmvAWtPsfclErmn82s/dh3333p3r07ADvttBOHH344AH379l0xwgFw/PHH06FDB3r37k2vXr144YUXeOyxx/j6178OwK677soOO+ywoiNy2GGHseWWW5Zsc8mSJZx55plMnz6djh07rjgGYMCAAfTs2ROAfv360djYSLdu3ejevTv77rsvAJttthkADzzwADNmzOC2224DYMGCBbz88svuiJiZmbUXG2+88Yr3HTp0WPG5Q4cOLF26dEVe8ddgm/ta7CablN8LdMyYMWy77bY888wzLF++nE6dPtjfMx9Px44dV4qhWERw+eWXM2TIkCZjqVabWSMiaVnaC+QZSdMk7Z/S6yQ9W6J8T0l3SXpZ0mxJl0raKJd/oKSnJL2QXqfm8kZLmlfYn0TS7ZJ2y+VPkvRiiuXPkvqUSJ8iqV/umEZJM3N7mlyW0j8m6cmU9ryk0Sl9W0n3prqek3R/Sh8k6d6icx1X2HelJTGUud7l4hou6Yr0vk9qr1BmrKQhufoXplimS7qhwut+VolYFube7yLp/vRzmSbpVknbljmHQZJC0im5tH4p7axc2gaS3pB0Xi6to6Spkj6RS3tA0nHlrpmZ2dryu9/9juXLlzN79mxeffVV+vTpw8CBAxk/fjwAL730Eq+99hp9+vRZ5dhNN92Ut99+e8XnBQsW0L17dzp06MCNN97IsmXLmmy7T58+vP7660yZMgWAt99+m6VLlzJkyBCuvvpqlixZsiKGd955Z7XPtS2NiCyOiH4AkoYAvwQOKlVQWdfwduDqiDhKUkdgLPBzYKSkDwM3AUdHxDRJWwMTJc2LiMK4+piIuCjVdwLwiKS+uc3SToqIhnQjvRD4TFH6l1P6YbnQDo6IN4vCvR44PiKeSXEW/tb8BHgwIi5NMexZxbWqNoZSysWVdxnZdborxdg3ImYCE9PnScBZEdGQPldy3cuS1Am4D/h2RNyT0gYB2wD/LHPYs8DxwG/T52HAM0VlDgNeAo6T9L3ILJN0OvB/kvYBjgWWR8TvmovTzNqv9jLduf322zNgwADeeustfv3rX9OpUydOP/10vva1r9G3b1822GADxo0bt9KIRsGee+5Jx44d2WuvvRg+fDinn346n/vc57jhhhsYOnRok6MnABtttBETJkzg61//OosXL6Zz58489NBDnHLKKTQ2NtK/f38igm222YY777xztc+1zWx6J2lhRHRN748ju9keLakOuDci9siVPQT4UUTkf5vdDJgDfAT4Htlmrz8sOmZ0RAxMv/0vLHREUv4NwNSIuDR/g5W0K3B7ROxWLj0d3wjUF3cCJP0H6BMR/ypKvxu4PiJ+X5Q+KLVxRC5tXLoGt7UkhjLXu1xcw1MdZ0qaAXw5IqaWqWNFLOnzT6nyuqcyCyOiq6T/AQZFxMnNxZ+OGwScBWwGHAf8C5gO3A/Mz3U0bwDuBb4GnBMRj+fq+A3wJvB54LCIeKWpNjfu3ju6f+mSSsJrFe3lP02ztur555/nox/9aK3DqMrw4cM54ogjOPbYUhuQt32lrrma2PSuzUzNAJ3TEP8LZL/d/rSJsrsDK90cI+It4DVg51L5QENKL2casGuJ9COBmSXShwLFXcFHc9MWI1LaGOBFSXdI+mr6rR/gSuAaSY9KOkfSdk3EVk6lMZRSLq7iMo9I+oOkEZI2byaellz3vD1KHF+J28g6IvuT/RzfK2Sk8zoUuAe4mWzEJO97wLeAm8p1QiSdKqlBUsOyRQtaEJ6ZmZXTVqdmPg7cIGmPZo5pTcUrgcZLWgw0Al8vSt8I6Ar0KzpmlWmRiPiJpPHA4WS/dQ8j+61/oqReZJ2JTwJPp/MtN0SVT68qhpKVlYmrqMx1kiamGI8Cvippr4h4r7i+GrsVmEDWkbyZrENScATwaEQslvR74FxJ34qIwiTpJ4AFZJ2gkiJiLNnUHxt37902hhDNbJ01bty4WoewVrWlEZEVIuIJYGuytQGlPAfsk09IUzPbA6+Uyk+fZzXR7N7A87nPJ0VEv4g4OiL+lk8HepGtsbi8mVMBICJmR8TVwCHAXpK2Sun/joibIuKLwBSym+J8YIuiKrYkmz5ocQzVxFVU5u8RcW1EHAUspYkbNi277nmzShzfrIj4B7CEbC3Iw0XZw4BD07TVVGArYDCApE2AC9LnD0n6VLVtm1nb11aWIKwPWnKt22RHJK196Eh2Uy7lYaCLpJNT+Y7AxcC4iFhENu0xXOkbJekGez7ZTadUe58jGxm4uZL4IrvS5wIfS7E2dS6fTotrAXoDy4D/ShosqUsqsymwE9nU0svAdpI+mvJ2APYiW/vQohiqiauozFBJG6b3Hya7ic9rotqqrnsJNwH7S1qxMELSJyocGfshcHZupKPQOR0IbB8RdRFRB5zBB9MzPwRujYgXgNOBMWWmqMysnerUqRPz5893Z2QtiAjmz5+/0teDK9GWpmY6SyrcbAV8KX2zAaCPpLm5siOAY4CrJJ1L1qG6H/g+QES8LukLZN+I2DTVd0nhmxiFOlKZTci+eTE4942ZZqWh/ouBkcBXUvKjkgo3whlp0eUXyW5wi8hGFE5K57UPcIWkpSn+30bEFIAU13XpprgEOCUiVlmcUEUMpZSLK1/mcOBSSe+mzyPT6EO5a1LJdf+BpG/ljulZdD5HAJdIuiSd+wzgm+XazB37eInkY4BHiqaS7gIukLRXyt8rHf90moY6G/hxuXb69uhGgxeQmrUbPXv2ZO7cubzxRsX/vdtq6NSp04oHpFWqzXxrxqw9qK+vj8Kjkc3MrDLt5VszZmZmtp5pS1MztgZIuhI4oCj50oi4rhbxtISyB9ydX5Q8JyKOqUU8ZmbWetwRWcdFxBm1jmF1RcRE0tNczcxs3eI1ImZVkPQ28GKt46jA1qz8le+2rL3E6jhbV3uJE9pPrG05zh0iouQjOTwiYladF8stuGpLJDW0hzih/cTqOFtXe4kT2k+s7SXOYl6samZmZjXjjoiZmZnVjDsiZtUZW+sAKtRe4oT2E6vjbF3tJU5oP7G2lzhX4sWqZmZmVjMeETEzM7OacUfEzMzMasYdEbMk7Tb8oqRXJI0qkb+xpAkp/0lJdbm876X0F9OTYNtcnJIOkzRV0sz05+C2GGcuf3tJCyWd1VbjlLSnpCckzUrXdY3u3rwaP/sNJV2fYnxe0vdqHOcnJE2TtFTSsUV5X5L0cnp9qS3GKalf7uc+Q9IJbTHOXP5mkuZKumJNxtliEeGXX+v9C+gIzAZ6ARsBzwC7FZU5Hfh1en8iMCG93y2V3xjYMdXTsQ3GuTewXXq/BzCvLV7PXP5twO+As9pinGTPYZoB7JU+b7Wmfu6tEOvngVvS+y5AI1BXwzjrgD2BG4Bjc+lbAq+mP7dI77dog3HuAvRO77cDXgc2b2tx5vIvBW4CrlhTfz9X5+UREbPMAOCViHg1It4HbgGOKipzFHB9en8bcIgkpfRbIuK9iJgDvJLqa1NxRsTTEfH3lD4L6Cxp47YWJ4Cko4E5Kc41aXXiPByYERHPAETE/IhY1kZjDWATSRsAnYH3gbdqFWdENEbEDGB50bFDgAcj4t8R8R/gQWBoW4szIl6KiJfT+78D/wJKPjW0lnECSNoH2BZ4YA3Ft9rcETHL9AD+lvs8N6WVLBMRS4EFZL8FV3JsW4gz73PAtIh4r63FKakrcDbw4zUUW6vESfZbcUiamIbFv9uGY70NeIfsN/fXgIsi4t81jHNNHFutVmlL0gCykYrZrRRXsRbHKakDcDGwRqc3V5cf8W62npG0O9luxofXOpYyRgNjImJhGiBpqzYADgT2BRYBD0uaGhEP1zaskgYAy8imEbYAJkt6KCJerW1Y7Zuk7sCNwJciYpXRiDbgdOD+iJjblv8teUTELDMP+Ejuc8+UVrJMGuLuBsyv8Ni2ECeSegJ3ACdHxJr6DW5149wPuEBSI/At4PuSzmyDcc4F/hQRb0bEIuB+oP8ainN1Y/088MeIWBIR/wL+DKypPUlW599DW/u3VJakzYD7gHMi4i+tHFve6sT5ceDM9G/pIuBkSee1bnirzx0Rs8wUoLekHSVtRLbQ7+6iMncDhVX8xwKPRLYS7G7gxPSNhR2B3sBTbS1OSZuT/cc5KiL+vIbiW+04I2JgRNRFRB1wCfCLiFhTq/1X5+c+EegrqUu66R8EPLeG4lzdWF8DBgNI2gT4GPBCDeMsZyJwuKQtJG1BNmo3sa3FmcrfAdwQEbetofgKWhxnRJwUEdunf0tnkcW7yrduaq7Wq2X98qutvIBPAS+RzfWek9J+Anwmve9E9i2OV8g6Gr1yx56TjnsR+GRbjPP/t3OvOAjEUBRA7wLQrAPDbhDAHnAINKtDMI5toDCIVkyqIa/inKRmkmle0k5y088kuaadE3is2na2Ooc+bvnjrZkfjPsh7UDtM8l91jmaZNOfL2lh6VJc5z5tRemdtmKzrN499/pfSU4z1tnH/TN8S7vZ6hz6OGbSWzN+8Q4AlLE1AwCUEUQAgDKCCABQRhABAMoIIgBAGUEEACgjiAAAZb6zu9DUlXX3LwAAAABJRU5ErkJggg==\n",
            "text/plain": [
              "<Figure size 432x288 with 1 Axes>"
            ]
          },
          "metadata": {
            "tags": [],
            "needs_background": "light"
          }
        }
      ]
    },
    {
      "cell_type": "code",
      "metadata": {
        "id": "TnEaa-BgZ330",
        "colab_type": "code",
        "colab": {
          "base_uri": "https://localhost:8080/",
          "height": 173
        },
        "outputId": "12848caa-714a-4f7f-96e1-f6cd30f9577a"
      },
      "source": [
        "def score(pred, real):\n",
        "    accuracy  = accuracy_score(pred, real)\n",
        "    roc_auc   = roc_auc_score(pred, real)\n",
        "    recall    = recall_score(pred, real)\n",
        "    specificity = tnr(final_clf, X_test, y_test)\n",
        "    return pd.DataFrame.from_dict(\n",
        "        {'True Negative Rate': specificity, 'Accuracy': accuracy, 'ROC_AUC': roc_auc, 'Recall': recall},\n",
        "        orient='index',\n",
        "        columns=['Score']\n",
        "    )\n",
        "\n",
        "score(final_clf.predict(X_test), y_test)"
      ],
      "execution_count": 42,
      "outputs": [
        {
          "output_type": "execute_result",
          "data": {
            "text/html": [
              "<div>\n",
              "<style scoped>\n",
              "    .dataframe tbody tr th:only-of-type {\n",
              "        vertical-align: middle;\n",
              "    }\n",
              "\n",
              "    .dataframe tbody tr th {\n",
              "        vertical-align: top;\n",
              "    }\n",
              "\n",
              "    .dataframe thead th {\n",
              "        text-align: right;\n",
              "    }\n",
              "</style>\n",
              "<table border=\"1\" class=\"dataframe\">\n",
              "  <thead>\n",
              "    <tr style=\"text-align: right;\">\n",
              "      <th></th>\n",
              "      <th>Score</th>\n",
              "    </tr>\n",
              "  </thead>\n",
              "  <tbody>\n",
              "    <tr>\n",
              "      <th>True Negative Rate</th>\n",
              "      <td>1.000000</td>\n",
              "    </tr>\n",
              "    <tr>\n",
              "      <th>Accuracy</th>\n",
              "      <td>0.671053</td>\n",
              "    </tr>\n",
              "    <tr>\n",
              "      <th>ROC_AUC</th>\n",
              "      <td>0.826389</td>\n",
              "    </tr>\n",
              "    <tr>\n",
              "      <th>Recall</th>\n",
              "      <td>1.000000</td>\n",
              "    </tr>\n",
              "  </tbody>\n",
              "</table>\n",
              "</div>"
            ],
            "text/plain": [
              "                       Score\n",
              "True Negative Rate  1.000000\n",
              "Accuracy            0.671053\n",
              "ROC_AUC             0.826389\n",
              "Recall              1.000000"
            ]
          },
          "metadata": {
            "tags": []
          },
          "execution_count": 42
        }
      ]
    },
    {
      "cell_type": "markdown",
      "metadata": {
        "id": "ZiDVtPcZZ335",
        "colab_type": "text"
      },
      "source": [
        "### 6. Conclusions"
      ]
    },
    {
      "cell_type": "markdown",
      "metadata": {
        "id": "Z-87gPkVZ335",
        "colab_type": "text"
      },
      "source": [
        "The final model is relatively simple, containing only 12 features, but good at predicting which COVID-19 patients won't need ICU admission as part of their care, with high specificity.\n",
        "\n",
        "Better performance was achieved through feature engineering clinical known measurements, like Mean Arterial Pressure and Pulse Pressure, which showed great importance in the final model."
      ]
    }
  ]
}
